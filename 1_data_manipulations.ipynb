{
 "cells": [
  {
   "cell_type": "markdown",
   "id": "6d6010da",
   "metadata": {},
   "source": [
    "# How to complete this assignment\n",
    "First, download [this Kaggle dataset](https://www.kaggle.com/hugomathien/soccer) and extract *sqlite* database. You may need to register at https://www.kaggle.com/ beforehand. Then complete 15 graded tasks below, the score is given in brackets. Finally submit the resulting `.ipynb` file to rs-app Auto-test.\n",
    "\n",
    "- Do not delete or rename the variables given before the inscription `#your code here`, they are needed for the correct verification.\n",
    "- Do not change the code in the last Notebook cell, it is required for the server check.\n",
    "- Your Notebook must run completely without errors to be graded! Please check everything before submission by going *Cell -> Run All*"
   ]
  },
  {
   "cell_type": "markdown",
   "id": "0dbd5f9a",
   "metadata": {},
   "source": [
    "## Some important notes\n",
    "- If you need to **calculate the number of \"something\"** that means we expect you to assign an Integer to the given variable\n",
    "- If you need to **make a list of \"something\"** we expect you to assign a Python list with appropriate values to the given variable\n",
    "- If you need to find a **specifiс player, day of the week, team, etc.** we expect you to assign a String with the full name of the entity to the given variable (`player_name`, day of week full name, `team_name`, etc.)"
   ]
  },
  {
   "cell_type": "code",
   "execution_count": 126,
   "id": "f52b1bac",
   "metadata": {},
   "outputs": [],
   "source": [
    "import sqlite3\n",
    "import pandas as pd\n",
    "import numpy as np\n",
    "import os\n",
    "\n",
    "pd.set_option('display.max_column', None)"
   ]
  },
  {
   "cell_type": "code",
   "execution_count": 2,
   "id": "8ebe6afd",
   "metadata": {},
   "outputs": [],
   "source": [
    "# Leave that code unchanged, it is required for the server check!\n",
    "db = sqlite3.connect(os.environ.get(\"DB_PATH\") or 'database.sqlite')"
   ]
  },
  {
   "cell_type": "code",
   "execution_count": 3,
   "id": "9860d0d0",
   "metadata": {},
   "outputs": [],
   "source": [
    "# You may load the data from SQL table directly to the Pandas dataframe as\n",
    "player_data = pd.read_sql(\"SELECT * FROM Player;\", db)"
   ]
  },
  {
   "cell_type": "code",
   "execution_count": 4,
   "id": "7e69a7af",
   "metadata": {},
   "outputs": [
    {
     "data": {
      "text/html": [
       "<div>\n",
       "<style scoped>\n",
       "    .dataframe tbody tr th:only-of-type {\n",
       "        vertical-align: middle;\n",
       "    }\n",
       "\n",
       "    .dataframe tbody tr th {\n",
       "        vertical-align: top;\n",
       "    }\n",
       "\n",
       "    .dataframe thead th {\n",
       "        text-align: right;\n",
       "    }\n",
       "</style>\n",
       "<table border=\"1\" class=\"dataframe\">\n",
       "  <thead>\n",
       "    <tr style=\"text-align: right;\">\n",
       "      <th></th>\n",
       "      <th>id</th>\n",
       "      <th>player_api_id</th>\n",
       "      <th>player_name</th>\n",
       "      <th>player_fifa_api_id</th>\n",
       "      <th>birthday</th>\n",
       "      <th>height</th>\n",
       "      <th>weight</th>\n",
       "    </tr>\n",
       "  </thead>\n",
       "  <tbody>\n",
       "    <tr>\n",
       "      <th>0</th>\n",
       "      <td>1</td>\n",
       "      <td>505942</td>\n",
       "      <td>Aaron Appindangoye</td>\n",
       "      <td>218353</td>\n",
       "      <td>1992-02-29 00:00:00</td>\n",
       "      <td>182.88</td>\n",
       "      <td>187</td>\n",
       "    </tr>\n",
       "    <tr>\n",
       "      <th>1</th>\n",
       "      <td>2</td>\n",
       "      <td>155782</td>\n",
       "      <td>Aaron Cresswell</td>\n",
       "      <td>189615</td>\n",
       "      <td>1989-12-15 00:00:00</td>\n",
       "      <td>170.18</td>\n",
       "      <td>146</td>\n",
       "    </tr>\n",
       "    <tr>\n",
       "      <th>2</th>\n",
       "      <td>3</td>\n",
       "      <td>162549</td>\n",
       "      <td>Aaron Doran</td>\n",
       "      <td>186170</td>\n",
       "      <td>1991-05-13 00:00:00</td>\n",
       "      <td>170.18</td>\n",
       "      <td>163</td>\n",
       "    </tr>\n",
       "    <tr>\n",
       "      <th>3</th>\n",
       "      <td>4</td>\n",
       "      <td>30572</td>\n",
       "      <td>Aaron Galindo</td>\n",
       "      <td>140161</td>\n",
       "      <td>1982-05-08 00:00:00</td>\n",
       "      <td>182.88</td>\n",
       "      <td>198</td>\n",
       "    </tr>\n",
       "    <tr>\n",
       "      <th>4</th>\n",
       "      <td>5</td>\n",
       "      <td>23780</td>\n",
       "      <td>Aaron Hughes</td>\n",
       "      <td>17725</td>\n",
       "      <td>1979-11-08 00:00:00</td>\n",
       "      <td>182.88</td>\n",
       "      <td>154</td>\n",
       "    </tr>\n",
       "  </tbody>\n",
       "</table>\n",
       "</div>"
      ],
      "text/plain": [
       "   id  player_api_id         player_name  player_fifa_api_id  \\\n",
       "0   1         505942  Aaron Appindangoye              218353   \n",
       "1   2         155782     Aaron Cresswell              189615   \n",
       "2   3         162549         Aaron Doran              186170   \n",
       "3   4          30572       Aaron Galindo              140161   \n",
       "4   5          23780        Aaron Hughes               17725   \n",
       "\n",
       "              birthday  height  weight  \n",
       "0  1992-02-29 00:00:00  182.88     187  \n",
       "1  1989-12-15 00:00:00  170.18     146  \n",
       "2  1991-05-13 00:00:00  170.18     163  \n",
       "3  1982-05-08 00:00:00  182.88     198  \n",
       "4  1979-11-08 00:00:00  182.88     154  "
      ]
     },
     "execution_count": 4,
     "metadata": {},
     "output_type": "execute_result"
    }
   ],
   "source": [
    "player_data.head()"
   ]
  },
  {
   "cell_type": "markdown",
   "id": "f8b23f3a",
   "metadata": {},
   "source": [
    "**Task 1 (0.25 point).** Calculate the number of players with a height between 180 and 190 inclusive"
   ]
  },
  {
   "cell_type": "code",
   "execution_count": 5,
   "id": "7cd6f780",
   "metadata": {},
   "outputs": [],
   "source": [
    "players_180_190 = int(player_data[(player_data.height >= 180) & (player_data.height <= 190)]['player_api_id'].count())"
   ]
  },
  {
   "cell_type": "code",
   "execution_count": 6,
   "id": "9d058065",
   "metadata": {},
   "outputs": [],
   "source": [
    "assert(isinstance(players_180_190, int))"
   ]
  },
  {
   "cell_type": "markdown",
   "id": "5a39f3bc",
   "metadata": {},
   "source": [
    "**Task 2 (0.25 point).** Calculate the number of players born in 1980. <br>\n",
    "**Hint:** you may want to cast your 'birthday' column to DateTime type by [pandas.to_datetime](https://pandas.pydata.org/docs/reference/api/pandas.to_datetime.html)"
   ]
  },
  {
   "cell_type": "code",
   "execution_count": 7,
   "id": "ff21f7a2",
   "metadata": {},
   "outputs": [],
   "source": [
    "player_data['birthday'] = pd.to_datetime(player_data['birthday'])\n",
    "players_1980 = int(player_data[player_data.birthday.dt.year == 1980]['player_api_id'].count())"
   ]
  },
  {
   "cell_type": "code",
   "execution_count": 8,
   "id": "e53cc066",
   "metadata": {},
   "outputs": [],
   "source": [
    "assert(isinstance(players_1980, int))"
   ]
  },
  {
   "cell_type": "markdown",
   "id": "70d1dea0",
   "metadata": {},
   "source": [
    "**Task 3 (0.25 point).** Make a list of the top 10 players with the highest weight sorted in descending order. If there are several players with the same weight put them in the lexicographic order by name."
   ]
  },
  {
   "cell_type": "code",
   "execution_count": 9,
   "id": "b0dbdaf5",
   "metadata": {},
   "outputs": [],
   "source": [
    "highest_players = [i for i in player_data.sort_values(['weight', 'player_name'], ascending=[False, True]).iloc[:10]['player_name']]"
   ]
  },
  {
   "cell_type": "code",
   "execution_count": 10,
   "id": "40dabe0d",
   "metadata": {},
   "outputs": [],
   "source": [
    "assert(len(highest_players) == 10)\n",
    "assert(isinstance(highest_players, list))\n",
    "for i in range(10):\n",
    "    assert(isinstance(highest_players[i], str))"
   ]
  },
  {
   "cell_type": "markdown",
   "id": "ff30607f",
   "metadata": {},
   "source": [
    "**Task 4 (0.5 point).** Make a list of tuples containing years along with the number of players born in that year from 1980 up to 1990. <br>\n",
    "**Structure example**: [(1980, 123), (1981, 140) ..., (1990, 83)] -> There were born 123 players in 1980, there were born 140 players in 1981 and etc."
   ]
  },
  {
   "cell_type": "code",
   "execution_count": 11,
   "id": "9b609f1c",
   "metadata": {},
   "outputs": [],
   "source": [
    "cnt_player_year = player_data[(player_data.birthday.dt.year >= 1980) & (player_data.birthday.dt.year <= 1990)]\\\n",
    "                             .groupby(player_data.birthday.dt.year)['player_api_id'].count().reset_index()\n",
    "\n",
    "years_born_players = [(int(row['birthday']), int(row['player_api_id'])) for idx, row in cnt_player_year.iterrows()]"
   ]
  },
  {
   "cell_type": "code",
   "execution_count": 12,
   "id": "64cbf754",
   "metadata": {},
   "outputs": [],
   "source": [
    "assert(len(years_born_players) == 11)\n",
    "assert(isinstance(years_born_players, list))\n",
    "for i in range(10):\n",
    "    assert(isinstance(years_born_players[i], tuple))\n",
    "    assert(isinstance(years_born_players[i][0], int))\n",
    "    assert(isinstance(years_born_players[i][1], int))"
   ]
  },
  {
   "cell_type": "markdown",
   "id": "33cbd931",
   "metadata": {},
   "source": [
    "**Task 5 (0.5 point).** Calculate the mean and the standard deviation of the players' **height** with the name **Adriano**. <br>\n",
    "**Note:** Name is represented by the first part of `player_name`."
   ]
  },
  {
   "cell_type": "code",
   "execution_count": 13,
   "id": "614fac31",
   "metadata": {},
   "outputs": [],
   "source": [
    "adriano_mean = player_data[player_data.player_name.str.split(' ').str[0] == \"Adriano\"]['height'].mean()\n",
    "adriano_std = player_data[player_data.player_name.str.split(' ').str[0] == \"Adriano\"]['height'].std()"
   ]
  },
  {
   "cell_type": "code",
   "execution_count": 14,
   "id": "f508c49f",
   "metadata": {},
   "outputs": [],
   "source": [
    "assert(isinstance(adriano_mean, float))\n",
    "assert(isinstance(adriano_std, float))"
   ]
  },
  {
   "cell_type": "markdown",
   "id": "8a361dfd",
   "metadata": {},
   "source": [
    "**Task 6 (0.75 point).** How many players were born on each day of the week? Find the day of the week with the minimum number of players born."
   ]
  },
  {
   "cell_type": "code",
   "execution_count": 15,
   "id": "c140be4f",
   "metadata": {},
   "outputs": [],
   "source": [
    "week = ['Monday', \n",
    "        'Tuesday', \n",
    "        'Wednesday', \n",
    "        'Thursday',  \n",
    "        'Friday', \n",
    "        'Saturday',\n",
    "        'Sunday']\n",
    "\n",
    "dow_with_min_players_born = week[player_data.groupby(player_data.birthday.dt.weekday)['player_api_id'].count().reset_index()\\\n",
    "                                            .sort_values(['player_api_id'])\\\n",
    "                                            .iloc[0]['birthday']]"
   ]
  },
  {
   "cell_type": "code",
   "execution_count": 16,
   "id": "fc041623",
   "metadata": {},
   "outputs": [],
   "source": [
    "assert(isinstance(dow_with_min_players_born, str))"
   ]
  },
  {
   "cell_type": "markdown",
   "id": "dc7428be",
   "metadata": {},
   "source": [
    "**Task 7 (0.75 point).** Find a league with the most matches in total. If there are several leagues with the same amount of matches, take the first in the lexical order."
   ]
  },
  {
   "cell_type": "code",
   "execution_count": 17,
   "id": "4b2969ab",
   "metadata": {},
   "outputs": [],
   "source": [
    "league_data = pd.read_sql(\"SELECT * FROM League;\", db)\n",
    "match_data = pd.read_sql('''SELECT m.*, l.name\n",
    "                            FROM Match m\n",
    "                            JOIN League l ON l.country_id = m.country_id;''', db)"
   ]
  },
  {
   "cell_type": "code",
   "execution_count": 18,
   "id": "ff3113ac",
   "metadata": {},
   "outputs": [],
   "source": [
    "league_most_matches = str(match_data.groupby(match_data.name)['match_api_id'].count().reset_index()\\\n",
    "                                    .sort_values(['match_api_id', 'name'], ascending=[False, True])\\\n",
    "                                    .iloc[0]['name'])"
   ]
  },
  {
   "cell_type": "code",
   "execution_count": 19,
   "id": "390a265b",
   "metadata": {},
   "outputs": [],
   "source": [
    "assert(isinstance(league_most_matches, str))"
   ]
  },
  {
   "cell_type": "markdown",
   "id": "97199b7d",
   "metadata": {},
   "source": [
    "**Task 8 (1.25 point).** Find a player who participated in the largest number of matches during the whole match history. Assign a `player_name` to the given variable"
   ]
  },
  {
   "cell_type": "code",
   "execution_count": 20,
   "id": "0faf6adf",
   "metadata": {},
   "outputs": [],
   "source": [
    "columns_match = ['home_player_' + str(i) for i in range(1,12)] + ['away_player_' + str(i) for i in range(1,12)] + ['match_api_id']\n",
    "player_match = match_data[columns_match].copy()\n",
    "\n",
    "all_player_match = pd.DataFrame(columns=['player_api_id', 'match_api_id'])\n",
    "for column in columns_match[:-1]:\n",
    "    all_player_match = pd.concat([all_player_match, player_match[[column, 'match_api_id']].rename(columns={column: 'player_api_id'})], ignore_index=True)\n",
    "\n",
    "all_player_match.dropna(inplace=True)\n",
    "\n",
    "id_player = all_player_match.groupby(all_player_match.player_api_id)['match_api_id'].count().reset_index()\\\n",
    "                                                     .sort_values(['match_api_id'], ascending=False)\\\n",
    "                                                     .iloc[0]['player_api_id']"
   ]
  },
  {
   "cell_type": "code",
   "execution_count": 21,
   "id": "ec31bc69",
   "metadata": {},
   "outputs": [],
   "source": [
    "max_matches_player = player_data[player_data.player_api_id == int(id_player)]['player_name'].iloc[0]"
   ]
  },
  {
   "cell_type": "code",
   "execution_count": 22,
   "id": "00ec2e89",
   "metadata": {},
   "outputs": [],
   "source": [
    "assert(isinstance(max_matches_player, str))"
   ]
  },
  {
   "cell_type": "markdown",
   "id": "dbc68bfe",
   "metadata": {},
   "source": [
    "**Task 9 (1.5 point).** List top-5 tuples of most correlated **player's characteristics** in the descending order of the absolute [Pearson's coefficient](https://en.wikipedia.org/wiki/Pearson_correlation_coefficient) value.\n",
    "\n",
    "**Note 1:** Players characteristics are all the columns in `Player_Attributes` table except `[id, player_fifa_api_id, player_api_id, date, preferred_foot, attacking_work_rate, defensive_work_rate]`). <br>\n",
    "**Note 2:** Exclude duplicated pairs from the list. E.g. ('gk_handling', 'gk_reflexes') and ('gk_reflexes', 'gk_handling') are duplicates, leave just one of them in the resulting list.\n",
    "\n",
    "**Hint:** You may use [dataframe.corr()](https://pandas.pydata.org/docs/reference/api/pandas.DataFrame.corr.html) for calculating pairwise Pearson correlation."
   ]
  },
  {
   "cell_type": "code",
   "execution_count": 275,
   "id": "7ad024cb",
   "metadata": {},
   "outputs": [],
   "source": [
    "player_attr_data = pd.read_sql(\"SELECT * FROM Player_Attributes;\", db)"
   ]
  },
  {
   "cell_type": "code",
   "execution_count": 276,
   "id": "42aab6fa",
   "metadata": {},
   "outputs": [],
   "source": [
    "column_attr = [i for i in player_attr_data.columns \\\n",
    "               if i not in ['id', 'player_fifa_api_id', 'player_api_id', \\\n",
    "                            'date', 'preferred_foot', 'attacking_work_rate', 'defensive_work_rate']]\n",
    "\n",
    "corr_player_attr = player_attr_data[column_attr].corr().reset_index()\n",
    "corr_player_attr2 = pd.DataFrame(columns=['attrs', 'corr']) \n",
    "for idx, column in enumerate(column_attr[:-1]):\n",
    "    df = corr_player_attr[['index', column]].iloc[idx+1:].rename(columns={column: 'corr'})\n",
    "    df['attrs'] = df['index'].apply(lambda x: (x, column))\n",
    "    df.drop('index', inplace=True, axis=1)\n",
    "    corr_player_attr2 = pd.concat([corr_player_attr2, df], ignore_index=True)"
   ]
  },
  {
   "cell_type": "code",
   "execution_count": 277,
   "id": "70dac547",
   "metadata": {},
   "outputs": [],
   "source": [
    "top_correlated_features = [row['attrs'] for idx, row in corr_player_attr2.sort_values('corr', ascending=False).iloc[:5].iterrows()]"
   ]
  },
  {
   "cell_type": "code",
   "execution_count": 79,
   "id": "67acd6bf",
   "metadata": {},
   "outputs": [],
   "source": [
    "assert(len(top_correlated_features) == 5)\n",
    "assert(isinstance(top_correlated_features, list))\n",
    "for i in range(5):\n",
    "    assert(isinstance(top_correlated_features[i], tuple))\n",
    "    assert(isinstance(top_correlated_features[i][0], str))\n",
    "    assert(isinstance(top_correlated_features[i][1], str))"
   ]
  },
  {
   "cell_type": "markdown",
   "id": "7d3d8fd3",
   "metadata": {},
   "source": [
    "**Task 10 (2 points).** Find top-5 most similar players to **Neymar** whose names are given. The similarity is measured as [Euclidean distance](https://en.wikipedia.org/wiki/Euclidean_distance) between vectors of players' characteristics (described in the task above). Put their names in a vector in ascending order by Euclidean distance and sorted by `player_name` if the distance is the same<br>\n",
    "**Note 1:** There are many records for some players in the `Player_Attributes` table. You need to take the freshest data (characteristics with the most recent `date`). <br>\n",
    "**Note 2:** Use pure values of the characteristics even if you are aware of such preprocessing technics as normalization. <br>\n",
    "**Note 3:** Please avoid using any built-in methods for calculating the Euclidean distance between vectors, think about implementing your own."
   ]
  },
  {
   "cell_type": "code",
   "execution_count": 118,
   "id": "1b4c0422",
   "metadata": {},
   "outputs": [],
   "source": [
    "#player_data[player_data.player_name == 'Neymar'] 19533"
   ]
  },
  {
   "cell_type": "code",
   "execution_count": 147,
   "id": "efec560c",
   "metadata": {},
   "outputs": [],
   "source": [
    "def neymar_distance(player):\n",
    "    square = np.square(neymar[column_attr].values - player[column_attr].values)\n",
    "    sum_square = np.sum(square)\n",
    "    distance = np.sqrt(sum_square)\n",
    "    \n",
    "    return distance\n",
    "\n",
    "\n",
    "player_attr_data['date'] = pd.to_datetime(player_attr_data['date'])\n",
    "player_late_date = pd.DataFrame(columns=['player_api_id'] + column_attr)\n",
    "\n",
    "for player in [i for i in player_attr_data.player_api_id.unique()]:\n",
    "    df = player_attr_data[player_attr_data.player_api_id == player]\\\n",
    "                       .sort_values('date', ascending=False).iloc[[0]][['player_api_id'] + column_attr]\n",
    "    player_late_date = pd.concat([player_late_date, df])\n",
    "\n",
    "    \n",
    "neymar = player_late_date[player_late_date.player_api_id == 19533]\n",
    "player_late_date.drop(player_late_date[player_late_date.player_api_id == 19533].index, inplace=True, axis=0)\n",
    "\n",
    "player_late_date['neymar_distance'] = player_late_date.apply(neymar_distance, axis=1)\n",
    "\n",
    "neymar_similarities = [row['player_name'] for idx, row in \\\n",
    "                       pd.merge(player_late_date, player_data[['player_api_id', 'player_name']], on='player_api_id') \\\n",
    "                       .dropna() \\\n",
    "                       .sort_values(['neymar_distance', 'player_name']).iloc[:5].iterrows()]"
   ]
  },
  {
   "cell_type": "code",
   "execution_count": 154,
   "id": "ddb1876a",
   "metadata": {},
   "outputs": [],
   "source": [
    "assert(len(neymar_similarities) == 5)\n",
    "assert(isinstance(neymar_similarities, list))\n",
    "for i in range(5):\n",
    "    assert(isinstance(neymar_similarities[i], str))"
   ]
  },
  {
   "cell_type": "markdown",
   "id": "a3a7f878",
   "metadata": {},
   "source": [
    "**Task 11 (1 point).** Calculate the number of home matches played by the **Borussia Dortmund** team in **Germany 1. Bundesliga** in season **2008/2009**"
   ]
  },
  {
   "cell_type": "code",
   "execution_count": 171,
   "id": "e4ff35e0",
   "metadata": {},
   "outputs": [],
   "source": [
    "team_data = pd.read_sql(\"SELECT * FROM Team;\", db)\n",
    "match_home = pd.merge(match_data, team_data[['team_long_name', 'team_api_id']].rename(columns={'team_long_name':'team_long_name_home'}), \\\n",
    "                      left_on='home_team_api_id', right_on='team_api_id')\n",
    "\n",
    "\n",
    "\n",
    "borussia_bundesliga_2008_2009_matches = int(match_home[(match_home.season == '2008/2009') \\\n",
    "                                                   & (match_home.name == 'Germany 1. Bundesliga') \\\n",
    "                                                   & (match_home.team_long_name_home == 'Borussia Dortmund')].count().iloc[0])"
   ]
  },
  {
   "cell_type": "code",
   "execution_count": 169,
   "id": "488fdd4c",
   "metadata": {},
   "outputs": [],
   "source": [
    "assert(isinstance(borussia_bundesliga_2008_2009_matches, int))"
   ]
  },
  {
   "cell_type": "markdown",
   "id": "69dca9a5",
   "metadata": {},
   "source": [
    "**Task 12 (1 point).** Find a team having the most matches (both home and away!) in the **Germany 1. Bundesliga** in **2008/2009** season. Return number of matches."
   ]
  },
  {
   "cell_type": "code",
   "execution_count": 194,
   "id": "0095eaeb",
   "metadata": {},
   "outputs": [],
   "source": [
    "match_home_away = pd.merge(match_home, team_data[['team_long_name', 'team_api_id']].rename(columns={'team_long_name':'team_long_name_away'}), \\\n",
    "                      left_on='away_team_api_id', right_on='team_api_id')\n",
    "\n",
    "match_home_away_bundesliga_2008_2009 = match_home_away[(match_home_away.season == '2008/2009') \\\n",
    "                                                        & (match_home_away.name == 'Germany 1. Bundesliga')]\n",
    "\n",
    "cnt_home_bundesliga_2008_2009 = match_home_away_bundesliga_2008_2009.groupby('team_long_name_home')['match_api_id'].count().reset_index()\n",
    "cnt_away_bundesliga_2008_2009 = match_home_away_bundesliga_2008_2009.groupby('team_long_name_away')['match_api_id'].count().reset_index()"
   ]
  },
  {
   "cell_type": "code",
   "execution_count": 195,
   "id": "652dba4d",
   "metadata": {},
   "outputs": [],
   "source": [
    "total_away_home_bundesliga_2008_2009 = pd.merge(cnt_home_bundesliga_2008_2009.rename(columns={'match_api_id':'cnt_home'}), \\\n",
    "                                                cnt_away_bundesliga_2008_2009.rename(columns={'match_api_id':'cnt_away'}), \\\n",
    "                                                left_on='team_long_name_home', \n",
    "                                                right_on='team_long_name_away')\n",
    "total_away_home_bundesliga_2008_2009['total'] = total_away_home_bundesliga_2008_2009['cnt_home'] + \\\n",
    "                                                total_away_home_bundesliga_2008_2009['cnt_away']\n",
    "\n",
    "team_most_matches_bundesliga_2008_2009 = int(total_away_home_bundesliga_2008_2009['total'].max())"
   ]
  },
  {
   "cell_type": "code",
   "execution_count": 196,
   "id": "ef3b8fa2",
   "metadata": {},
   "outputs": [],
   "source": [
    "assert(isinstance(team_most_matches_bundesliga_2008_2009, int))"
   ]
  },
  {
   "cell_type": "markdown",
   "id": "2f3c65aa",
   "metadata": {},
   "source": [
    "**Task 13 (1 point).** Count total number of **Arsenal** matches (both home and away!) in the **2015/2016** season which they have won. <br><br>\n",
    "**Note:** Winning a game means scoring **more** goals than an opponent."
   ]
  },
  {
   "cell_type": "code",
   "execution_count": 205,
   "id": "a4bdf997",
   "metadata": {},
   "outputs": [],
   "source": [
    "match_arsenal_2015_2016 = match_home_away[(match_home_away.season == '2015/2016') \\\n",
    "                          & (((match_home_away.team_long_name_home == 'Arsenal') & (match_home_away.home_team_goal > match_home_away.away_team_goal)) \\\n",
    "                          |  ((match_home_away.team_long_name_away == 'Arsenal') & (match_home_away.home_team_goal < match_home_away.away_team_goal)))]\n",
    "\n",
    "arsenal_won_matches_2015_2016 = int(match_arsenal_2015_2016.count().iloc[0])"
   ]
  },
  {
   "cell_type": "code",
   "execution_count": 204,
   "id": "214d9689",
   "metadata": {},
   "outputs": [],
   "source": [
    "assert(isinstance(arsenal_won_matches_2015_2016, int))"
   ]
  },
  {
   "cell_type": "markdown",
   "id": "d70d5b23",
   "metadata": {},
   "source": [
    "**Task 14 (2 points).** Find a team with the highest win rate in the **2015/2016** season. Win rate means won matches / all matches. If there are several teams with the highest win rate return the first by name in lexical order"
   ]
  },
  {
   "cell_type": "code",
   "execution_count": 240,
   "id": "060212f9",
   "metadata": {},
   "outputs": [],
   "source": [
    "match_2015_2016 = match_home_away[(match_home_away.season == '2015/2016')]"
   ]
  },
  {
   "cell_type": "code",
   "execution_count": 241,
   "id": "4889563a",
   "metadata": {},
   "outputs": [],
   "source": [
    "cnt_home_2015_2016 = match_2015_2016.groupby('team_long_name_home')['match_api_id'].count().reset_index()\n",
    "cnt_away_2015_2016 = match_2015_2016.groupby('team_long_name_away')['match_api_id'].count().reset_index()\n",
    "\n",
    "total_away_home_2015_2016 = pd.merge(cnt_home_2015_2016.rename(columns={'match_api_id':'cnt_home'}), \\\n",
    "                                    cnt_away_2015_2016.rename(columns={'match_api_id':'cnt_away'}), \\\n",
    "                                    left_on='team_long_name_home', \n",
    "                                    right_on='team_long_name_away')\n",
    "\n",
    "total_away_home_2015_2016['total'] = total_away_home_2015_2016['cnt_home'] + total_away_home_2015_2016['cnt_away']"
   ]
  },
  {
   "cell_type": "code",
   "execution_count": 242,
   "id": "b72bee1c",
   "metadata": {},
   "outputs": [],
   "source": [
    "match_2015_2016_win_home = match_2015_2016[(match_2015_2016.home_team_goal > match_2015_2016.away_team_goal)] \\\n",
    "                           .groupby('team_long_name_home')['match_api_id'].count().reset_index()\n",
    "\n",
    "total_away_home_2015_2016 = pd.merge(total_away_home_2015_2016, \\\n",
    "                                     match_2015_2016_win_home.rename(columns={'match_api_id':'cnt_win_home'}), \\\n",
    "                                     on='team_long_name_home')\n",
    "\n",
    "match_2015_2016_win_away = match_2015_2016[(match_2015_2016.home_team_goal < match_2015_2016.away_team_goal)] \\\n",
    "                           .groupby('team_long_name_away')['match_api_id'].count().reset_index()\n",
    "\n",
    "total_away_home_2015_2016 = pd.merge(total_away_home_2015_2016, \\\n",
    "                                     match_2015_2016_win_away.rename(columns={'match_api_id':'cnt_win_away'}), \\\n",
    "                                     on='team_long_name_away')\n",
    "\n",
    "total_away_home_2015_2016['total_win'] = total_away_home_2015_2016['cnt_win_away'] + total_away_home_2015_2016['cnt_win_home']\n",
    "total_away_home_2015_2016['koef'] = total_away_home_2015_2016['total_win'] / total_away_home_2015_2016['total']\n",
    "\n",
    "team_highest_winrate_2015_2016 = total_away_home_2015_2016 \\\n",
    "                                .sort_values(['koef', 'team_long_name_home'], ascending=[False, True])['team_long_name_home'] \\\n",
    "                                .iloc[0]"
   ]
  },
  {
   "cell_type": "code",
   "execution_count": 244,
   "id": "b4cc8e46",
   "metadata": {},
   "outputs": [],
   "source": [
    "assert(isinstance(team_highest_winrate_2015_2016, str))"
   ]
  },
  {
   "cell_type": "markdown",
   "id": "f7f3b4f5",
   "metadata": {},
   "source": [
    "**Task 15 (2 points).** Determine the team with the maximum days' gap between matches in **England Premier League 2010/2011 season**. Return number of days in that gap. <br>\n",
    "**Note**: a *gap* means the number of days between two consecutive matches of the same team."
   ]
  },
  {
   "cell_type": "code",
   "execution_count": 272,
   "id": "70067d10",
   "metadata": {},
   "outputs": [],
   "source": [
    "match_home_away['date'] = pd.to_datetime(match_home_away['date'])\n",
    "match_data_england_2010_2011 = match_home_away[(match_home_away.season == '2010/2011') \\\n",
    "                                                & (match_home_away.name == 'England Premier League')]"
   ]
  },
  {
   "cell_type": "code",
   "execution_count": 273,
   "id": "db773f17",
   "metadata": {},
   "outputs": [],
   "source": [
    "highest_gap_england_2010_2011 = 0\n",
    "\n",
    "for team in [i for i in match_data_england_2010_2011.team_long_name_home.unique()]:\n",
    "    df = match_data_england_2010_2011[(match_data_england_2010_2011.team_long_name_home == team) \\\n",
    "                                      | (match_data_england_2010_2011.team_long_name_away == team)].sort_values('date')\n",
    "          \n",
    "    max_day = df['date'].diff().max().days\n",
    "    if max_day > highest_gap_england_2010_2011:\n",
    "        highest_gap_england_2010_2011 = max_day"
   ]
  },
  {
   "cell_type": "code",
   "execution_count": 274,
   "id": "5f7aa84e",
   "metadata": {},
   "outputs": [],
   "source": [
    "assert(isinstance(highest_gap_england_2010_2011, int))"
   ]
  },
  {
   "cell_type": "markdown",
   "id": "acecc77f",
   "metadata": {},
   "source": [
    "### Warning! Do not change anything in the area below"
   ]
  },
  {
   "cell_type": "code",
   "execution_count": 37,
   "id": "94c3b9be",
   "metadata": {},
   "outputs": [],
   "source": [
    "with open('student_answers.txt', 'w') as file:\n",
    "    file.write(f\"{players_180_190}\\n\")\n",
    "    file.write(f\"{players_1980}\\n\")\n",
    "    file.write(f\"{highest_players}\\n\")\n",
    "    file.write(f\"{years_born_players}\\n\")\n",
    "    file.write(f\"{round(adriano_mean, 3)} {round(adriano_std, 3)}\\n\")\n",
    "    file.write(f\"{dow_with_min_players_born}\\n\")\n",
    "    file.write(f\"{league_most_matches}\\n\")\n",
    "    file.write(f\"{max_matches_player}\\n\")\n",
    "    file.write(f\"{';'.join(['%s,%s' % tup for tup in top_correlated_features])};\\n\")\n",
    "    file.write(f\"{neymar_similarities}\\n\")\n",
    "    file.write(f\"{borussia_bundesliga_2008_2009_matches}\\n\")\n",
    "    file.write(f\"{team_most_matches_bundesliga_2008_2009}\\n\")\n",
    "    file.write(f\"{arsenal_won_matches_2015_2016}\\n\")\n",
    "    file.write(f\"{team_highest_winrate_2015_2016}\\n\")\n",
    "    file.write(f\"{highest_gap_england_2010_2011}\\n\")"
   ]
  }
 ],
 "metadata": {
  "hide_input": false,
  "kernelspec": {
   "display_name": "Python 3 (ipykernel)",
   "language": "python",
   "name": "python3"
  },
  "language_info": {
   "codemirror_mode": {
    "name": "ipython",
    "version": 3
   },
   "file_extension": ".py",
   "mimetype": "text/x-python",
   "name": "python",
   "nbconvert_exporter": "python",
   "pygments_lexer": "ipython3",
   "version": "3.9.7"
  },
  "toc": {
   "base_numbering": 1,
   "nav_menu": {},
   "number_sections": true,
   "sideBar": true,
   "skip_h1_title": false,
   "title_cell": "Table of Contents",
   "title_sidebar": "Contents",
   "toc_cell": false,
   "toc_position": {},
   "toc_section_display": true,
   "toc_window_display": false
  }
 },
 "nbformat": 4,
 "nbformat_minor": 5
}
