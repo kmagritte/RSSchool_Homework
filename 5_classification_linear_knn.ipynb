{
 "cells": [
  {
   "cell_type": "markdown",
   "metadata": {
    "id": "zfDEAgdh2Plp"
   },
   "source": [
    "# Classification. Linear models and KNN"
   ]
  },
  {
   "cell_type": "code",
   "execution_count": 55,
   "metadata": {
    "id": "pn8eIq5c2Plz"
   },
   "outputs": [],
   "source": [
    "import os\n",
    "import numpy as np\n",
    "import pandas as pd\n",
    "import seaborn as sns\n",
    "import matplotlib.pyplot as plt"
   ]
  },
  {
   "cell_type": "code",
   "execution_count": 56,
   "metadata": {
    "id": "f1r0WRKE2Pl2"
   },
   "outputs": [],
   "source": [
    "from sklearn.pipeline import Pipeline\n",
    "from sklearn.compose import ColumnTransformer\n",
    "from sklearn.model_selection import train_test_split, cross_validate, GridSearchCV\n",
    "from sklearn.metrics import plot_confusion_matrix, accuracy_score\n",
    "from sklearn.neighbors import KNeighborsClassifier\n",
    "from sklearn.preprocessing import StandardScaler, OneHotEncoder, LabelEncoder, OrdinalEncoder"
   ]
  },
  {
   "cell_type": "code",
   "execution_count": 57,
   "metadata": {
    "id": "Bjt94pr5K6Do"
   },
   "outputs": [],
   "source": [
    "from tqdm import tqdm\n",
    "from sklearn.metrics import f1_score\n",
    "from sklearn.linear_model import LogisticRegression\n",
    "from datetime import datetime\n",
    "import warnings\n",
    "from sklearn import set_config\n",
    "\n",
    "warnings.filterwarnings('ignore')\n",
    "set_config(display='diagram')\n",
    "SEED = 42"
   ]
  },
  {
   "cell_type": "markdown",
   "metadata": {
    "id": "umJa1v2O2Pl3"
   },
   "source": [
    "## Part 1: Implementing Logistic Regression"
   ]
  },
  {
   "cell_type": "markdown",
   "metadata": {
    "id": "F2n5axK-2Pl4"
   },
   "source": [
    "In this task you need to implement Logistic Regression with l2 regularization using gradient descent algorithm."
   ]
  },
  {
   "cell_type": "markdown",
   "metadata": {
    "id": "0SY_4Lq02Pl5"
   },
   "source": [
    "Logistic Regression loss:\n",
    "$$ L(w) = \\dfrac{1}{N}\\sum_{i=1}^N \\log(1 + e^{-\\langle w, x_i \\rangle y_i}) + \\frac{1}{2C} \\lVert w \\rVert^2  \\to \\min_w$$\n",
    "$$\\langle w, x_i \\rangle = \\sum_{j=1}^n w_{j}x_{ij} + w_{0},$$ $$ y_{i} \\in \\{-1, 1\\}$$ where $n$ is the number of features and $N$ is the number of samples."
   ]
  },
  {
   "cell_type": "markdown",
   "metadata": {
    "id": "2k3aVK6p2Pl6"
   },
   "source": [
    "Gradient descent step:\n",
    "$$w^{(t+1)} := w^{(t)} + \\dfrac{\\eta}{N}\\sum_{i=1}^N y_ix_i \\Big(1 - \\dfrac{1}{1 + exp(-\\langle w^{(t)}, x_i \\rangle y_i)}\\Big) - \\eta \\frac{1}{C} w,$$\n",
    "where $\\eta$ is the learning rate."
   ]
  },
  {
   "cell_type": "markdown",
   "metadata": {
    "id": "JcMVJ74D2Pl7"
   },
   "source": [
    "**(2 points)** Implement the algorithm and use it to classify the digits (https://scikit-learn.org/stable/modules/generated/sklearn.datasets.load_digits.html) into \"even\" and \"odd\" categories. \"Even\" and \"Odd\" classes  should correspond to {-1, 1} labels."
   ]
  },
  {
   "cell_type": "markdown",
   "metadata": {
    "id": "HIAC0d1B2Pl8"
   },
   "source": [
    "Stopping criteria: either the number of iterations exceeds *max_iter* or $||w^{(t+1)} - w^{(t)}||_2 < tol$."
   ]
  },
  {
   "cell_type": "code",
   "execution_count": 58,
   "metadata": {
    "id": "r8D51aWl2Pl-"
   },
   "outputs": [],
   "source": [
    "from sklearn.exceptions import NotFittedError"
   ]
  },
  {
   "cell_type": "code",
   "execution_count": 59,
   "metadata": {
    "id": "NPzU0V8P2Pl_"
   },
   "outputs": [],
   "source": [
    "class CustomLogisticRegression:\n",
    "    _estimator_type = \"classifier\"\n",
    "    \n",
    "    def __init__(self, eta=0.001, max_iter=1000, C=1.0, tol=1e-5, random_state=42, zero_init=False):\n",
    "        \"\"\"Logistic Regression classifier.\n",
    "        \n",
    "        Args:\n",
    "            eta: float, default=0.001\n",
    "                Learning rate.\n",
    "            max_iter: int, default=1000\n",
    "                Maximum number of iterations taken for the solvers to converge.\n",
    "            C: float, default=1.0\n",
    "                Inverse of regularization strength; must be a positive float.\n",
    "                Smaller values specify stronger regularization.\n",
    "            tol: float, default=1e-5\n",
    "                Tolerance for stopping criteria.\n",
    "            random_state: int, default=42\n",
    "                Random state.\n",
    "            zero_init: bool, default=False\n",
    "                Zero weight initialization.\n",
    "        \"\"\"\n",
    "        self.eta = eta\n",
    "        self.max_iter = max_iter\n",
    "        self.C = C\n",
    "        self.tol = tol\n",
    "        self.random_state = np.random.RandomState(seed=random_state)\n",
    "        self.zero_init = zero_init\n",
    "        self.history_loss = []\n",
    "         \n",
    "    def get_sigmoid(self, X, weights):\n",
    "        \"\"\"Compute the sigmoid value.\"\"\"\n",
    "        sigmoid = 1 / (1 + np.exp(-X@weights))\n",
    "        return sigmoid\n",
    "    \n",
    "    def get_loss(self, x, weights, y):\n",
    "        \"\"\"Calculate the loss.\"\"\"\n",
    "        N = x.shape[0]\n",
    "        loss_part = 0\n",
    "        for sample in range(N):\n",
    "          loss_part += np.log(1 + np.exp(-(weights@x[sample])*y[sample]))\n",
    "                                \n",
    "        loss = 1/N * loss_part + 1/(2*self.C) * np.linalg.norm(weights**2)\n",
    "        #loss = 1/x.shape[0] * sum(np.log(1 + np.exp(-(X@weights)@y))) + 1/(2*self.C) * np.sqrt(sum(weights**2))\n",
    "        return loss\n",
    "     \n",
    "    def fit(self, X, y):\n",
    "        \"\"\"Fit the model.\n",
    "        \n",
    "        Args:\n",
    "            X: numpy array of shape (n_samples, n_features)\n",
    "            y: numpy array of shape (n_samples,)\n",
    "                Target vector.        \n",
    "        \"\"\"\n",
    "        X_ext = np.hstack([np.ones((X.shape[0], 1)), X]) # a constant feature is included to handle intercept\n",
    "        num_features = X_ext.shape[1]\n",
    "        N = X_ext.shape[0]\n",
    "        if self.zero_init:\n",
    "            self.weights_ = np.zeros(num_features) \n",
    "        else:\n",
    "            weight_threshold = 1.0 / (2 * num_features)\n",
    "            self.weights_ = self.random_state.uniform(low=-weight_threshold,\n",
    "                                                      high=weight_threshold, size=num_features) # random weight initialization\n",
    "        \n",
    "        for i in range(self.max_iter):\n",
    "            self.history_loss.append(self.get_loss(X_ext, self.weights_, y))\n",
    "            delta_part = np.zeros(num_features) \n",
    "            for sample in range(N):\n",
    "                delta_part += y[sample]*X_ext[sample]*(1 - 1/(1 + np.exp(-(self.weights_@X_ext[sample])*y[sample])))\n",
    "                                \n",
    "            delta =  -1/N * delta_part + self.weights_/self.C\n",
    "            #delta = -1/N * y.T@X_ext*(1 - 1/(1 + np.exp(-(X_ext@self.weights_)@y))) + self.weights_/self.C\n",
    "            self.weights_ -= self.eta * delta\n",
    "            if self.tol > np.linalg.norm(self.eta * delta):\n",
    "                break\n",
    "     \n",
    "    def predict_proba(self, X):\n",
    "        \"\"\"Predict positive class probabilities.\n",
    "        \n",
    "        Args:\n",
    "            X: numpy array of shape (n_samples, n_features)\n",
    "        Returns:\n",
    "            y: numpy array of shape (n_samples,)\n",
    "                Vector containing positive class probabilities.\n",
    "        \"\"\"\n",
    "        X_ext = np.hstack([np.ones((X.shape[0], 1)), X])\n",
    "        if hasattr(self, 'weights_'):\n",
    "            return self.get_sigmoid(X_ext, self.weights_)\n",
    "        else: \n",
    "            raise NotFittedError(\"CustomLogisticRegression instance is not fitted yet\")\n",
    "    \n",
    "    def predict(self, X):\n",
    "        \"\"\"Predict classes.\n",
    "        \n",
    "        Args:\n",
    "            X: numpy array of shape (n_samples, n_features)\n",
    "        Returns:\n",
    "            y: numpy array of shape (n_samples,)\n",
    "                Vector containing predicted class labels.\n",
    "        \"\"\"\n",
    "        y = self.predict_proba(X)\n",
    "        y = np.where(y < 0.5, -1, 1)\n",
    "        return y"
   ]
  },
  {
   "cell_type": "code",
   "execution_count": 60,
   "metadata": {
    "id": "UULqcG2e2PmB"
   },
   "outputs": [],
   "source": [
    "from sklearn import datasets\n",
    "from sklearn import metrics"
   ]
  },
  {
   "cell_type": "code",
   "execution_count": 61,
   "metadata": {
    "colab": {
     "base_uri": "https://localhost:8080/",
     "height": 307
    },
    "id": "tOVTT3vQ2PmC",
    "outputId": "a5aac597-2c74-4bc6-b513-e349d32ec8a8"
   },
   "outputs": [
    {
     "data": {
      "image/png": "[encoded data removed]",
      "text/plain": [
       "<Figure size 720x360 with 21 Axes>"
      ]
     },
     "metadata": {
      "needs_background": "light"
     },
     "output_type": "display_data"
    }
   ],
   "source": [
    "X, y = datasets.load_digits(n_class=10, return_X_y=True)\n",
    "\n",
    "_, axes = plt.subplots(nrows=3, ncols=7, figsize=(10, 5))\n",
    "for ax, image, label in zip(axes.flatten(), X, y):\n",
    "    ax.set_axis_off()\n",
    "    ax.imshow(image.reshape((8, 8)), cmap=plt.cm.gray_r if label % 2 else plt.cm.afmhot_r)\n",
    "    ax.set_title(label)\n",
    "\n",
    "X_train, X_test, y_train, y_test = train_test_split(X, y, test_size=0.2, shuffle=True, random_state=42)\n",
    "#y_train = \"<your code>\"\n",
    "#y_test = \"<your code>\"\n",
    "y_train = (y_train % 2) * 2 - 1\n",
    "y_test = (y_test % 2) * 2 - 1"
   ]
  },
  {
   "cell_type": "code",
   "execution_count": 62,
   "metadata": {
    "id": "8YvEOTT-2PmE"
   },
   "outputs": [],
   "source": [
    "assert (np.unique(y_train) == [-1, 1]).all()\n",
    "assert (np.unique(y_test) == [-1, 1]).all()"
   ]
  },
  {
   "cell_type": "code",
   "execution_count": 63,
   "metadata": {
    "id": "xlom1xjL2PmF"
   },
   "outputs": [],
   "source": [
    "def fit_evaluate(clf, X_train, y_train, X_test, y_test):\n",
    "    clf.fit(X_train, y_train)\n",
    "    disp = metrics.plot_confusion_matrix(clf, X_test, y_test, normalize='true')\n",
    "    disp.figure_.suptitle(\"Confusion Matrix\")\n",
    "    plt.show()\n",
    "    \n",
    "    return metrics.accuracy_score(y_pred=clf.predict(X_train), y_true=y_train), \\\n",
    "           metrics.accuracy_score(y_pred=clf.predict(X_test), y_true=y_test)"
   ]
  },
  {
   "cell_type": "code",
   "execution_count": 64,
   "metadata": {
    "id": "-CaqBZwG2PmF"
   },
   "outputs": [],
   "source": [
    "lr_clf = CustomLogisticRegression(max_iter=1, zero_init=True)"
   ]
  },
  {
   "cell_type": "code",
   "execution_count": 65,
   "metadata": {
    "id": "dPjSv7nj2PmH"
   },
   "outputs": [],
   "source": [
    "assert np.allclose(lr_clf.get_sigmoid(np.array([[0.5, 0, 1.0], [0.3, 1.3, 1.0]]), np.array([0.5, -0.5, 0.1])),\n",
    "                   np.array([0.58662, 0.40131]))"
   ]
  },
  {
   "cell_type": "code",
   "execution_count": 66,
   "metadata": {
    "id": "KNXvSVxf4yDg"
   },
   "outputs": [],
   "source": [
    "lr_clf.fit(X_train, y_train)"
   ]
  },
  {
   "cell_type": "code",
   "execution_count": 67,
   "metadata": {
    "id": "yCEH0Q_32PmO"
   },
   "outputs": [],
   "source": [
    "assert np.allclose(lr_clf.weights_, np.array([ 3.1000e-06,  0.0000e+00,  4.1800e-05,  5.4770e-04,  2.2130e-04,\n",
    "        4.8750e-04,  1.3577e-03,  5.9780e-04,  5.6400e-05, -7.0000e-07,\n",
    "        1.6910e-04,  2.5190e-04, -4.3700e-04,  3.6190e-04,  1.0049e-03,\n",
    "        4.2280e-04,  2.5700e-05,  3.0000e-07, -1.1500e-05, -7.2440e-04,\n",
    "       -2.6200e-04,  8.7540e-04,  4.1540e-04, -8.4200e-05, -5.2000e-06,\n",
    "        0.0000e+00, -2.2160e-04, -5.7130e-04,  9.8570e-04,  1.3507e-03,\n",
    "        5.0210e-04, -1.7050e-04, -1.0000e-06,  0.0000e+00, -6.7810e-04,\n",
    "       -1.0515e-03, -4.4500e-05,  3.7160e-04,  4.2100e-04, -8.1800e-05,\n",
    "        0.0000e+00, -5.2000e-06, -5.3410e-04, -2.0393e-03, -8.4310e-04,\n",
    "        1.0400e-04, -1.2390e-04, -1.7880e-04, -1.3200e-05, -4.5000e-06,\n",
    "       -9.4300e-05, -1.1127e-03, -5.0900e-04, -2.1850e-04, -5.6050e-04,\n",
    "       -3.9560e-04, -1.7700e-05, -3.0000e-07,  2.6800e-05,  6.3920e-04,\n",
    "        1.8090e-04, -7.3660e-04, -5.3930e-04, -3.7060e-04, -2.8200e-05]), atol=1e-5)"
   ]
  },
  {
   "cell_type": "code",
   "execution_count": 68,
   "metadata": {
    "id": "90W6h8A82PmO"
   },
   "outputs": [],
   "source": [
    "model = CustomLogisticRegression()"
   ]
  },
  {
   "cell_type": "code",
   "execution_count": 69,
   "metadata": {
    "colab": {
     "base_uri": "https://localhost:8080/",
     "height": 308
    },
    "id": "phLmzeO12PmO",
    "outputId": "834ff841-b24c-4920-c652-63ef1f17bcdf"
   },
   "outputs": [
    {
     "data": {
      "image/png": "[encoded data removed]",
      "text/plain": [
       "<Figure size 432x288 with 2 Axes>"
      ]
     },
     "metadata": {
      "needs_background": "light"
     },
     "output_type": "display_data"
    }
   ],
   "source": [
    "train_acc, test_acc = fit_evaluate(model, X_train, y_train, X_test, y_test)"
   ]
  },
  {
   "cell_type": "code",
   "execution_count": 70,
   "metadata": {
    "colab": {
     "base_uri": "https://localhost:8080/"
    },
    "id": "Dr1U8gBN2PmQ",
    "outputId": "f900d1a7-be5d-44fc-a4c6-fa03e4415315"
   },
   "outputs": [
    {
     "data": {
      "text/plain": [
       "(0.9109255393180237, 0.9388888888888889)"
      ]
     },
     "execution_count": 70,
     "metadata": {},
     "output_type": "execute_result"
    }
   ],
   "source": [
    "train_acc, test_acc"
   ]
  },
  {
   "cell_type": "code",
   "execution_count": 71,
   "metadata": {
    "id": "VI5yjadZ2PmR"
   },
   "outputs": [],
   "source": [
    "assert min(train_acc, test_acc) > 0.9"
   ]
  },
  {
   "cell_type": "markdown",
   "metadata": {
    "id": "Dx9gQ-Aw2PmR"
   },
   "source": [
    "**(0.5 points)** Visualize the loss history."
   ]
  },
  {
   "cell_type": "code",
   "execution_count": 72,
   "metadata": {
    "colab": {
     "base_uri": "https://localhost:8080/",
     "height": 295
    },
    "id": "XFOEL7lhDEgo",
    "outputId": "b50b6bd5-03b3-46d2-913b-c30bd3d41bcc"
   },
   "outputs": [
    {
     "data": {
      "image/png": "[encoded data removed]",
      "text/plain": [
       "<Figure size 432x288 with 1 Axes>"
      ]
     },
     "metadata": {
      "needs_background": "light"
     },
     "output_type": "display_data"
    }
   ],
   "source": [
    "max_iter=1000\n",
    "epoch = [i for i in range(max_iter)]\n",
    "plt.plot(epoch, model.history_loss, label='Training Loss')\n",
    "plt.axvline(epoch[np.argmin(model.history_loss)], color='C1', lw=5, alpha=0.2)\n",
    "plt.grid(True)\n",
    "plt.title('Loss history')\n",
    "plt.legend()\n",
    "plt.xlabel('Epoch')\n",
    "plt.ylabel('Loss');"
   ]
  },
  {
   "cell_type": "markdown",
   "metadata": {
    "id": "t5HuLgj52PmT"
   },
   "source": [
    "**(0.5 points)** Try different learning rates and compare the results. How does the learning rate influence the convergence?"
   ]
  },
  {
   "cell_type": "code",
   "execution_count": 73,
   "metadata": {
    "colab": {
     "base_uri": "https://localhost:8080/"
    },
    "id": "bL26rCCJ2PmT",
    "outputId": "91381d32-a4af-458c-c4c4-a164612fd0c5"
   },
   "outputs": [
    {
     "name": "stderr",
     "output_type": "stream",
     "text": [
      "100%|██████████| 20/20 [06:22<00:00, 19.12s/it]\n"
     ]
    }
   ],
   "source": [
    "#ETA = np.linspace(0, 0.1, 20)\n",
    "ETA = np.linspace(0, 0.03, 20)\n",
    "loss, f1, time = [], [], []\n",
    "\n",
    "for eta in tqdm(ETA):\n",
    "  start_time = datetime.now()\n",
    "  logreg = CustomLogisticRegression(eta = eta)\n",
    "  logreg.fit(X_train, y_train)\n",
    "  end_time = datetime.now()\n",
    "\n",
    "  loss.append(logreg.history_loss[-1])\n",
    "  f1.append(f1_score(y_test, logreg.predict(X_test)))\n",
    "  time.append(end_time - start_time)"
   ]
  },
  {
   "cell_type": "code",
   "execution_count": 74,
   "metadata": {
    "colab": {
     "base_uri": "https://localhost:8080/",
     "height": 295
    },
    "id": "hyw9VZl-xHa8",
    "outputId": "f8f28c91-55b0-4f63-b7a2-009afa36c4e6"
   },
   "outputs": [
    {
     "data": {
      "image/png": "[encoded data removed]",
      "text/plain": [
       "<Figure size 432x288 with 2 Axes>"
      ]
     },
     "metadata": {
      "needs_background": "light"
     },
     "output_type": "display_data"
    }
   ],
   "source": [
    "plt.plot(ETA, loss, label='End Loss')\n",
    "plt.axvline(ETA[np.argmin(loss)], color='C1', lw=5, alpha=0.2)\n",
    "plt.grid(True)\n",
    "plt.title('Loss and F1')\n",
    "plt.legend()\n",
    "plt.xlabel('Learning rate')\n",
    "plt.ylabel('Loss')\n",
    "\n",
    "plt.twinx()\n",
    "plt.plot(ETA, f1, alpha=0.4, lw=3, ls='dotted', color='red', label='F1') \n",
    "plt.legend();"
   ]
  },
  {
   "cell_type": "markdown",
   "metadata": {
    "id": "0Beqtpdi8HFq"
   },
   "source": [
    "At the optimal value of the learning rate, the minimum loss and the best f1 are achieved. Up to the optimal value of the learning rate: as the learning rate increases, the loss decreases, and f1 increases. After the optimal value of the learning rate: as the learning rate increases, the loss increases, and f1 decreases. That is, initially, with an increase in the learning rate, the quality of the model increases, but after the optimum, the opposite situation is observed."
   ]
  },
  {
   "cell_type": "markdown",
   "metadata": {
    "id": "43xgyNu42PmV"
   },
   "source": [
    "**(0.5 points)** Try different regularization parameter values and compare the model quality."
   ]
  },
  {
   "cell_type": "code",
   "execution_count": 75,
   "metadata": {
    "colab": {
     "base_uri": "https://localhost:8080/"
    },
    "id": "pDvNOdx_2PmV",
    "outputId": "cfbcbdeb-b76d-4ae3-9c9b-183bab2a7e53"
   },
   "outputs": [
    {
     "name": "stderr",
     "output_type": "stream",
     "text": [
      "100%|██████████| 20/20 [06:45<00:00, 20.26s/it]\n"
     ]
    }
   ],
   "source": [
    "C = np.linspace(1, 5, 20)\n",
    "loss_C, f1_C = [], []\n",
    "for c in tqdm(C):\n",
    "  logreg = CustomLogisticRegression(C = c)\n",
    "  logreg.fit(X_train, y_train)\n",
    "  loss_C.append(logreg.history_loss[-1])\n",
    "  f1_C.append(f1_score(y_test, logreg.predict(X_test)))"
   ]
  },
  {
   "cell_type": "code",
   "execution_count": 76,
   "metadata": {
    "colab": {
     "base_uri": "https://localhost:8080/",
     "height": 295
    },
    "id": "LAlr6ZLZtDur",
    "outputId": "68aadf74-4816-449e-81c1-c752d32da5cc"
   },
   "outputs": [
    {
     "data": {
      "image/png": "[encoded data removed]",
      "text/plain": [
       "<Figure size 432x288 with 2 Axes>"
      ]
     },
     "metadata": {
      "needs_background": "light"
     },
     "output_type": "display_data"
    }
   ],
   "source": [
    "plt.plot(C, loss_C, label='End Loss')\n",
    "plt.grid(True)\n",
    "plt.title('Loss and F1')\n",
    "plt.legend()\n",
    "plt.xlabel('C - Inverse of regularization strength')\n",
    "plt.ylabel('Loss')\n",
    "\n",
    "plt.twinx()\n",
    "plt.plot(C, f1_C, alpha=0.4, lw=3, ls='dotted', color='red', label='F1') \n",
    "plt.legend();"
   ]
  },
  {
   "cell_type": "code",
   "execution_count": 77,
   "metadata": {
    "colab": {
     "base_uri": "https://localhost:8080/",
     "height": 295
    },
    "id": "TSrGNBQn0EB8",
    "outputId": "45365fdd-a8cd-426c-cbbf-cc4c779ac19f"
   },
   "outputs": [
    {
     "data": {
      "image/png": "[encoded data removed]",
      "text/plain": [
       "<Figure size 432x288 with 2 Axes>"
      ]
     },
     "metadata": {
      "needs_background": "light"
     },
     "output_type": "display_data"
    }
   ],
   "source": [
    "alpha = 1/C\n",
    "plt.plot(alpha, loss_C, label='End Loss')\n",
    "plt.grid(True)\n",
    "plt.title('Loss and F1')\n",
    "plt.legend()\n",
    "plt.xlabel('Alpha - regularization parameter')\n",
    "plt.ylabel('Loss')\n",
    "\n",
    "plt.twinx()\n",
    "plt.plot(alpha, f1_C, alpha=0.4, lw=3, ls='dotted', color='red', label='F1') \n",
    "plt.legend();"
   ]
  },
  {
   "cell_type": "markdown",
   "metadata": {
    "id": "k1YN1JY6CsQt"
   },
   "source": [
    "With the growth of C, the quality of the model increases, that is, with the growth of alpha, it will decrease. With loss the situation is reversed."
   ]
  },
  {
   "cell_type": "markdown",
   "metadata": {
    "id": "9BArEUdt2PmW"
   },
   "source": [
    "**(0.5 points)** Compare zero initialization and random initialization. "
   ]
  },
  {
   "cell_type": "code",
   "execution_count": 78,
   "metadata": {
    "colab": {
     "base_uri": "https://localhost:8080/",
     "height": 325
    },
    "id": "mI8UOMJb2PmX",
    "outputId": "09721f67-a73c-45b1-89d5-278b9a5ab49a"
   },
   "outputs": [
    {
     "data": {
      "image/png": "[encoded data removed]",
      "text/plain": [
       "<Figure size 432x288 with 2 Axes>"
      ]
     },
     "metadata": {
      "needs_background": "light"
     },
     "output_type": "display_data"
    },
    {
     "name": "stdout",
     "output_type": "stream",
     "text": [
      "0.9109255393180237 0.9388888888888889\n"
     ]
    }
   ],
   "source": [
    "model_random_init = CustomLogisticRegression(zero_init=False)\n",
    "train_acc, test_acc = fit_evaluate(model_random_init, X_train, y_train, X_test, y_test)\n",
    "print(train_acc, test_acc)"
   ]
  },
  {
   "cell_type": "code",
   "execution_count": 79,
   "metadata": {
    "colab": {
     "base_uri": "https://localhost:8080/",
     "height": 295
    },
    "id": "FhTS-ohByAIz",
    "outputId": "5327cdb3-2759-4e75-8257-b59e60da5f7f"
   },
   "outputs": [
    {
     "data": {
      "image/png": "[encoded data removed]",
      "text/plain": [
       "<Figure size 432x288 with 1 Axes>"
      ]
     },
     "metadata": {
      "needs_background": "light"
     },
     "output_type": "display_data"
    }
   ],
   "source": [
    "plt.plot(epoch, model_random_init.history_loss, label='Training Loss')\n",
    "plt.axvline(epoch[np.argmin(model_random_init.history_loss)], color='C1', lw=5, alpha=0.2)\n",
    "plt.grid(True)\n",
    "plt.title('Loss history for model with random initialization of weights')\n",
    "plt.legend()\n",
    "plt.xlabel('Epoch')\n",
    "plt.ylabel('Loss');"
   ]
  },
  {
   "cell_type": "code",
   "execution_count": 80,
   "metadata": {
    "colab": {
     "base_uri": "https://localhost:8080/",
     "height": 325
    },
    "id": "aPur5yG7yAMY",
    "outputId": "c81f331a-3c0f-4210-a105-c11709e20b4b"
   },
   "outputs": [
    {
     "data": {
      "image/png": "[encoded data removed]",
      "text/plain": [
       "<Figure size 432x288 with 2 Axes>"
      ]
     },
     "metadata": {
      "needs_background": "light"
     },
     "output_type": "display_data"
    },
    {
     "name": "stdout",
     "output_type": "stream",
     "text": [
      "0.9116214335421016 0.9388888888888889\n"
     ]
    }
   ],
   "source": [
    "model_zero_init = CustomLogisticRegression(zero_init=True)\n",
    "train_acc, test_acc = fit_evaluate(model_zero_init, X_train, y_train, X_test, y_test)\n",
    "print(train_acc, test_acc)"
   ]
  },
  {
   "cell_type": "code",
   "execution_count": 81,
   "metadata": {
    "colab": {
     "base_uri": "https://localhost:8080/",
     "height": 295
    },
    "id": "RF_MXxjJ1Zeb",
    "outputId": "40d073dd-abf8-489f-8163-7d84370d5cc3"
   },
   "outputs": [
    {
     "data": {
      "image/png": "[encoded data removed]",
      "text/plain": [
       "<Figure size 432x288 with 1 Axes>"
      ]
     },
     "metadata": {
      "needs_background": "light"
     },
     "output_type": "display_data"
    }
   ],
   "source": [
    "plt.plot(epoch, model_zero_init.history_loss, label='Training Loss')\n",
    "plt.axvline(epoch[np.argmin(model_zero_init.history_loss)], color='C1', lw=5, alpha=0.2)\n",
    "plt.grid(True)\n",
    "plt.title('Loss history for model with zero initialization of weights')\n",
    "plt.legend()\n",
    "plt.xlabel('Epoch')\n",
    "plt.ylabel('Loss');"
   ]
  },
  {
   "cell_type": "markdown",
   "metadata": {
    "id": "hMpQJqs6Ii35"
   },
   "source": [
    "With zero initialization, the quality of the model on train has improved slightly. Usually a different way of initializing weights affects the convergence of the algorithm. In our case, both methods lead to a successful outcome."
   ]
  },
  {
   "cell_type": "markdown",
   "metadata": {
    "id": "KfJabXfF2PmX"
   },
   "source": [
    "## Part 2: Implementing KNN Classifier"
   ]
  },
  {
   "cell_type": "markdown",
   "metadata": {
    "id": "o9bqT_h92PmY"
   },
   "source": [
    "In this task you need to implement weighted K-Neighbors Classifier."
   ]
  },
  {
   "cell_type": "markdown",
   "metadata": {
    "id": "PKZCyyBC2PmY"
   },
   "source": [
    "Recall that training a KNN classifier is simply memorizing a training sample. \n",
    "\n",
    "The process of applying a classifier for one object is to find the distances from it to all objects in the training data, then select the k nearest objects (neighbors) and return the most common class among these objects."
   ]
  },
  {
   "cell_type": "markdown",
   "metadata": {
    "id": "SzBUL9v-2PmY"
   },
   "source": [
    "You can also give the nearest neighbors weights in accordance with the distance of the object to them. In the simplest case (as in your assignment), you can set the weights inversely proportional to that distance. \n",
    "\n",
    "$$w_{i} = \\frac{1}{d_{i} + eps},$$\n",
    "\n",
    "where $d_{i}$ is the distance between object and i-th nearest neighbor and $eps$ is the small value to prevent division by zero.\n",
    "\n",
    "In case of 'uniform' weights, all k nearest neighbors are equivalent (have equal weight, for example $w_{i} = 1, \\forall i \\in(1,k)$)."
   ]
  },
  {
   "cell_type": "markdown",
   "metadata": {
    "id": "YMQ5ODNZ2PmZ"
   },
   "source": [
    "To predict the probability of classes, it is necessary to normalize the weights of each class, dividing them by the sum:\n",
    "\n",
    "$$p_{i} = \\frac{w_{i}}{\\sum_{j=1}^{c}w_{j}},$$\n",
    "\n",
    "where $p_i$ is probability of i-th class and $c$ is the number of classes."
   ]
  },
  {
   "cell_type": "markdown",
   "metadata": {
    "id": "kW4gxXZP2PmZ"
   },
   "source": [
    "**(2 points)** Implement the algorithm and use it to classify the digits. By implementing this algorithm, you will be able to classify numbers not only into \"even\" or \"odd\", but into their real representation."
   ]
  },
  {
   "cell_type": "code",
   "execution_count": 82,
   "metadata": {
    "id": "R6GOeDzH2PmZ"
   },
   "outputs": [],
   "source": [
    "class CustomKNeighborsClassifier:\n",
    "    _estimator_type = \"classifier\"\n",
    "    \n",
    "    def __init__(self, n_neighbors=5, weights='uniform', eps=1e-9):\n",
    "        \"\"\"K-Nearest Neighbors classifier.\n",
    "        \n",
    "        Args:\n",
    "            n_neighbors: int, default=5\n",
    "                Number of neighbors to use by default for :meth:`kneighbors` queries.\n",
    "            weights : {'uniform', 'distance'} or callable, default='uniform'\n",
    "                Weight function used in prediction.  Possible values:\n",
    "                - 'uniform' : uniform weights.  All points in each neighborhood\n",
    "                  are weighted equally.\n",
    "                - 'distance' : weight points by the inverse of their distance.\n",
    "                  in this case, closer neighbors of a query point will have a\n",
    "                  greater influence than neighbors which are further away.\n",
    "            eps : float, default=1e-5\n",
    "                Epsilon to prevent division by 0 \n",
    "        \"\"\"\n",
    "        self.n_neighbors = n_neighbors\n",
    "        self.weights = weights\n",
    "        self.eps = eps\n",
    "        \n",
    "    \n",
    "    def get_pairwise_distances(self, X, Y):\n",
    "        \"\"\"\n",
    "        Returnes matrix of the pairwise distances between the rows from both X and Y.\n",
    "        Args:\n",
    "            X: numpy array of shape (n_samples, n_features)\n",
    "            Y: numpy array of shape (k_samples, n_features)\n",
    "        Returns:\n",
    "            P: numpy array of shape (n_samples, k_samples)\n",
    "                Matrix in which (i, j) value is the distance \n",
    "                between i'th row from the X and j'th row from the Y.\n",
    "        \"\"\"\n",
    "        n_samples = X.shape[0]\n",
    "        k_samples = Y.shape[0] \n",
    "        P = np.zeros((n_samples, k_samples)) \n",
    "\n",
    "        for i in range(n_samples):\n",
    "          for j in range(k_samples):\n",
    "            P[i][j] = np.sqrt(np.sum((X[i][:] - Y[j][:])**2))\n",
    "        \n",
    "        return P\n",
    "    \n",
    "    \n",
    "    def get_class_weights(self, y, weights):\n",
    "        \"\"\"\n",
    "        Returns a vector with sum of weights for each class \n",
    "        Args:\n",
    "            y: numpy array of shape (n_samles,)\n",
    "            weights: numpy array of shape (n_samples,)\n",
    "                The weights of the corresponding points of y.\n",
    "        Returns:\n",
    "            p: numpy array of shape (n_classes)\n",
    "                Array where the value at the i-th position \n",
    "                corresponds to the weight of the i-th class.\n",
    "        \"\"\"\n",
    "        p = np.zeros(len(self.classes_))\n",
    "\n",
    "        weights_sort = np.column_stack((y, weights))\n",
    "        weights_sort = weights_sort[weights_sort[:, 1].argsort()[::-1][:]]\n",
    "        weights_sort = weights_sort[:self.n_neighbors][:].T\n",
    "        y, weights = np.array(weights_sort[0]), np.array(weights_sort[1]).astype('float64')\n",
    "\n",
    "        for idx, cl in enumerate(self.classes_):\n",
    "          mask = np.where(y == cl, True, False)\n",
    "          p[idx] = np.sum(weights[mask])   \n",
    "      \n",
    "        return p\n",
    "            \n",
    "        \n",
    "    def fit(self, X, y):\n",
    "        \"\"\"Fit the model.\n",
    "        \n",
    "        Args:\n",
    "            X: numpy array of shape (n_samples, n_features)\n",
    "            y: numpy array of shape (n_samples,)\n",
    "                Target vector.        \n",
    "        \"\"\"\n",
    "        self.points = X\n",
    "        self.y = y\n",
    "        self.classes_ = np.unique(y)\n",
    "        \n",
    "        \n",
    "    def predict_proba(self, X):\n",
    "        \"\"\"Predict positive class probabilities.\n",
    "        \n",
    "        Args:\n",
    "            X: numpy array of shape (n_samples, n_features)\n",
    "        Returns:\n",
    "            y: numpy array of shape (n_samples, n_classes)\n",
    "                Vector containing positive class probabilities.\n",
    "        \"\"\"\n",
    "        if hasattr(self, 'points'):\n",
    "            P = self.get_pairwise_distances(X, self.points)\n",
    "            \n",
    "            weights_of_points = np.ones(P.shape)\n",
    "            if self.weights == 'distance':\n",
    "                weights_of_points = 1/(P + self.eps)\n",
    "                \n",
    "            n_samples = X.shape[0]\n",
    "            y = np.zeros((n_samples, self.classes_.shape[0]))\n",
    "\n",
    "            for sample in range(n_samples):\n",
    "              p = self.get_class_weights(self.y, weights_of_points[sample])\n",
    "              y[sample] = p/np.sum(p)\n",
    "\n",
    "            return y\n",
    "        \n",
    "        else: \n",
    "            raise NotFittedError(\"CustomKNeighborsClassifier instance is not fitted yet\")\n",
    "            \n",
    "        \n",
    "    def predict(self, X):\n",
    "        \"\"\"Predict classes.\n",
    "        \n",
    "        Args:\n",
    "            X: numpy array of shape (n_samples, n_features)\n",
    "        Returns:\n",
    "            y: numpy array of shape (n_samples,)\n",
    "                Vector containing predicted class labels.\n",
    "        \"\"\"\n",
    "        y = self.predict_proba(X)\n",
    "        results = np.zeros(y.shape[0])\n",
    "\n",
    "        for idx in range(y.shape[0]):\n",
    "          results[idx] = self.classes_[np.argmax(y[idx])]\n",
    "\n",
    "        return results"
   ]
  },
  {
   "cell_type": "code",
   "execution_count": 83,
   "metadata": {
    "id": "0cSezHR02Pma"
   },
   "outputs": [],
   "source": [
    "model = CustomKNeighborsClassifier(n_neighbors=5, weights='distance')\n",
    "knn = KNeighborsClassifier(n_neighbors=5, weights='distance')"
   ]
  },
  {
   "cell_type": "code",
   "execution_count": 84,
   "metadata": {
    "id": "oJsDN5lM2Pmb"
   },
   "outputs": [],
   "source": [
    "assert np.allclose(model.get_pairwise_distances(np.array([[0  , 1]  , [1, 1]]), \n",
    "                                                np.array([[0.5, 0.5], [1, 0]])),\n",
    "                   np.array([[0.70710678, 1.41421356],\n",
    "                             [0.70710678, 1.        ]]))"
   ]
  },
  {
   "cell_type": "code",
   "execution_count": 85,
   "metadata": {
    "id": "pyb41ovn2Pmb"
   },
   "outputs": [],
   "source": [
    "model.classes_ = ['one', 'two', 'three']\n",
    "assert np.allclose(model.get_class_weights(np.array(['one', 'one', 'three', 'two']), np.array([1, 1, 0, 4])), \n",
    "                   np.array([2,4,0]))"
   ]
  },
  {
   "cell_type": "code",
   "execution_count": 86,
   "metadata": {
    "colab": {
     "base_uri": "https://localhost:8080/",
     "height": 307
    },
    "id": "vDsx_4sG2Pmc",
    "outputId": "b2551f87-e64e-4b96-9c33-144b93684e54"
   },
   "outputs": [
    {
     "data": {
      "image/png": "[encoded data removed]",
      "text/plain": [
       "<Figure size 720x360 with 21 Axes>"
      ]
     },
     "metadata": {
      "needs_background": "light"
     },
     "output_type": "display_data"
    }
   ],
   "source": [
    "X, y = datasets.load_digits(n_class=10, return_X_y=True)\n",
    "\n",
    "_, axes = plt.subplots(nrows=3, ncols=7, figsize=(10, 5))\n",
    "for ax, image, label in zip(axes.flatten(), X, y):\n",
    "    ax.set_axis_off()\n",
    "    ax.imshow(image.reshape((8, 8)), cmap=plt.cm.gray_r if label % 2 else plt.cm.afmhot_r)\n",
    "    ax.set_title(label)\n",
    "\n",
    "X_train, X_test, y_train, y_test = train_test_split(X, y, test_size=0.2, shuffle=True, random_state=42)"
   ]
  },
  {
   "cell_type": "code",
   "execution_count": 87,
   "metadata": {
    "id": "8P93vPFP2Pmc"
   },
   "outputs": [],
   "source": [
    "model.fit(X_train, y_train)\n",
    "knn.fit(X_train, list(map(str, y_train)));"
   ]
  },
  {
   "cell_type": "code",
   "execution_count": 88,
   "metadata": {
    "id": "XmSLwo5k2Pmc"
   },
   "outputs": [],
   "source": [
    "assert np.allclose(model.predict_proba(X_test), knn.predict_proba(X_test))"
   ]
  },
  {
   "cell_type": "code",
   "execution_count": 89,
   "metadata": {
    "colab": {
     "base_uri": "https://localhost:8080/",
     "height": 308
    },
    "id": "PCVHMS5m2Pmd",
    "outputId": "def131eb-7118-4bb4-c75c-bf87e9c27ca3"
   },
   "outputs": [
    {
     "data": {
      "image/png": "[encoded data removed]",
      "text/plain": [
       "<Figure size 432x288 with 2 Axes>"
      ]
     },
     "metadata": {
      "needs_background": "light"
     },
     "output_type": "display_data"
    }
   ],
   "source": [
    "train_acc, test_acc = fit_evaluate(model, X_train, y_train, X_test, y_test)"
   ]
  },
  {
   "cell_type": "code",
   "execution_count": 90,
   "metadata": {
    "id": "qBForm5S2Pmd"
   },
   "outputs": [],
   "source": [
    "assert train_acc == 1\n",
    "assert test_acc > 0.98"
   ]
  },
  {
   "cell_type": "markdown",
   "metadata": {
    "id": "5q9CaSMs2Pme"
   },
   "source": [
    "**(0.5 points)** Take a look at the confusion matrix and tell what numbers the model confuses and why this happens."
   ]
  },
  {
   "cell_type": "markdown",
   "metadata": {
    "id": "O53oBVsBNFVZ"
   },
   "source": [
    "The model confuses 4 with 9, 5 with 9, 6 with 5, 9 with 7. Because these are visually similar digits, therefore, a set of 64 pixel values for these digits will also be similar."
   ]
  },
  {
   "cell_type": "markdown",
   "metadata": {
    "id": "F1MifGx82Pme"
   },
   "source": [
    "**(0.5 points)** Try different n_neighbors parameters and compare the output probabilities of the model."
   ]
  },
  {
   "cell_type": "code",
   "execution_count": 91,
   "metadata": {
    "colab": {
     "base_uri": "https://localhost:8080/"
    },
    "id": "nDfCZxHe2Pmf",
    "outputId": "fb0d2a3e-6df2-40dd-e407-963364a66304"
   },
   "outputs": [
    {
     "name": "stderr",
     "output_type": "stream",
     "text": [
      "100%|██████████| 50/50 [12:26<00:00, 14.94s/it]\n"
     ]
    }
   ],
   "source": [
    "NEIGBORS = np.linspace(1, 50, 50)\n",
    "f1_NEIGBORS, pred_proba_sum, pred_proba_mean = [], [], []\n",
    "for n in tqdm(NEIGBORS):\n",
    "  knn = CustomKNeighborsClassifier(n_neighbors=int(n), weights='distance')\n",
    "  knn.fit(X_train, y_train)\n",
    "  pred_proba_sum.append(np.sum(knn.predict_proba(X_test), axis=0))\n",
    "  pred_proba_mean.append(np.mean(knn.predict_proba(X_test), axis=0))\n",
    "  f1_NEIGBORS.append(f1_score(y_test, knn.predict(X_test), average='macro'))"
   ]
  },
  {
   "cell_type": "code",
   "execution_count": 92,
   "metadata": {
    "colab": {
     "base_uri": "https://localhost:8080/",
     "height": 295
    },
    "id": "0jvV9AvZqYGZ",
    "outputId": "b935dcaa-9a67-44dc-d956-a3ebeecf1cb7"
   },
   "outputs": [
    {
     "data": {
      "image/png": "[encoded data removed]",
      "text/plain": [
       "<Figure size 432x288 with 1 Axes>"
      ]
     },
     "metadata": {
      "needs_background": "light"
     },
     "output_type": "display_data"
    }
   ],
   "source": [
    "plt.plot(NEIGBORS, f1_NEIGBORS)\n",
    "plt.axvline(NEIGBORS[np.argmax(f1_NEIGBORS)], color='C1', lw=5, alpha=0.2)\n",
    "plt.grid(True)\n",
    "plt.title('F1 for each n_neigbors')\n",
    "plt.xlabel('N neigbors')\n",
    "plt.ylabel('F1');"
   ]
  },
  {
   "cell_type": "code",
   "execution_count": 93,
   "metadata": {
    "colab": {
     "base_uri": "https://localhost:8080/",
     "height": 1000
    },
    "id": "H5JWUUvmsgEm",
    "outputId": "d74434c5-23fb-4abf-873a-c322fe5c590b"
   },
   "outputs": [
    {
     "name": "stdout",
     "output_type": "stream",
     "text": [
      "Sum the output probabilities for each class for different n_neighbors\n"
     ]
    },
    {
     "data": {
      "text/html": [
       "\n",
       "  <div id=\"df-77ab1e6a-e477-47ee-a60c-b86d000f361c\">\n",
       "    <div class=\"colab-df-container\">\n",
       "      <div>\n",
       "<style scoped>\n",
       "    .dataframe tbody tr th:only-of-type {\n",
       "        vertical-align: middle;\n",
       "    }\n",
       "\n",
       "    .dataframe tbody tr th {\n",
       "        vertical-align: top;\n",
       "    }\n",
       "\n",
       "    .dataframe thead th {\n",
       "        text-align: right;\n",
       "    }\n",
       "</style>\n",
       "<table border=\"1\" class=\"dataframe\">\n",
       "  <thead>\n",
       "    <tr style=\"text-align: right;\">\n",
       "      <th></th>\n",
       "      <th>0</th>\n",
       "      <th>1</th>\n",
       "      <th>2</th>\n",
       "      <th>3</th>\n",
       "      <th>4</th>\n",
       "      <th>5</th>\n",
       "      <th>6</th>\n",
       "      <th>7</th>\n",
       "      <th>8</th>\n",
       "      <th>9</th>\n",
       "    </tr>\n",
       "  </thead>\n",
       "  <tbody>\n",
       "    <tr>\n",
       "      <th>1</th>\n",
       "      <td>33.000000</td>\n",
       "      <td>30.000000</td>\n",
       "      <td>33.000000</td>\n",
       "      <td>35.000000</td>\n",
       "      <td>46.000000</td>\n",
       "      <td>47.000000</td>\n",
       "      <td>36.000000</td>\n",
       "      <td>33.000000</td>\n",
       "      <td>28.000000</td>\n",
       "      <td>39.000000</td>\n",
       "    </tr>\n",
       "    <tr>\n",
       "      <th>2</th>\n",
       "      <td>33.000000</td>\n",
       "      <td>29.500732</td>\n",
       "      <td>33.000000</td>\n",
       "      <td>35.000000</td>\n",
       "      <td>46.499268</td>\n",
       "      <td>46.036459</td>\n",
       "      <td>36.000000</td>\n",
       "      <td>33.000000</td>\n",
       "      <td>28.496771</td>\n",
       "      <td>39.466770</td>\n",
       "    </tr>\n",
       "    <tr>\n",
       "      <th>3</th>\n",
       "      <td>33.000000</td>\n",
       "      <td>29.644540</td>\n",
       "      <td>33.000000</td>\n",
       "      <td>34.697253</td>\n",
       "      <td>46.345748</td>\n",
       "      <td>46.627675</td>\n",
       "      <td>35.698679</td>\n",
       "      <td>33.314856</td>\n",
       "      <td>28.652869</td>\n",
       "      <td>39.018379</td>\n",
       "    </tr>\n",
       "    <tr>\n",
       "      <th>4</th>\n",
       "      <td>33.000000</td>\n",
       "      <td>29.295027</td>\n",
       "      <td>33.000000</td>\n",
       "      <td>34.301792</td>\n",
       "      <td>46.262327</td>\n",
       "      <td>47.374861</td>\n",
       "      <td>35.315475</td>\n",
       "      <td>33.474618</td>\n",
       "      <td>29.199421</td>\n",
       "      <td>38.776481</td>\n",
       "    </tr>\n",
       "    <tr>\n",
       "      <th>5</th>\n",
       "      <td>33.000000</td>\n",
       "      <td>29.065181</td>\n",
       "      <td>33.000000</td>\n",
       "      <td>34.237431</td>\n",
       "      <td>46.380595</td>\n",
       "      <td>47.313661</td>\n",
       "      <td>35.439147</td>\n",
       "      <td>33.762539</td>\n",
       "      <td>29.127952</td>\n",
       "      <td>38.673493</td>\n",
       "    </tr>\n",
       "    <tr>\n",
       "      <th>6</th>\n",
       "      <td>33.000000</td>\n",
       "      <td>29.660692</td>\n",
       "      <td>33.000000</td>\n",
       "      <td>34.049541</td>\n",
       "      <td>46.167929</td>\n",
       "      <td>47.270347</td>\n",
       "      <td>35.524844</td>\n",
       "      <td>33.642173</td>\n",
       "      <td>28.816009</td>\n",
       "      <td>38.868466</td>\n",
       "    </tr>\n",
       "    <tr>\n",
       "      <th>7</th>\n",
       "      <td>33.000000</td>\n",
       "      <td>29.937488</td>\n",
       "      <td>32.999484</td>\n",
       "      <td>33.792249</td>\n",
       "      <td>46.017675</td>\n",
       "      <td>47.238564</td>\n",
       "      <td>35.454243</td>\n",
       "      <td>33.673213</td>\n",
       "      <td>28.848494</td>\n",
       "      <td>39.038589</td>\n",
       "    </tr>\n",
       "    <tr>\n",
       "      <th>8</th>\n",
       "      <td>33.000000</td>\n",
       "      <td>29.729595</td>\n",
       "      <td>33.106773</td>\n",
       "      <td>33.927604</td>\n",
       "      <td>46.017151</td>\n",
       "      <td>47.088669</td>\n",
       "      <td>35.403457</td>\n",
       "      <td>33.713962</td>\n",
       "      <td>29.179617</td>\n",
       "      <td>38.833173</td>\n",
       "    </tr>\n",
       "    <tr>\n",
       "      <th>9</th>\n",
       "      <td>33.000000</td>\n",
       "      <td>30.073102</td>\n",
       "      <td>32.907847</td>\n",
       "      <td>33.832221</td>\n",
       "      <td>46.005981</td>\n",
       "      <td>46.691576</td>\n",
       "      <td>35.462085</td>\n",
       "      <td>33.500011</td>\n",
       "      <td>28.960588</td>\n",
       "      <td>39.566588</td>\n",
       "    </tr>\n",
       "    <tr>\n",
       "      <th>10</th>\n",
       "      <td>33.000000</td>\n",
       "      <td>30.420467</td>\n",
       "      <td>32.736513</td>\n",
       "      <td>34.033142</td>\n",
       "      <td>46.089836</td>\n",
       "      <td>46.362743</td>\n",
       "      <td>35.338120</td>\n",
       "      <td>33.638479</td>\n",
       "      <td>28.779113</td>\n",
       "      <td>39.601586</td>\n",
       "    </tr>\n",
       "    <tr>\n",
       "      <th>11</th>\n",
       "      <td>33.000000</td>\n",
       "      <td>30.263490</td>\n",
       "      <td>32.734461</td>\n",
       "      <td>34.410658</td>\n",
       "      <td>46.081941</td>\n",
       "      <td>46.409164</td>\n",
       "      <td>35.317532</td>\n",
       "      <td>33.761092</td>\n",
       "      <td>28.805070</td>\n",
       "      <td>39.216592</td>\n",
       "    </tr>\n",
       "    <tr>\n",
       "      <th>12</th>\n",
       "      <td>33.074017</td>\n",
       "      <td>30.138653</td>\n",
       "      <td>32.621525</td>\n",
       "      <td>34.592778</td>\n",
       "      <td>46.015594</td>\n",
       "      <td>46.382190</td>\n",
       "      <td>35.293300</td>\n",
       "      <td>33.711968</td>\n",
       "      <td>28.780241</td>\n",
       "      <td>39.389734</td>\n",
       "    </tr>\n",
       "    <tr>\n",
       "      <th>13</th>\n",
       "      <td>33.068916</td>\n",
       "      <td>30.070003</td>\n",
       "      <td>32.639148</td>\n",
       "      <td>34.409242</td>\n",
       "      <td>46.078141</td>\n",
       "      <td>46.358944</td>\n",
       "      <td>35.341456</td>\n",
       "      <td>33.625773</td>\n",
       "      <td>28.908215</td>\n",
       "      <td>39.500162</td>\n",
       "    </tr>\n",
       "    <tr>\n",
       "      <th>14</th>\n",
       "      <td>33.128922</td>\n",
       "      <td>30.426332</td>\n",
       "      <td>32.526274</td>\n",
       "      <td>34.644127</td>\n",
       "      <td>45.908243</td>\n",
       "      <td>46.146804</td>\n",
       "      <td>35.318895</td>\n",
       "      <td>33.656291</td>\n",
       "      <td>28.719217</td>\n",
       "      <td>39.524895</td>\n",
       "    </tr>\n",
       "    <tr>\n",
       "      <th>15</th>\n",
       "      <td>33.181453</td>\n",
       "      <td>30.400844</td>\n",
       "      <td>32.533208</td>\n",
       "      <td>34.787028</td>\n",
       "      <td>45.585650</td>\n",
       "      <td>46.204474</td>\n",
       "      <td>35.303175</td>\n",
       "      <td>33.726418</td>\n",
       "      <td>28.792795</td>\n",
       "      <td>39.484956</td>\n",
       "    </tr>\n",
       "    <tr>\n",
       "      <th>16</th>\n",
       "      <td>33.172102</td>\n",
       "      <td>30.480786</td>\n",
       "      <td>32.817561</td>\n",
       "      <td>34.411058</td>\n",
       "      <td>45.609441</td>\n",
       "      <td>46.146212</td>\n",
       "      <td>35.341917</td>\n",
       "      <td>33.745820</td>\n",
       "      <td>28.703026</td>\n",
       "      <td>39.572076</td>\n",
       "    </tr>\n",
       "    <tr>\n",
       "      <th>17</th>\n",
       "      <td>33.111496</td>\n",
       "      <td>30.226187</td>\n",
       "      <td>32.674710</td>\n",
       "      <td>34.437033</td>\n",
       "      <td>45.728531</td>\n",
       "      <td>45.823736</td>\n",
       "      <td>35.431013</td>\n",
       "      <td>33.912981</td>\n",
       "      <td>28.994392</td>\n",
       "      <td>39.659920</td>\n",
       "    </tr>\n",
       "    <tr>\n",
       "      <th>18</th>\n",
       "      <td>33.205614</td>\n",
       "      <td>30.070372</td>\n",
       "      <td>32.685619</td>\n",
       "      <td>34.174770</td>\n",
       "      <td>45.788741</td>\n",
       "      <td>45.634477</td>\n",
       "      <td>35.460756</td>\n",
       "      <td>33.963939</td>\n",
       "      <td>29.126091</td>\n",
       "      <td>39.889620</td>\n",
       "    </tr>\n",
       "    <tr>\n",
       "      <th>19</th>\n",
       "      <td>33.243452</td>\n",
       "      <td>30.205106</td>\n",
       "      <td>32.652252</td>\n",
       "      <td>34.168007</td>\n",
       "      <td>45.705906</td>\n",
       "      <td>45.653005</td>\n",
       "      <td>35.438242</td>\n",
       "      <td>34.102012</td>\n",
       "      <td>29.069070</td>\n",
       "      <td>39.762949</td>\n",
       "    </tr>\n",
       "    <tr>\n",
       "      <th>20</th>\n",
       "      <td>33.277771</td>\n",
       "      <td>30.179754</td>\n",
       "      <td>32.619005</td>\n",
       "      <td>34.509399</td>\n",
       "      <td>45.639850</td>\n",
       "      <td>45.417965</td>\n",
       "      <td>35.417872</td>\n",
       "      <td>34.181822</td>\n",
       "      <td>29.176502</td>\n",
       "      <td>39.580059</td>\n",
       "    </tr>\n",
       "    <tr>\n",
       "      <th>21</th>\n",
       "      <td>33.265638</td>\n",
       "      <td>30.068952</td>\n",
       "      <td>32.708211</td>\n",
       "      <td>34.524441</td>\n",
       "      <td>45.540470</td>\n",
       "      <td>45.484225</td>\n",
       "      <td>35.395334</td>\n",
       "      <td>34.251485</td>\n",
       "      <td>29.327297</td>\n",
       "      <td>39.433946</td>\n",
       "    </tr>\n",
       "    <tr>\n",
       "      <th>22</th>\n",
       "      <td>33.296128</td>\n",
       "      <td>30.029740</td>\n",
       "      <td>32.736097</td>\n",
       "      <td>34.539223</td>\n",
       "      <td>45.521947</td>\n",
       "      <td>45.315829</td>\n",
       "      <td>35.421296</td>\n",
       "      <td>34.357312</td>\n",
       "      <td>29.340753</td>\n",
       "      <td>39.441675</td>\n",
       "    </tr>\n",
       "    <tr>\n",
       "      <th>23</th>\n",
       "      <td>33.324020</td>\n",
       "      <td>29.955547</td>\n",
       "      <td>32.867242</td>\n",
       "      <td>34.750372</td>\n",
       "      <td>45.565490</td>\n",
       "      <td>45.274910</td>\n",
       "      <td>35.439614</td>\n",
       "      <td>34.461598</td>\n",
       "      <td>29.208907</td>\n",
       "      <td>39.152301</td>\n",
       "    </tr>\n",
       "    <tr>\n",
       "      <th>24</th>\n",
       "      <td>33.274828</td>\n",
       "      <td>29.974076</td>\n",
       "      <td>32.898837</td>\n",
       "      <td>34.935016</td>\n",
       "      <td>45.512656</td>\n",
       "      <td>45.373892</td>\n",
       "      <td>35.422773</td>\n",
       "      <td>34.549283</td>\n",
       "      <td>29.158470</td>\n",
       "      <td>38.900171</td>\n",
       "    </tr>\n",
       "    <tr>\n",
       "      <th>25</th>\n",
       "      <td>33.301442</td>\n",
       "      <td>29.965566</td>\n",
       "      <td>32.960222</td>\n",
       "      <td>34.926650</td>\n",
       "      <td>45.430502</td>\n",
       "      <td>45.393947</td>\n",
       "      <td>35.512468</td>\n",
       "      <td>34.635538</td>\n",
       "      <td>29.075142</td>\n",
       "      <td>38.798524</td>\n",
       "    </tr>\n",
       "    <tr>\n",
       "      <th>26</th>\n",
       "      <td>33.359411</td>\n",
       "      <td>29.843163</td>\n",
       "      <td>32.977525</td>\n",
       "      <td>35.021791</td>\n",
       "      <td>45.420273</td>\n",
       "      <td>45.383682</td>\n",
       "      <td>35.494384</td>\n",
       "      <td>34.740987</td>\n",
       "      <td>29.144690</td>\n",
       "      <td>38.614094</td>\n",
       "    </tr>\n",
       "    <tr>\n",
       "      <th>27</th>\n",
       "      <td>33.345806</td>\n",
       "      <td>29.891901</td>\n",
       "      <td>32.988904</td>\n",
       "      <td>35.056131</td>\n",
       "      <td>45.408380</td>\n",
       "      <td>45.241735</td>\n",
       "      <td>35.577572</td>\n",
       "      <td>34.717907</td>\n",
       "      <td>29.175590</td>\n",
       "      <td>38.596074</td>\n",
       "    </tr>\n",
       "    <tr>\n",
       "      <th>28</th>\n",
       "      <td>33.396266</td>\n",
       "      <td>29.822571</td>\n",
       "      <td>33.190463</td>\n",
       "      <td>35.107089</td>\n",
       "      <td>45.398365</td>\n",
       "      <td>45.018820</td>\n",
       "      <td>35.588794</td>\n",
       "      <td>34.793730</td>\n",
       "      <td>29.150546</td>\n",
       "      <td>38.533356</td>\n",
       "    </tr>\n",
       "    <tr>\n",
       "      <th>29</th>\n",
       "      <td>33.441985</td>\n",
       "      <td>29.762773</td>\n",
       "      <td>33.256467</td>\n",
       "      <td>35.130951</td>\n",
       "      <td>45.391204</td>\n",
       "      <td>44.841441</td>\n",
       "      <td>35.602680</td>\n",
       "      <td>34.685240</td>\n",
       "      <td>29.228427</td>\n",
       "      <td>38.658831</td>\n",
       "    </tr>\n",
       "    <tr>\n",
       "      <th>30</th>\n",
       "      <td>33.514341</td>\n",
       "      <td>29.704575</td>\n",
       "      <td>33.353603</td>\n",
       "      <td>35.112673</td>\n",
       "      <td>45.349106</td>\n",
       "      <td>44.591557</td>\n",
       "      <td>35.610034</td>\n",
       "      <td>34.750976</td>\n",
       "      <td>29.219728</td>\n",
       "      <td>38.793407</td>\n",
       "    </tr>\n",
       "    <tr>\n",
       "      <th>31</th>\n",
       "      <td>33.556673</td>\n",
       "      <td>29.717039</td>\n",
       "      <td>33.363743</td>\n",
       "      <td>35.189266</td>\n",
       "      <td>45.393837</td>\n",
       "      <td>44.377669</td>\n",
       "      <td>35.648509</td>\n",
       "      <td>34.679747</td>\n",
       "      <td>29.269479</td>\n",
       "      <td>38.804038</td>\n",
       "    </tr>\n",
       "    <tr>\n",
       "      <th>32</th>\n",
       "      <td>33.596661</td>\n",
       "      <td>29.701990</td>\n",
       "      <td>33.315614</td>\n",
       "      <td>35.292494</td>\n",
       "      <td>45.329336</td>\n",
       "      <td>44.372448</td>\n",
       "      <td>35.686729</td>\n",
       "      <td>34.697081</td>\n",
       "      <td>29.200952</td>\n",
       "      <td>38.806694</td>\n",
       "    </tr>\n",
       "    <tr>\n",
       "      <th>33</th>\n",
       "      <td>33.605875</td>\n",
       "      <td>29.544167</td>\n",
       "      <td>33.225934</td>\n",
       "      <td>35.489013</td>\n",
       "      <td>45.243971</td>\n",
       "      <td>44.309976</td>\n",
       "      <td>35.696419</td>\n",
       "      <td>34.654509</td>\n",
       "      <td>29.501243</td>\n",
       "      <td>38.728893</td>\n",
       "    </tr>\n",
       "    <tr>\n",
       "      <th>34</th>\n",
       "      <td>33.666203</td>\n",
       "      <td>29.444681</td>\n",
       "      <td>33.172039</td>\n",
       "      <td>35.622268</td>\n",
       "      <td>45.145102</td>\n",
       "      <td>44.374636</td>\n",
       "      <td>35.674780</td>\n",
       "      <td>34.688233</td>\n",
       "      <td>29.664291</td>\n",
       "      <td>38.547767</td>\n",
       "    </tr>\n",
       "    <tr>\n",
       "      <th>35</th>\n",
       "      <td>33.674318</td>\n",
       "      <td>29.451608</td>\n",
       "      <td>33.092851</td>\n",
       "      <td>35.752319</td>\n",
       "      <td>45.071072</td>\n",
       "      <td>44.167218</td>\n",
       "      <td>35.730156</td>\n",
       "      <td>34.771639</td>\n",
       "      <td>29.614713</td>\n",
       "      <td>38.674105</td>\n",
       "    </tr>\n",
       "    <tr>\n",
       "      <th>36</th>\n",
       "      <td>33.703693</td>\n",
       "      <td>29.529678</td>\n",
       "      <td>33.111061</td>\n",
       "      <td>35.799937</td>\n",
       "      <td>44.976127</td>\n",
       "      <td>44.062436</td>\n",
       "      <td>35.781733</td>\n",
       "      <td>34.828017</td>\n",
       "      <td>29.499775</td>\n",
       "      <td>38.707543</td>\n",
       "    </tr>\n",
       "    <tr>\n",
       "      <th>37</th>\n",
       "      <td>33.710966</td>\n",
       "      <td>29.509452</td>\n",
       "      <td>33.219666</td>\n",
       "      <td>35.685527</td>\n",
       "      <td>44.999673</td>\n",
       "      <td>44.020515</td>\n",
       "      <td>35.858483</td>\n",
       "      <td>34.875234</td>\n",
       "      <td>29.553430</td>\n",
       "      <td>38.567053</td>\n",
       "    </tr>\n",
       "    <tr>\n",
       "      <th>38</th>\n",
       "      <td>33.739331</td>\n",
       "      <td>29.598408</td>\n",
       "      <td>33.209134</td>\n",
       "      <td>35.691161</td>\n",
       "      <td>45.040404</td>\n",
       "      <td>43.913026</td>\n",
       "      <td>35.906778</td>\n",
       "      <td>34.837473</td>\n",
       "      <td>29.469089</td>\n",
       "      <td>38.595197</td>\n",
       "    </tr>\n",
       "    <tr>\n",
       "      <th>39</th>\n",
       "      <td>33.791432</td>\n",
       "      <td>29.513206</td>\n",
       "      <td>33.270501</td>\n",
       "      <td>35.782979</td>\n",
       "      <td>44.993189</td>\n",
       "      <td>43.917494</td>\n",
       "      <td>35.968221</td>\n",
       "      <td>34.822370</td>\n",
       "      <td>29.520594</td>\n",
       "      <td>38.420015</td>\n",
       "    </tr>\n",
       "    <tr>\n",
       "      <th>40</th>\n",
       "      <td>33.856298</td>\n",
       "      <td>29.518354</td>\n",
       "      <td>33.236942</td>\n",
       "      <td>35.828116</td>\n",
       "      <td>44.892435</td>\n",
       "      <td>43.751437</td>\n",
       "      <td>35.943530</td>\n",
       "      <td>34.917213</td>\n",
       "      <td>29.434444</td>\n",
       "      <td>38.621231</td>\n",
       "    </tr>\n",
       "    <tr>\n",
       "      <th>41</th>\n",
       "      <td>33.899652</td>\n",
       "      <td>29.593852</td>\n",
       "      <td>33.309660</td>\n",
       "      <td>35.952514</td>\n",
       "      <td>44.833369</td>\n",
       "      <td>43.696546</td>\n",
       "      <td>35.924708</td>\n",
       "      <td>34.945982</td>\n",
       "      <td>29.335751</td>\n",
       "      <td>38.507966</td>\n",
       "    </tr>\n",
       "    <tr>\n",
       "      <th>42</th>\n",
       "      <td>33.923028</td>\n",
       "      <td>29.614573</td>\n",
       "      <td>33.339299</td>\n",
       "      <td>36.091209</td>\n",
       "      <td>44.736863</td>\n",
       "      <td>43.707805</td>\n",
       "      <td>35.942806</td>\n",
       "      <td>34.948836</td>\n",
       "      <td>29.263812</td>\n",
       "      <td>38.431768</td>\n",
       "    </tr>\n",
       "    <tr>\n",
       "      <th>43</th>\n",
       "      <td>33.925217</td>\n",
       "      <td>29.675969</td>\n",
       "      <td>33.425563</td>\n",
       "      <td>36.138874</td>\n",
       "      <td>44.722285</td>\n",
       "      <td>43.498407</td>\n",
       "      <td>35.923515</td>\n",
       "      <td>35.009258</td>\n",
       "      <td>29.193568</td>\n",
       "      <td>38.487345</td>\n",
       "    </tr>\n",
       "    <tr>\n",
       "      <th>44</th>\n",
       "      <td>33.969025</td>\n",
       "      <td>29.563238</td>\n",
       "      <td>33.298405</td>\n",
       "      <td>36.228946</td>\n",
       "      <td>44.634981</td>\n",
       "      <td>43.369709</td>\n",
       "      <td>35.958041</td>\n",
       "      <td>35.143573</td>\n",
       "      <td>29.385334</td>\n",
       "      <td>38.448747</td>\n",
       "    </tr>\n",
       "    <tr>\n",
       "      <th>45</th>\n",
       "      <td>33.988566</td>\n",
       "      <td>29.638399</td>\n",
       "      <td>33.232499</td>\n",
       "      <td>36.244732</td>\n",
       "      <td>44.645321</td>\n",
       "      <td>43.363855</td>\n",
       "      <td>35.940428</td>\n",
       "      <td>35.143446</td>\n",
       "      <td>29.385150</td>\n",
       "      <td>38.417604</td>\n",
       "    </tr>\n",
       "    <tr>\n",
       "      <th>46</th>\n",
       "      <td>34.025508</td>\n",
       "      <td>29.672924</td>\n",
       "      <td>33.167033</td>\n",
       "      <td>36.239642</td>\n",
       "      <td>44.669292</td>\n",
       "      <td>43.249971</td>\n",
       "      <td>35.940527</td>\n",
       "      <td>35.122458</td>\n",
       "      <td>29.447372</td>\n",
       "      <td>38.465273</td>\n",
       "    </tr>\n",
       "    <tr>\n",
       "      <th>47</th>\n",
       "      <td>34.044309</td>\n",
       "      <td>29.566682</td>\n",
       "      <td>33.126440</td>\n",
       "      <td>36.249605</td>\n",
       "      <td>44.672754</td>\n",
       "      <td>43.101514</td>\n",
       "      <td>35.979573</td>\n",
       "      <td>35.159478</td>\n",
       "      <td>29.518892</td>\n",
       "      <td>38.580754</td>\n",
       "    </tr>\n",
       "    <tr>\n",
       "      <th>48</th>\n",
       "      <td>34.057917</td>\n",
       "      <td>29.504647</td>\n",
       "      <td>33.120934</td>\n",
       "      <td>36.185486</td>\n",
       "      <td>44.575484</td>\n",
       "      <td>42.979011</td>\n",
       "      <td>36.086532</td>\n",
       "      <td>35.196876</td>\n",
       "      <td>29.657084</td>\n",
       "      <td>38.636028</td>\n",
       "    </tr>\n",
       "    <tr>\n",
       "      <th>49</th>\n",
       "      <td>34.105453</td>\n",
       "      <td>29.496027</td>\n",
       "      <td>33.112393</td>\n",
       "      <td>36.351515</td>\n",
       "      <td>44.444796</td>\n",
       "      <td>42.824852</td>\n",
       "      <td>36.154948</td>\n",
       "      <td>35.194307</td>\n",
       "      <td>29.779684</td>\n",
       "      <td>38.536024</td>\n",
       "    </tr>\n",
       "    <tr>\n",
       "      <th>50</th>\n",
       "      <td>34.188798</td>\n",
       "      <td>29.431733</td>\n",
       "      <td>33.091462</td>\n",
       "      <td>36.498816</td>\n",
       "      <td>44.387056</td>\n",
       "      <td>42.743941</td>\n",
       "      <td>36.185635</td>\n",
       "      <td>35.231436</td>\n",
       "      <td>29.890605</td>\n",
       "      <td>38.350518</td>\n",
       "    </tr>\n",
       "  </tbody>\n",
       "</table>\n",
       "</div>\n",
       "      <button class=\"colab-df-convert\" onclick=\"convertToInteractive('df-77ab1e6a-e477-47ee-a60c-b86d000f361c')\"\n",
       "              title=\"Convert this dataframe to an interactive table.\"\n",
       "              style=\"display:none;\">\n",
       "        \n",
       "  <svg xmlns=\"http://www.w3.org/2000/svg\" height=\"24px\"viewBox=\"0 0 24 24\"\n",
       "       width=\"24px\">\n",
       "    <path d=\"M0 0h24v24H0V0z\" fill=\"none\"/>\n",
       "    <path d=\"M18.56 5.44l.94 2.06.94-2.06 2.06-.94-2.06-.94-.94-2.06-.94 2.06-2.06.94zm-11 1L8.5 8.5l.94-2.06 2.06-.94-2.06-.94L8.5 2.5l-.94 2.06-2.06.94zm10 10l.94 2.06.94-2.06 2.06-.94-2.06-.94-.94-2.06-.94 2.06-2.06.94z\"/><path d=\"M17.41 7.96l-1.37-1.37c-.4-.4-.92-.59-1.43-.59-.52 0-1.04.2-1.43.59L10.3 9.45l-7.72 7.72c-.78.78-.78 2.05 0 2.83L4 21.41c.39.39.9.59 1.41.59.51 0 1.02-.2 1.41-.59l7.78-7.78 2.81-2.81c.8-.78.8-2.07 0-2.86zM5.41 20L4 18.59l7.72-7.72 1.47 1.35L5.41 20z\"/>\n",
       "  </svg>\n",
       "      </button>\n",
       "      \n",
       "  <style>\n",
       "    .colab-df-container {\n",
       "      display:flex;\n",
       "      flex-wrap:wrap;\n",
       "      gap: 12px;\n",
       "    }\n",
       "\n",
       "    .colab-df-convert {\n",
       "      background-color: #E8F0FE;\n",
       "      border: none;\n",
       "      border-radius: 50%;\n",
       "      cursor: pointer;\n",
       "      display: none;\n",
       "      fill: #1967D2;\n",
       "      height: 32px;\n",
       "      padding: 0 0 0 0;\n",
       "      width: 32px;\n",
       "    }\n",
       "\n",
       "    .colab-df-convert:hover {\n",
       "      background-color: #E2EBFA;\n",
       "      box-shadow: 0px 1px 2px rgba(60, 64, 67, 0.3), 0px 1px 3px 1px rgba(60, 64, 67, 0.15);\n",
       "      fill: #174EA6;\n",
       "    }\n",
       "\n",
       "    [theme=dark] .colab-df-convert {\n",
       "      background-color: #3B4455;\n",
       "      fill: #D2E3FC;\n",
       "    }\n",
       "\n",
       "    [theme=dark] .colab-df-convert:hover {\n",
       "      background-color: #434B5C;\n",
       "      box-shadow: 0px 1px 3px 1px rgba(0, 0, 0, 0.15);\n",
       "      filter: drop-shadow(0px 1px 2px rgba(0, 0, 0, 0.3));\n",
       "      fill: #FFFFFF;\n",
       "    }\n",
       "  </style>\n",
       "\n",
       "      <script>\n",
       "        const buttonEl =\n",
       "          document.querySelector('#df-77ab1e6a-e477-47ee-a60c-b86d000f361c button.colab-df-convert');\n",
       "        buttonEl.style.display =\n",
       "          google.colab.kernel.accessAllowed ? 'block' : 'none';\n",
       "\n",
       "        async function convertToInteractive(key) {\n",
       "          const element = document.querySelector('#df-77ab1e6a-e477-47ee-a60c-b86d000f361c');\n",
       "          const dataTable =\n",
       "            await google.colab.kernel.invokeFunction('convertToInteractive',\n",
       "                                                     [key], {});\n",
       "          if (!dataTable) return;\n",
       "\n",
       "          const docLinkHtml = 'Like what you see? Visit the ' +\n",
       "            '<a target=\"_blank\" href=https://colab.research.google.com/notebooks/data_table.ipynb>data table notebook</a>'\n",
       "            + ' to learn more about interactive tables.';\n",
       "          element.innerHTML = '';\n",
       "          dataTable['output_type'] = 'display_data';\n",
       "          await google.colab.output.renderOutput(dataTable, element);\n",
       "          const docLink = document.createElement('div');\n",
       "          docLink.innerHTML = docLinkHtml;\n",
       "          element.appendChild(docLink);\n",
       "        }\n",
       "      </script>\n",
       "    </div>\n",
       "  </div>\n",
       "  "
      ],
      "text/plain": [
       "            0          1          2          3          4          5  \\\n",
       "1   33.000000  30.000000  33.000000  35.000000  46.000000  47.000000   \n",
       "2   33.000000  29.500732  33.000000  35.000000  46.499268  46.036459   \n",
       "3   33.000000  29.644540  33.000000  34.697253  46.345748  46.627675   \n",
       "4   33.000000  29.295027  33.000000  34.301792  46.262327  47.374861   \n",
       "5   33.000000  29.065181  33.000000  34.237431  46.380595  47.313661   \n",
       "6   33.000000  29.660692  33.000000  34.049541  46.167929  47.270347   \n",
       "7   33.000000  29.937488  32.999484  33.792249  46.017675  47.238564   \n",
       "8   33.000000  29.729595  33.106773  33.927604  46.017151  47.088669   \n",
       "9   33.000000  30.073102  32.907847  33.832221  46.005981  46.691576   \n",
       "10  33.000000  30.420467  32.736513  34.033142  46.089836  46.362743   \n",
       "11  33.000000  30.263490  32.734461  34.410658  46.081941  46.409164   \n",
       "12  33.074017  30.138653  32.621525  34.592778  46.015594  46.382190   \n",
       "13  33.068916  30.070003  32.639148  34.409242  46.078141  46.358944   \n",
       "14  33.128922  30.426332  32.526274  34.644127  45.908243  46.146804   \n",
       "15  33.181453  30.400844  32.533208  34.787028  45.585650  46.204474   \n",
       "16  33.172102  30.480786  32.817561  34.411058  45.609441  46.146212   \n",
       "17  33.111496  30.226187  32.674710  34.437033  45.728531  45.823736   \n",
       "18  33.205614  30.070372  32.685619  34.174770  45.788741  45.634477   \n",
       "19  33.243452  30.205106  32.652252  34.168007  45.705906  45.653005   \n",
       "20  33.277771  30.179754  32.619005  34.509399  45.639850  45.417965   \n",
       "21  33.265638  30.068952  32.708211  34.524441  45.540470  45.484225   \n",
       "22  33.296128  30.029740  32.736097  34.539223  45.521947  45.315829   \n",
       "23  33.324020  29.955547  32.867242  34.750372  45.565490  45.274910   \n",
       "24  33.274828  29.974076  32.898837  34.935016  45.512656  45.373892   \n",
       "25  33.301442  29.965566  32.960222  34.926650  45.430502  45.393947   \n",
       "26  33.359411  29.843163  32.977525  35.021791  45.420273  45.383682   \n",
       "27  33.345806  29.891901  32.988904  35.056131  45.408380  45.241735   \n",
       "28  33.396266  29.822571  33.190463  35.107089  45.398365  45.018820   \n",
       "29  33.441985  29.762773  33.256467  35.130951  45.391204  44.841441   \n",
       "30  33.514341  29.704575  33.353603  35.112673  45.349106  44.591557   \n",
       "31  33.556673  29.717039  33.363743  35.189266  45.393837  44.377669   \n",
       "32  33.596661  29.701990  33.315614  35.292494  45.329336  44.372448   \n",
       "33  33.605875  29.544167  33.225934  35.489013  45.243971  44.309976   \n",
       "34  33.666203  29.444681  33.172039  35.622268  45.145102  44.374636   \n",
       "35  33.674318  29.451608  33.092851  35.752319  45.071072  44.167218   \n",
       "36  33.703693  29.529678  33.111061  35.799937  44.976127  44.062436   \n",
       "37  33.710966  29.509452  33.219666  35.685527  44.999673  44.020515   \n",
       "38  33.739331  29.598408  33.209134  35.691161  45.040404  43.913026   \n",
       "39  33.791432  29.513206  33.270501  35.782979  44.993189  43.917494   \n",
       "40  33.856298  29.518354  33.236942  35.828116  44.892435  43.751437   \n",
       "41  33.899652  29.593852  33.309660  35.952514  44.833369  43.696546   \n",
       "42  33.923028  29.614573  33.339299  36.091209  44.736863  43.707805   \n",
       "43  33.925217  29.675969  33.425563  36.138874  44.722285  43.498407   \n",
       "44  33.969025  29.563238  33.298405  36.228946  44.634981  43.369709   \n",
       "45  33.988566  29.638399  33.232499  36.244732  44.645321  43.363855   \n",
       "46  34.025508  29.672924  33.167033  36.239642  44.669292  43.249971   \n",
       "47  34.044309  29.566682  33.126440  36.249605  44.672754  43.101514   \n",
       "48  34.057917  29.504647  33.120934  36.185486  44.575484  42.979011   \n",
       "49  34.105453  29.496027  33.112393  36.351515  44.444796  42.824852   \n",
       "50  34.188798  29.431733  33.091462  36.498816  44.387056  42.743941   \n",
       "\n",
       "            6          7          8          9  \n",
       "1   36.000000  33.000000  28.000000  39.000000  \n",
       "2   36.000000  33.000000  28.496771  39.466770  \n",
       "3   35.698679  33.314856  28.652869  39.018379  \n",
       "4   35.315475  33.474618  29.199421  38.776481  \n",
       "5   35.439147  33.762539  29.127952  38.673493  \n",
       "6   35.524844  33.642173  28.816009  38.868466  \n",
       "7   35.454243  33.673213  28.848494  39.038589  \n",
       "8   35.403457  33.713962  29.179617  38.833173  \n",
       "9   35.462085  33.500011  28.960588  39.566588  \n",
       "10  35.338120  33.638479  28.779113  39.601586  \n",
       "11  35.317532  33.761092  28.805070  39.216592  \n",
       "12  35.293300  33.711968  28.780241  39.389734  \n",
       "13  35.341456  33.625773  28.908215  39.500162  \n",
       "14  35.318895  33.656291  28.719217  39.524895  \n",
       "15  35.303175  33.726418  28.792795  39.484956  \n",
       "16  35.341917  33.745820  28.703026  39.572076  \n",
       "17  35.431013  33.912981  28.994392  39.659920  \n",
       "18  35.460756  33.963939  29.126091  39.889620  \n",
       "19  35.438242  34.102012  29.069070  39.762949  \n",
       "20  35.417872  34.181822  29.176502  39.580059  \n",
       "21  35.395334  34.251485  29.327297  39.433946  \n",
       "22  35.421296  34.357312  29.340753  39.441675  \n",
       "23  35.439614  34.461598  29.208907  39.152301  \n",
       "24  35.422773  34.549283  29.158470  38.900171  \n",
       "25  35.512468  34.635538  29.075142  38.798524  \n",
       "26  35.494384  34.740987  29.144690  38.614094  \n",
       "27  35.577572  34.717907  29.175590  38.596074  \n",
       "28  35.588794  34.793730  29.150546  38.533356  \n",
       "29  35.602680  34.685240  29.228427  38.658831  \n",
       "30  35.610034  34.750976  29.219728  38.793407  \n",
       "31  35.648509  34.679747  29.269479  38.804038  \n",
       "32  35.686729  34.697081  29.200952  38.806694  \n",
       "33  35.696419  34.654509  29.501243  38.728893  \n",
       "34  35.674780  34.688233  29.664291  38.547767  \n",
       "35  35.730156  34.771639  29.614713  38.674105  \n",
       "36  35.781733  34.828017  29.499775  38.707543  \n",
       "37  35.858483  34.875234  29.553430  38.567053  \n",
       "38  35.906778  34.837473  29.469089  38.595197  \n",
       "39  35.968221  34.822370  29.520594  38.420015  \n",
       "40  35.943530  34.917213  29.434444  38.621231  \n",
       "41  35.924708  34.945982  29.335751  38.507966  \n",
       "42  35.942806  34.948836  29.263812  38.431768  \n",
       "43  35.923515  35.009258  29.193568  38.487345  \n",
       "44  35.958041  35.143573  29.385334  38.448747  \n",
       "45  35.940428  35.143446  29.385150  38.417604  \n",
       "46  35.940527  35.122458  29.447372  38.465273  \n",
       "47  35.979573  35.159478  29.518892  38.580754  \n",
       "48  36.086532  35.196876  29.657084  38.636028  \n",
       "49  36.154948  35.194307  29.779684  38.536024  \n",
       "50  36.185635  35.231436  29.890605  38.350518  "
      ]
     },
     "execution_count": 93,
     "metadata": {},
     "output_type": "execute_result"
    }
   ],
   "source": [
    "result_predict_proba_sum = pd.DataFrame(index=[i for i in range(1,51)], data=pred_proba_sum)\n",
    "result_predict_proba_mean = pd.DataFrame(index=[i for i in range(1,51)], data=pred_proba_mean)\n",
    "\n",
    "print('Sum the output probabilities for each class for different n_neighbors')\n",
    "result_predict_proba_sum"
   ]
  },
  {
   "cell_type": "code",
   "execution_count": 94,
   "metadata": {
    "colab": {
     "base_uri": "https://localhost:8080/",
     "height": 1000
    },
    "id": "VyDrRmGdsgHi",
    "outputId": "3c85ce03-1f9e-498b-b47b-522c530cc800"
   },
   "outputs": [
    {
     "name": "stdout",
     "output_type": "stream",
     "text": [
      "Mean the output probabilities for each class for different n_neighbors\n"
     ]
    },
    {
     "data": {
      "text/html": [
       "\n",
       "  <div id=\"df-0b0799cb-a1e7-4762-98c3-0fd89239b604\">\n",
       "    <div class=\"colab-df-container\">\n",
       "      <div>\n",
       "<style scoped>\n",
       "    .dataframe tbody tr th:only-of-type {\n",
       "        vertical-align: middle;\n",
       "    }\n",
       "\n",
       "    .dataframe tbody tr th {\n",
       "        vertical-align: top;\n",
       "    }\n",
       "\n",
       "    .dataframe thead th {\n",
       "        text-align: right;\n",
       "    }\n",
       "</style>\n",
       "<table border=\"1\" class=\"dataframe\">\n",
       "  <thead>\n",
       "    <tr style=\"text-align: right;\">\n",
       "      <th></th>\n",
       "      <th>0</th>\n",
       "      <th>1</th>\n",
       "      <th>2</th>\n",
       "      <th>3</th>\n",
       "      <th>4</th>\n",
       "      <th>5</th>\n",
       "      <th>6</th>\n",
       "      <th>7</th>\n",
       "      <th>8</th>\n",
       "      <th>9</th>\n",
       "    </tr>\n",
       "  </thead>\n",
       "  <tbody>\n",
       "    <tr>\n",
       "      <th>1</th>\n",
       "      <td>0.091667</td>\n",
       "      <td>0.083333</td>\n",
       "      <td>0.091667</td>\n",
       "      <td>0.097222</td>\n",
       "      <td>0.127778</td>\n",
       "      <td>0.130556</td>\n",
       "      <td>0.100000</td>\n",
       "      <td>0.091667</td>\n",
       "      <td>0.077778</td>\n",
       "      <td>0.108333</td>\n",
       "    </tr>\n",
       "    <tr>\n",
       "      <th>2</th>\n",
       "      <td>0.091667</td>\n",
       "      <td>0.081946</td>\n",
       "      <td>0.091667</td>\n",
       "      <td>0.097222</td>\n",
       "      <td>0.129165</td>\n",
       "      <td>0.127879</td>\n",
       "      <td>0.100000</td>\n",
       "      <td>0.091667</td>\n",
       "      <td>0.079158</td>\n",
       "      <td>0.109630</td>\n",
       "    </tr>\n",
       "    <tr>\n",
       "      <th>3</th>\n",
       "      <td>0.091667</td>\n",
       "      <td>0.082346</td>\n",
       "      <td>0.091667</td>\n",
       "      <td>0.096381</td>\n",
       "      <td>0.128738</td>\n",
       "      <td>0.129521</td>\n",
       "      <td>0.099163</td>\n",
       "      <td>0.092541</td>\n",
       "      <td>0.079591</td>\n",
       "      <td>0.108384</td>\n",
       "    </tr>\n",
       "    <tr>\n",
       "      <th>4</th>\n",
       "      <td>0.091667</td>\n",
       "      <td>0.081375</td>\n",
       "      <td>0.091667</td>\n",
       "      <td>0.095283</td>\n",
       "      <td>0.128506</td>\n",
       "      <td>0.131597</td>\n",
       "      <td>0.098099</td>\n",
       "      <td>0.092985</td>\n",
       "      <td>0.081110</td>\n",
       "      <td>0.107712</td>\n",
       "    </tr>\n",
       "    <tr>\n",
       "      <th>5</th>\n",
       "      <td>0.091667</td>\n",
       "      <td>0.080737</td>\n",
       "      <td>0.091667</td>\n",
       "      <td>0.095104</td>\n",
       "      <td>0.128835</td>\n",
       "      <td>0.131427</td>\n",
       "      <td>0.098442</td>\n",
       "      <td>0.093785</td>\n",
       "      <td>0.080911</td>\n",
       "      <td>0.107426</td>\n",
       "    </tr>\n",
       "    <tr>\n",
       "      <th>6</th>\n",
       "      <td>0.091667</td>\n",
       "      <td>0.082391</td>\n",
       "      <td>0.091667</td>\n",
       "      <td>0.094582</td>\n",
       "      <td>0.128244</td>\n",
       "      <td>0.131307</td>\n",
       "      <td>0.098680</td>\n",
       "      <td>0.093450</td>\n",
       "      <td>0.080044</td>\n",
       "      <td>0.107968</td>\n",
       "    </tr>\n",
       "    <tr>\n",
       "      <th>7</th>\n",
       "      <td>0.091667</td>\n",
       "      <td>0.083160</td>\n",
       "      <td>0.091665</td>\n",
       "      <td>0.093867</td>\n",
       "      <td>0.127827</td>\n",
       "      <td>0.131218</td>\n",
       "      <td>0.098484</td>\n",
       "      <td>0.093537</td>\n",
       "      <td>0.080135</td>\n",
       "      <td>0.108441</td>\n",
       "    </tr>\n",
       "    <tr>\n",
       "      <th>8</th>\n",
       "      <td>0.091667</td>\n",
       "      <td>0.082582</td>\n",
       "      <td>0.091963</td>\n",
       "      <td>0.094243</td>\n",
       "      <td>0.127825</td>\n",
       "      <td>0.130802</td>\n",
       "      <td>0.098343</td>\n",
       "      <td>0.093650</td>\n",
       "      <td>0.081054</td>\n",
       "      <td>0.107870</td>\n",
       "    </tr>\n",
       "    <tr>\n",
       "      <th>9</th>\n",
       "      <td>0.091667</td>\n",
       "      <td>0.083536</td>\n",
       "      <td>0.091411</td>\n",
       "      <td>0.093978</td>\n",
       "      <td>0.127794</td>\n",
       "      <td>0.129699</td>\n",
       "      <td>0.098506</td>\n",
       "      <td>0.093056</td>\n",
       "      <td>0.080446</td>\n",
       "      <td>0.109907</td>\n",
       "    </tr>\n",
       "    <tr>\n",
       "      <th>10</th>\n",
       "      <td>0.091667</td>\n",
       "      <td>0.084501</td>\n",
       "      <td>0.090935</td>\n",
       "      <td>0.094537</td>\n",
       "      <td>0.128027</td>\n",
       "      <td>0.128785</td>\n",
       "      <td>0.098161</td>\n",
       "      <td>0.093440</td>\n",
       "      <td>0.079942</td>\n",
       "      <td>0.110004</td>\n",
       "    </tr>\n",
       "    <tr>\n",
       "      <th>11</th>\n",
       "      <td>0.091667</td>\n",
       "      <td>0.084065</td>\n",
       "      <td>0.090929</td>\n",
       "      <td>0.095585</td>\n",
       "      <td>0.128005</td>\n",
       "      <td>0.128914</td>\n",
       "      <td>0.098104</td>\n",
       "      <td>0.093781</td>\n",
       "      <td>0.080014</td>\n",
       "      <td>0.108935</td>\n",
       "    </tr>\n",
       "    <tr>\n",
       "      <th>12</th>\n",
       "      <td>0.091872</td>\n",
       "      <td>0.083718</td>\n",
       "      <td>0.090615</td>\n",
       "      <td>0.096091</td>\n",
       "      <td>0.127821</td>\n",
       "      <td>0.128839</td>\n",
       "      <td>0.098037</td>\n",
       "      <td>0.093644</td>\n",
       "      <td>0.079945</td>\n",
       "      <td>0.109416</td>\n",
       "    </tr>\n",
       "    <tr>\n",
       "      <th>13</th>\n",
       "      <td>0.091858</td>\n",
       "      <td>0.083528</td>\n",
       "      <td>0.090664</td>\n",
       "      <td>0.095581</td>\n",
       "      <td>0.127995</td>\n",
       "      <td>0.128775</td>\n",
       "      <td>0.098171</td>\n",
       "      <td>0.093405</td>\n",
       "      <td>0.080301</td>\n",
       "      <td>0.109723</td>\n",
       "    </tr>\n",
       "    <tr>\n",
       "      <th>14</th>\n",
       "      <td>0.092025</td>\n",
       "      <td>0.084518</td>\n",
       "      <td>0.090351</td>\n",
       "      <td>0.096234</td>\n",
       "      <td>0.127523</td>\n",
       "      <td>0.128186</td>\n",
       "      <td>0.098108</td>\n",
       "      <td>0.093490</td>\n",
       "      <td>0.079776</td>\n",
       "      <td>0.109791</td>\n",
       "    </tr>\n",
       "    <tr>\n",
       "      <th>15</th>\n",
       "      <td>0.092171</td>\n",
       "      <td>0.084447</td>\n",
       "      <td>0.090370</td>\n",
       "      <td>0.096631</td>\n",
       "      <td>0.126627</td>\n",
       "      <td>0.128346</td>\n",
       "      <td>0.098064</td>\n",
       "      <td>0.093684</td>\n",
       "      <td>0.079980</td>\n",
       "      <td>0.109680</td>\n",
       "    </tr>\n",
       "    <tr>\n",
       "      <th>16</th>\n",
       "      <td>0.092145</td>\n",
       "      <td>0.084669</td>\n",
       "      <td>0.091160</td>\n",
       "      <td>0.095586</td>\n",
       "      <td>0.126693</td>\n",
       "      <td>0.128184</td>\n",
       "      <td>0.098172</td>\n",
       "      <td>0.093738</td>\n",
       "      <td>0.079731</td>\n",
       "      <td>0.109922</td>\n",
       "    </tr>\n",
       "    <tr>\n",
       "      <th>17</th>\n",
       "      <td>0.091976</td>\n",
       "      <td>0.083962</td>\n",
       "      <td>0.090763</td>\n",
       "      <td>0.095658</td>\n",
       "      <td>0.127024</td>\n",
       "      <td>0.127288</td>\n",
       "      <td>0.098419</td>\n",
       "      <td>0.094203</td>\n",
       "      <td>0.080540</td>\n",
       "      <td>0.110166</td>\n",
       "    </tr>\n",
       "    <tr>\n",
       "      <th>18</th>\n",
       "      <td>0.092238</td>\n",
       "      <td>0.083529</td>\n",
       "      <td>0.090793</td>\n",
       "      <td>0.094930</td>\n",
       "      <td>0.127191</td>\n",
       "      <td>0.126762</td>\n",
       "      <td>0.098502</td>\n",
       "      <td>0.094344</td>\n",
       "      <td>0.080906</td>\n",
       "      <td>0.110804</td>\n",
       "    </tr>\n",
       "    <tr>\n",
       "      <th>19</th>\n",
       "      <td>0.092343</td>\n",
       "      <td>0.083903</td>\n",
       "      <td>0.090701</td>\n",
       "      <td>0.094911</td>\n",
       "      <td>0.126961</td>\n",
       "      <td>0.126814</td>\n",
       "      <td>0.098440</td>\n",
       "      <td>0.094728</td>\n",
       "      <td>0.080747</td>\n",
       "      <td>0.110453</td>\n",
       "    </tr>\n",
       "    <tr>\n",
       "      <th>20</th>\n",
       "      <td>0.092438</td>\n",
       "      <td>0.083833</td>\n",
       "      <td>0.090608</td>\n",
       "      <td>0.095859</td>\n",
       "      <td>0.126777</td>\n",
       "      <td>0.126161</td>\n",
       "      <td>0.098383</td>\n",
       "      <td>0.094950</td>\n",
       "      <td>0.081046</td>\n",
       "      <td>0.109945</td>\n",
       "    </tr>\n",
       "    <tr>\n",
       "      <th>21</th>\n",
       "      <td>0.092405</td>\n",
       "      <td>0.083525</td>\n",
       "      <td>0.090856</td>\n",
       "      <td>0.095901</td>\n",
       "      <td>0.126501</td>\n",
       "      <td>0.126345</td>\n",
       "      <td>0.098320</td>\n",
       "      <td>0.095143</td>\n",
       "      <td>0.081465</td>\n",
       "      <td>0.109539</td>\n",
       "    </tr>\n",
       "    <tr>\n",
       "      <th>22</th>\n",
       "      <td>0.092489</td>\n",
       "      <td>0.083416</td>\n",
       "      <td>0.090934</td>\n",
       "      <td>0.095942</td>\n",
       "      <td>0.126450</td>\n",
       "      <td>0.125877</td>\n",
       "      <td>0.098392</td>\n",
       "      <td>0.095437</td>\n",
       "      <td>0.081502</td>\n",
       "      <td>0.109560</td>\n",
       "    </tr>\n",
       "    <tr>\n",
       "      <th>23</th>\n",
       "      <td>0.092567</td>\n",
       "      <td>0.083210</td>\n",
       "      <td>0.091298</td>\n",
       "      <td>0.096529</td>\n",
       "      <td>0.126571</td>\n",
       "      <td>0.125764</td>\n",
       "      <td>0.098443</td>\n",
       "      <td>0.095727</td>\n",
       "      <td>0.081136</td>\n",
       "      <td>0.108756</td>\n",
       "    </tr>\n",
       "    <tr>\n",
       "      <th>24</th>\n",
       "      <td>0.092430</td>\n",
       "      <td>0.083261</td>\n",
       "      <td>0.091386</td>\n",
       "      <td>0.097042</td>\n",
       "      <td>0.126424</td>\n",
       "      <td>0.126039</td>\n",
       "      <td>0.098397</td>\n",
       "      <td>0.095970</td>\n",
       "      <td>0.080996</td>\n",
       "      <td>0.108056</td>\n",
       "    </tr>\n",
       "    <tr>\n",
       "      <th>25</th>\n",
       "      <td>0.092504</td>\n",
       "      <td>0.083238</td>\n",
       "      <td>0.091556</td>\n",
       "      <td>0.097018</td>\n",
       "      <td>0.126196</td>\n",
       "      <td>0.126094</td>\n",
       "      <td>0.098646</td>\n",
       "      <td>0.096210</td>\n",
       "      <td>0.080764</td>\n",
       "      <td>0.107774</td>\n",
       "    </tr>\n",
       "    <tr>\n",
       "      <th>26</th>\n",
       "      <td>0.092665</td>\n",
       "      <td>0.082898</td>\n",
       "      <td>0.091604</td>\n",
       "      <td>0.097283</td>\n",
       "      <td>0.126167</td>\n",
       "      <td>0.126066</td>\n",
       "      <td>0.098596</td>\n",
       "      <td>0.096503</td>\n",
       "      <td>0.080957</td>\n",
       "      <td>0.107261</td>\n",
       "    </tr>\n",
       "    <tr>\n",
       "      <th>27</th>\n",
       "      <td>0.092627</td>\n",
       "      <td>0.083033</td>\n",
       "      <td>0.091636</td>\n",
       "      <td>0.097378</td>\n",
       "      <td>0.126134</td>\n",
       "      <td>0.125671</td>\n",
       "      <td>0.098827</td>\n",
       "      <td>0.096439</td>\n",
       "      <td>0.081043</td>\n",
       "      <td>0.107211</td>\n",
       "    </tr>\n",
       "    <tr>\n",
       "      <th>28</th>\n",
       "      <td>0.092767</td>\n",
       "      <td>0.082840</td>\n",
       "      <td>0.092196</td>\n",
       "      <td>0.097520</td>\n",
       "      <td>0.126107</td>\n",
       "      <td>0.125052</td>\n",
       "      <td>0.098858</td>\n",
       "      <td>0.096649</td>\n",
       "      <td>0.080974</td>\n",
       "      <td>0.107037</td>\n",
       "    </tr>\n",
       "    <tr>\n",
       "      <th>29</th>\n",
       "      <td>0.092894</td>\n",
       "      <td>0.082674</td>\n",
       "      <td>0.092379</td>\n",
       "      <td>0.097586</td>\n",
       "      <td>0.126087</td>\n",
       "      <td>0.124560</td>\n",
       "      <td>0.098896</td>\n",
       "      <td>0.096348</td>\n",
       "      <td>0.081190</td>\n",
       "      <td>0.107386</td>\n",
       "    </tr>\n",
       "    <tr>\n",
       "      <th>30</th>\n",
       "      <td>0.093095</td>\n",
       "      <td>0.082513</td>\n",
       "      <td>0.092649</td>\n",
       "      <td>0.097535</td>\n",
       "      <td>0.125970</td>\n",
       "      <td>0.123865</td>\n",
       "      <td>0.098917</td>\n",
       "      <td>0.096530</td>\n",
       "      <td>0.081166</td>\n",
       "      <td>0.107759</td>\n",
       "    </tr>\n",
       "    <tr>\n",
       "      <th>31</th>\n",
       "      <td>0.093213</td>\n",
       "      <td>0.082547</td>\n",
       "      <td>0.092677</td>\n",
       "      <td>0.097748</td>\n",
       "      <td>0.126094</td>\n",
       "      <td>0.123271</td>\n",
       "      <td>0.099024</td>\n",
       "      <td>0.096333</td>\n",
       "      <td>0.081304</td>\n",
       "      <td>0.107789</td>\n",
       "    </tr>\n",
       "    <tr>\n",
       "      <th>32</th>\n",
       "      <td>0.093324</td>\n",
       "      <td>0.082506</td>\n",
       "      <td>0.092543</td>\n",
       "      <td>0.098035</td>\n",
       "      <td>0.125915</td>\n",
       "      <td>0.123257</td>\n",
       "      <td>0.099130</td>\n",
       "      <td>0.096381</td>\n",
       "      <td>0.081114</td>\n",
       "      <td>0.107796</td>\n",
       "    </tr>\n",
       "    <tr>\n",
       "      <th>33</th>\n",
       "      <td>0.093350</td>\n",
       "      <td>0.082067</td>\n",
       "      <td>0.092294</td>\n",
       "      <td>0.098581</td>\n",
       "      <td>0.125678</td>\n",
       "      <td>0.123083</td>\n",
       "      <td>0.099157</td>\n",
       "      <td>0.096263</td>\n",
       "      <td>0.081948</td>\n",
       "      <td>0.107580</td>\n",
       "    </tr>\n",
       "    <tr>\n",
       "      <th>34</th>\n",
       "      <td>0.093517</td>\n",
       "      <td>0.081791</td>\n",
       "      <td>0.092145</td>\n",
       "      <td>0.098951</td>\n",
       "      <td>0.125403</td>\n",
       "      <td>0.123263</td>\n",
       "      <td>0.099097</td>\n",
       "      <td>0.096356</td>\n",
       "      <td>0.082401</td>\n",
       "      <td>0.107077</td>\n",
       "    </tr>\n",
       "    <tr>\n",
       "      <th>35</th>\n",
       "      <td>0.093540</td>\n",
       "      <td>0.081810</td>\n",
       "      <td>0.091925</td>\n",
       "      <td>0.099312</td>\n",
       "      <td>0.125197</td>\n",
       "      <td>0.122687</td>\n",
       "      <td>0.099250</td>\n",
       "      <td>0.096588</td>\n",
       "      <td>0.082263</td>\n",
       "      <td>0.107428</td>\n",
       "    </tr>\n",
       "    <tr>\n",
       "      <th>36</th>\n",
       "      <td>0.093621</td>\n",
       "      <td>0.082027</td>\n",
       "      <td>0.091975</td>\n",
       "      <td>0.099444</td>\n",
       "      <td>0.124934</td>\n",
       "      <td>0.122396</td>\n",
       "      <td>0.099394</td>\n",
       "      <td>0.096744</td>\n",
       "      <td>0.081944</td>\n",
       "      <td>0.107521</td>\n",
       "    </tr>\n",
       "    <tr>\n",
       "      <th>37</th>\n",
       "      <td>0.093642</td>\n",
       "      <td>0.081971</td>\n",
       "      <td>0.092277</td>\n",
       "      <td>0.099126</td>\n",
       "      <td>0.124999</td>\n",
       "      <td>0.122279</td>\n",
       "      <td>0.099607</td>\n",
       "      <td>0.096876</td>\n",
       "      <td>0.082093</td>\n",
       "      <td>0.107131</td>\n",
       "    </tr>\n",
       "    <tr>\n",
       "      <th>38</th>\n",
       "      <td>0.093720</td>\n",
       "      <td>0.082218</td>\n",
       "      <td>0.092248</td>\n",
       "      <td>0.099142</td>\n",
       "      <td>0.125112</td>\n",
       "      <td>0.121981</td>\n",
       "      <td>0.099741</td>\n",
       "      <td>0.096771</td>\n",
       "      <td>0.081859</td>\n",
       "      <td>0.107209</td>\n",
       "    </tr>\n",
       "    <tr>\n",
       "      <th>39</th>\n",
       "      <td>0.093865</td>\n",
       "      <td>0.081981</td>\n",
       "      <td>0.092418</td>\n",
       "      <td>0.099397</td>\n",
       "      <td>0.124981</td>\n",
       "      <td>0.121993</td>\n",
       "      <td>0.099912</td>\n",
       "      <td>0.096729</td>\n",
       "      <td>0.082002</td>\n",
       "      <td>0.106722</td>\n",
       "    </tr>\n",
       "    <tr>\n",
       "      <th>40</th>\n",
       "      <td>0.094045</td>\n",
       "      <td>0.081995</td>\n",
       "      <td>0.092325</td>\n",
       "      <td>0.099523</td>\n",
       "      <td>0.124701</td>\n",
       "      <td>0.121532</td>\n",
       "      <td>0.099843</td>\n",
       "      <td>0.096992</td>\n",
       "      <td>0.081762</td>\n",
       "      <td>0.107281</td>\n",
       "    </tr>\n",
       "    <tr>\n",
       "      <th>41</th>\n",
       "      <td>0.094166</td>\n",
       "      <td>0.082205</td>\n",
       "      <td>0.092527</td>\n",
       "      <td>0.099868</td>\n",
       "      <td>0.124537</td>\n",
       "      <td>0.121379</td>\n",
       "      <td>0.099791</td>\n",
       "      <td>0.097072</td>\n",
       "      <td>0.081488</td>\n",
       "      <td>0.106967</td>\n",
       "    </tr>\n",
       "    <tr>\n",
       "      <th>42</th>\n",
       "      <td>0.094231</td>\n",
       "      <td>0.082263</td>\n",
       "      <td>0.092609</td>\n",
       "      <td>0.100253</td>\n",
       "      <td>0.124269</td>\n",
       "      <td>0.121411</td>\n",
       "      <td>0.099841</td>\n",
       "      <td>0.097080</td>\n",
       "      <td>0.081288</td>\n",
       "      <td>0.106755</td>\n",
       "    </tr>\n",
       "    <tr>\n",
       "      <th>43</th>\n",
       "      <td>0.094237</td>\n",
       "      <td>0.082433</td>\n",
       "      <td>0.092849</td>\n",
       "      <td>0.100386</td>\n",
       "      <td>0.124229</td>\n",
       "      <td>0.120829</td>\n",
       "      <td>0.099788</td>\n",
       "      <td>0.097248</td>\n",
       "      <td>0.081093</td>\n",
       "      <td>0.106909</td>\n",
       "    </tr>\n",
       "    <tr>\n",
       "      <th>44</th>\n",
       "      <td>0.094358</td>\n",
       "      <td>0.082120</td>\n",
       "      <td>0.092496</td>\n",
       "      <td>0.100636</td>\n",
       "      <td>0.123986</td>\n",
       "      <td>0.120471</td>\n",
       "      <td>0.099883</td>\n",
       "      <td>0.097621</td>\n",
       "      <td>0.081626</td>\n",
       "      <td>0.106802</td>\n",
       "    </tr>\n",
       "    <tr>\n",
       "      <th>45</th>\n",
       "      <td>0.094413</td>\n",
       "      <td>0.082329</td>\n",
       "      <td>0.092312</td>\n",
       "      <td>0.100680</td>\n",
       "      <td>0.124015</td>\n",
       "      <td>0.120455</td>\n",
       "      <td>0.099835</td>\n",
       "      <td>0.097621</td>\n",
       "      <td>0.081625</td>\n",
       "      <td>0.106716</td>\n",
       "    </tr>\n",
       "    <tr>\n",
       "      <th>46</th>\n",
       "      <td>0.094515</td>\n",
       "      <td>0.082425</td>\n",
       "      <td>0.092131</td>\n",
       "      <td>0.100666</td>\n",
       "      <td>0.124081</td>\n",
       "      <td>0.120139</td>\n",
       "      <td>0.099835</td>\n",
       "      <td>0.097562</td>\n",
       "      <td>0.081798</td>\n",
       "      <td>0.106848</td>\n",
       "    </tr>\n",
       "    <tr>\n",
       "      <th>47</th>\n",
       "      <td>0.094568</td>\n",
       "      <td>0.082130</td>\n",
       "      <td>0.092018</td>\n",
       "      <td>0.100693</td>\n",
       "      <td>0.124091</td>\n",
       "      <td>0.119726</td>\n",
       "      <td>0.099943</td>\n",
       "      <td>0.097665</td>\n",
       "      <td>0.081997</td>\n",
       "      <td>0.107169</td>\n",
       "    </tr>\n",
       "    <tr>\n",
       "      <th>48</th>\n",
       "      <td>0.094605</td>\n",
       "      <td>0.081957</td>\n",
       "      <td>0.092003</td>\n",
       "      <td>0.100515</td>\n",
       "      <td>0.123821</td>\n",
       "      <td>0.119386</td>\n",
       "      <td>0.100240</td>\n",
       "      <td>0.097769</td>\n",
       "      <td>0.082381</td>\n",
       "      <td>0.107322</td>\n",
       "    </tr>\n",
       "    <tr>\n",
       "      <th>49</th>\n",
       "      <td>0.094737</td>\n",
       "      <td>0.081933</td>\n",
       "      <td>0.091979</td>\n",
       "      <td>0.100976</td>\n",
       "      <td>0.123458</td>\n",
       "      <td>0.118958</td>\n",
       "      <td>0.100430</td>\n",
       "      <td>0.097762</td>\n",
       "      <td>0.082721</td>\n",
       "      <td>0.107045</td>\n",
       "    </tr>\n",
       "    <tr>\n",
       "      <th>50</th>\n",
       "      <td>0.094969</td>\n",
       "      <td>0.081755</td>\n",
       "      <td>0.091921</td>\n",
       "      <td>0.101386</td>\n",
       "      <td>0.123297</td>\n",
       "      <td>0.118733</td>\n",
       "      <td>0.100516</td>\n",
       "      <td>0.097865</td>\n",
       "      <td>0.083029</td>\n",
       "      <td>0.106529</td>\n",
       "    </tr>\n",
       "  </tbody>\n",
       "</table>\n",
       "</div>\n",
       "      <button class=\"colab-df-convert\" onclick=\"convertToInteractive('df-0b0799cb-a1e7-4762-98c3-0fd89239b604')\"\n",
       "              title=\"Convert this dataframe to an interactive table.\"\n",
       "              style=\"display:none;\">\n",
       "        \n",
       "  <svg xmlns=\"http://www.w3.org/2000/svg\" height=\"24px\"viewBox=\"0 0 24 24\"\n",
       "       width=\"24px\">\n",
       "    <path d=\"M0 0h24v24H0V0z\" fill=\"none\"/>\n",
       "    <path d=\"M18.56 5.44l.94 2.06.94-2.06 2.06-.94-2.06-.94-.94-2.06-.94 2.06-2.06.94zm-11 1L8.5 8.5l.94-2.06 2.06-.94-2.06-.94L8.5 2.5l-.94 2.06-2.06.94zm10 10l.94 2.06.94-2.06 2.06-.94-2.06-.94-.94-2.06-.94 2.06-2.06.94z\"/><path d=\"M17.41 7.96l-1.37-1.37c-.4-.4-.92-.59-1.43-.59-.52 0-1.04.2-1.43.59L10.3 9.45l-7.72 7.72c-.78.78-.78 2.05 0 2.83L4 21.41c.39.39.9.59 1.41.59.51 0 1.02-.2 1.41-.59l7.78-7.78 2.81-2.81c.8-.78.8-2.07 0-2.86zM5.41 20L4 18.59l7.72-7.72 1.47 1.35L5.41 20z\"/>\n",
       "  </svg>\n",
       "      </button>\n",
       "      \n",
       "  <style>\n",
       "    .colab-df-container {\n",
       "      display:flex;\n",
       "      flex-wrap:wrap;\n",
       "      gap: 12px;\n",
       "    }\n",
       "\n",
       "    .colab-df-convert {\n",
       "      background-color: #E8F0FE;\n",
       "      border: none;\n",
       "      border-radius: 50%;\n",
       "      cursor: pointer;\n",
       "      display: none;\n",
       "      fill: #1967D2;\n",
       "      height: 32px;\n",
       "      padding: 0 0 0 0;\n",
       "      width: 32px;\n",
       "    }\n",
       "\n",
       "    .colab-df-convert:hover {\n",
       "      background-color: #E2EBFA;\n",
       "      box-shadow: 0px 1px 2px rgba(60, 64, 67, 0.3), 0px 1px 3px 1px rgba(60, 64, 67, 0.15);\n",
       "      fill: #174EA6;\n",
       "    }\n",
       "\n",
       "    [theme=dark] .colab-df-convert {\n",
       "      background-color: #3B4455;\n",
       "      fill: #D2E3FC;\n",
       "    }\n",
       "\n",
       "    [theme=dark] .colab-df-convert:hover {\n",
       "      background-color: #434B5C;\n",
       "      box-shadow: 0px 1px 3px 1px rgba(0, 0, 0, 0.15);\n",
       "      filter: drop-shadow(0px 1px 2px rgba(0, 0, 0, 0.3));\n",
       "      fill: #FFFFFF;\n",
       "    }\n",
       "  </style>\n",
       "\n",
       "      <script>\n",
       "        const buttonEl =\n",
       "          document.querySelector('#df-0b0799cb-a1e7-4762-98c3-0fd89239b604 button.colab-df-convert');\n",
       "        buttonEl.style.display =\n",
       "          google.colab.kernel.accessAllowed ? 'block' : 'none';\n",
       "\n",
       "        async function convertToInteractive(key) {\n",
       "          const element = document.querySelector('#df-0b0799cb-a1e7-4762-98c3-0fd89239b604');\n",
       "          const dataTable =\n",
       "            await google.colab.kernel.invokeFunction('convertToInteractive',\n",
       "                                                     [key], {});\n",
       "          if (!dataTable) return;\n",
       "\n",
       "          const docLinkHtml = 'Like what you see? Visit the ' +\n",
       "            '<a target=\"_blank\" href=https://colab.research.google.com/notebooks/data_table.ipynb>data table notebook</a>'\n",
       "            + ' to learn more about interactive tables.';\n",
       "          element.innerHTML = '';\n",
       "          dataTable['output_type'] = 'display_data';\n",
       "          await google.colab.output.renderOutput(dataTable, element);\n",
       "          const docLink = document.createElement('div');\n",
       "          docLink.innerHTML = docLinkHtml;\n",
       "          element.appendChild(docLink);\n",
       "        }\n",
       "      </script>\n",
       "    </div>\n",
       "  </div>\n",
       "  "
      ],
      "text/plain": [
       "           0         1         2         3         4         5         6  \\\n",
       "1   0.091667  0.083333  0.091667  0.097222  0.127778  0.130556  0.100000   \n",
       "2   0.091667  0.081946  0.091667  0.097222  0.129165  0.127879  0.100000   \n",
       "3   0.091667  0.082346  0.091667  0.096381  0.128738  0.129521  0.099163   \n",
       "4   0.091667  0.081375  0.091667  0.095283  0.128506  0.131597  0.098099   \n",
       "5   0.091667  0.080737  0.091667  0.095104  0.128835  0.131427  0.098442   \n",
       "6   0.091667  0.082391  0.091667  0.094582  0.128244  0.131307  0.098680   \n",
       "7   0.091667  0.083160  0.091665  0.093867  0.127827  0.131218  0.098484   \n",
       "8   0.091667  0.082582  0.091963  0.094243  0.127825  0.130802  0.098343   \n",
       "9   0.091667  0.083536  0.091411  0.093978  0.127794  0.129699  0.098506   \n",
       "10  0.091667  0.084501  0.090935  0.094537  0.128027  0.128785  0.098161   \n",
       "11  0.091667  0.084065  0.090929  0.095585  0.128005  0.128914  0.098104   \n",
       "12  0.091872  0.083718  0.090615  0.096091  0.127821  0.128839  0.098037   \n",
       "13  0.091858  0.083528  0.090664  0.095581  0.127995  0.128775  0.098171   \n",
       "14  0.092025  0.084518  0.090351  0.096234  0.127523  0.128186  0.098108   \n",
       "15  0.092171  0.084447  0.090370  0.096631  0.126627  0.128346  0.098064   \n",
       "16  0.092145  0.084669  0.091160  0.095586  0.126693  0.128184  0.098172   \n",
       "17  0.091976  0.083962  0.090763  0.095658  0.127024  0.127288  0.098419   \n",
       "18  0.092238  0.083529  0.090793  0.094930  0.127191  0.126762  0.098502   \n",
       "19  0.092343  0.083903  0.090701  0.094911  0.126961  0.126814  0.098440   \n",
       "20  0.092438  0.083833  0.090608  0.095859  0.126777  0.126161  0.098383   \n",
       "21  0.092405  0.083525  0.090856  0.095901  0.126501  0.126345  0.098320   \n",
       "22  0.092489  0.083416  0.090934  0.095942  0.126450  0.125877  0.098392   \n",
       "23  0.092567  0.083210  0.091298  0.096529  0.126571  0.125764  0.098443   \n",
       "24  0.092430  0.083261  0.091386  0.097042  0.126424  0.126039  0.098397   \n",
       "25  0.092504  0.083238  0.091556  0.097018  0.126196  0.126094  0.098646   \n",
       "26  0.092665  0.082898  0.091604  0.097283  0.126167  0.126066  0.098596   \n",
       "27  0.092627  0.083033  0.091636  0.097378  0.126134  0.125671  0.098827   \n",
       "28  0.092767  0.082840  0.092196  0.097520  0.126107  0.125052  0.098858   \n",
       "29  0.092894  0.082674  0.092379  0.097586  0.126087  0.124560  0.098896   \n",
       "30  0.093095  0.082513  0.092649  0.097535  0.125970  0.123865  0.098917   \n",
       "31  0.093213  0.082547  0.092677  0.097748  0.126094  0.123271  0.099024   \n",
       "32  0.093324  0.082506  0.092543  0.098035  0.125915  0.123257  0.099130   \n",
       "33  0.093350  0.082067  0.092294  0.098581  0.125678  0.123083  0.099157   \n",
       "34  0.093517  0.081791  0.092145  0.098951  0.125403  0.123263  0.099097   \n",
       "35  0.093540  0.081810  0.091925  0.099312  0.125197  0.122687  0.099250   \n",
       "36  0.093621  0.082027  0.091975  0.099444  0.124934  0.122396  0.099394   \n",
       "37  0.093642  0.081971  0.092277  0.099126  0.124999  0.122279  0.099607   \n",
       "38  0.093720  0.082218  0.092248  0.099142  0.125112  0.121981  0.099741   \n",
       "39  0.093865  0.081981  0.092418  0.099397  0.124981  0.121993  0.099912   \n",
       "40  0.094045  0.081995  0.092325  0.099523  0.124701  0.121532  0.099843   \n",
       "41  0.094166  0.082205  0.092527  0.099868  0.124537  0.121379  0.099791   \n",
       "42  0.094231  0.082263  0.092609  0.100253  0.124269  0.121411  0.099841   \n",
       "43  0.094237  0.082433  0.092849  0.100386  0.124229  0.120829  0.099788   \n",
       "44  0.094358  0.082120  0.092496  0.100636  0.123986  0.120471  0.099883   \n",
       "45  0.094413  0.082329  0.092312  0.100680  0.124015  0.120455  0.099835   \n",
       "46  0.094515  0.082425  0.092131  0.100666  0.124081  0.120139  0.099835   \n",
       "47  0.094568  0.082130  0.092018  0.100693  0.124091  0.119726  0.099943   \n",
       "48  0.094605  0.081957  0.092003  0.100515  0.123821  0.119386  0.100240   \n",
       "49  0.094737  0.081933  0.091979  0.100976  0.123458  0.118958  0.100430   \n",
       "50  0.094969  0.081755  0.091921  0.101386  0.123297  0.118733  0.100516   \n",
       "\n",
       "           7         8         9  \n",
       "1   0.091667  0.077778  0.108333  \n",
       "2   0.091667  0.079158  0.109630  \n",
       "3   0.092541  0.079591  0.108384  \n",
       "4   0.092985  0.081110  0.107712  \n",
       "5   0.093785  0.080911  0.107426  \n",
       "6   0.093450  0.080044  0.107968  \n",
       "7   0.093537  0.080135  0.108441  \n",
       "8   0.093650  0.081054  0.107870  \n",
       "9   0.093056  0.080446  0.109907  \n",
       "10  0.093440  0.079942  0.110004  \n",
       "11  0.093781  0.080014  0.108935  \n",
       "12  0.093644  0.079945  0.109416  \n",
       "13  0.093405  0.080301  0.109723  \n",
       "14  0.093490  0.079776  0.109791  \n",
       "15  0.093684  0.079980  0.109680  \n",
       "16  0.093738  0.079731  0.109922  \n",
       "17  0.094203  0.080540  0.110166  \n",
       "18  0.094344  0.080906  0.110804  \n",
       "19  0.094728  0.080747  0.110453  \n",
       "20  0.094950  0.081046  0.109945  \n",
       "21  0.095143  0.081465  0.109539  \n",
       "22  0.095437  0.081502  0.109560  \n",
       "23  0.095727  0.081136  0.108756  \n",
       "24  0.095970  0.080996  0.108056  \n",
       "25  0.096210  0.080764  0.107774  \n",
       "26  0.096503  0.080957  0.107261  \n",
       "27  0.096439  0.081043  0.107211  \n",
       "28  0.096649  0.080974  0.107037  \n",
       "29  0.096348  0.081190  0.107386  \n",
       "30  0.096530  0.081166  0.107759  \n",
       "31  0.096333  0.081304  0.107789  \n",
       "32  0.096381  0.081114  0.107796  \n",
       "33  0.096263  0.081948  0.107580  \n",
       "34  0.096356  0.082401  0.107077  \n",
       "35  0.096588  0.082263  0.107428  \n",
       "36  0.096744  0.081944  0.107521  \n",
       "37  0.096876  0.082093  0.107131  \n",
       "38  0.096771  0.081859  0.107209  \n",
       "39  0.096729  0.082002  0.106722  \n",
       "40  0.096992  0.081762  0.107281  \n",
       "41  0.097072  0.081488  0.106967  \n",
       "42  0.097080  0.081288  0.106755  \n",
       "43  0.097248  0.081093  0.106909  \n",
       "44  0.097621  0.081626  0.106802  \n",
       "45  0.097621  0.081625  0.106716  \n",
       "46  0.097562  0.081798  0.106848  \n",
       "47  0.097665  0.081997  0.107169  \n",
       "48  0.097769  0.082381  0.107322  \n",
       "49  0.097762  0.082721  0.107045  \n",
       "50  0.097865  0.083029  0.106529  "
      ]
     },
     "execution_count": 94,
     "metadata": {},
     "output_type": "execute_result"
    }
   ],
   "source": [
    "print('Mean the output probabilities for each class for different n_neighbors')\n",
    "result_predict_proba_mean"
   ]
  },
  {
   "cell_type": "markdown",
   "metadata": {
    "id": "DK11kXifrK3t"
   },
   "source": [
    "With the optimal value of the nearest neighbors, the quality of the model is the highest. Before this value, with the growth of n_neighbors, the quality of the model increases, and after it decreases. It is noticeable that changes in the number of nearest neighbors affect the predictions of the model, the probabilities for different classes change. Also, as the number of n_neighbors increases, these probabilities become less stable."
   ]
  },
  {
   "cell_type": "markdown",
   "metadata": {
    "id": "7ZT93gCt2Pmf"
   },
   "source": [
    "**(0.5 points)** Compare both 'uniform' and 'distance' weights and share your thoughts in what situations which parameter can be better."
   ]
  },
  {
   "cell_type": "code",
   "execution_count": 95,
   "metadata": {
    "colab": {
     "base_uri": "https://localhost:8080/"
    },
    "id": "duErC3yE61I2",
    "outputId": "734539de-f59d-4c4c-bfcb-1aad24ae764a"
   },
   "outputs": [
    {
     "name": "stderr",
     "output_type": "stream",
     "text": [
      "100%|██████████| 50/50 [08:16<00:00,  9.92s/it]\n"
     ]
    }
   ],
   "source": [
    "NEIGBORS = np.linspace(1, 50, 50)\n",
    "f1_distance, f1_uniform = [], []\n",
    "for n in tqdm(NEIGBORS):\n",
    "  knn_distance = CustomKNeighborsClassifier(n_neighbors=int(n), weights='distance')\n",
    "  knn_uniform = CustomKNeighborsClassifier(n_neighbors=int(n), weights='uniform')\n",
    "  knn_distance.fit(X_train, y_train)\n",
    "  knn_uniform.fit(X_train, y_train)\n",
    "\n",
    "  f1_distance.append(f1_score(y_test, knn_distance.predict(X_test), average='macro'))\n",
    "  f1_uniform.append(f1_score(y_test, knn_uniform.predict(X_test), average='macro'))"
   ]
  },
  {
   "cell_type": "code",
   "execution_count": 96,
   "metadata": {
    "colab": {
     "base_uri": "https://localhost:8080/",
     "height": 295
    },
    "id": "WtdM9Cbz61MM",
    "outputId": "36dc8516-bd9a-4e59-970a-dd78a99a5b48"
   },
   "outputs": [
    {
     "data": {
      "image/png": "[encoded data removed]",
      "text/plain": [
       "<Figure size 432x288 with 1 Axes>"
      ]
     },
     "metadata": {
      "needs_background": "light"
     },
     "output_type": "display_data"
    }
   ],
   "source": [
    "plt.plot(NEIGBORS, f1_distance, label = 'distance')\n",
    "plt.plot(NEIGBORS, f1_uniform, label = 'uniform')\n",
    "plt.legend()\n",
    "plt.grid(True)\n",
    "plt.title('F1 for each n_neigbors')\n",
    "plt.xlabel('N neigbors')\n",
    "plt.ylabel('F1');"
   ]
  },
  {
   "cell_type": "code",
   "execution_count": 97,
   "metadata": {
    "colab": {
     "base_uri": "https://localhost:8080/"
    },
    "id": "PcHijeGXF6Iu",
    "outputId": "ea52b117-9662-4ffb-ea9a-16dc30736aa9"
   },
   "outputs": [
    {
     "data": {
      "text/plain": [
       "0.49114583333333334"
      ]
     },
     "execution_count": 97,
     "metadata": {},
     "output_type": "execute_result"
    }
   ],
   "source": [
    "all_els = X_test.shape[0]*X_test.shape[1]\n",
    "zero_els = all_els - np.count_nonzero(X_test)\n",
    "zero_els/all_els"
   ]
  },
  {
   "cell_type": "markdown",
   "metadata": {
    "id": "T_zTQgSqAy1K"
   },
   "source": [
    "For our task, taking into account the distance to the object is important. When weights='uniform' the quality of the model drops a lot. When uniform weights are being used, each neighbor carries the same weight in calculating the prediction. However, in some cases (when you have sparse data), it may be beneficial to use distance-based weights. As in our case where there are 64 columns in X and many null values (almost half)."
   ]
  },
  {
   "cell_type": "markdown",
   "metadata": {
    "id": "nl54UZFg2Pmg"
   },
   "source": [
    "**(0.5 points)** Suggest another distance measurement function that could improve the quality of the classification for this task. "
   ]
  },
  {
   "cell_type": "markdown",
   "metadata": {
    "id": "FmWjMLhxKKm2"
   },
   "source": [
    "It would be possible to try using Manhattan distance for this task. Manhattan distance is usually preferred over the more common Euclidean distance when there is high dimensionality in the data."
   ]
  },
  {
   "cell_type": "markdown",
   "metadata": {
    "id": "HolYizSE2Pmh"
   },
   "source": [
    "**(0.5 points)** Suggest different task and distance function that you think would be suitable for it."
   ]
  },
  {
   "cell_type": "markdown",
   "metadata": {
    "id": "5ag3oCYtLzXr"
   },
   "source": [
    "For the task of finding the shortest route in the city better using manhattan distance. Cosine metric is mainly used in Collaborative Filtering based recommendation systems to offer future recommendations to users."
   ]
  },
  {
   "cell_type": "markdown",
   "metadata": {
    "id": "6EKHFHsX2Pmi"
   },
   "source": [
    "## Part 3: Synthetic Titanic Survival Prediction"
   ]
  },
  {
   "cell_type": "markdown",
   "metadata": {
    "id": "lpndI8v12Pmi"
   },
   "source": [
    "### Dataset\n",
    "\n",
    "Read the description here: https://www.kaggle.com/c/tabular-playground-series-apr-2021/data. Download the dataset and place it in the *data/titanic/* folder in your working directory.\n",
    "You will use train.csv for model training and validation. The test set is used for model testing: once the model is trained, you can predict whether a passenger survived or not for each passenger in the test set, and submit the predictions: https://www.kaggle.com/c/tabular-playground-series-apr-2021/overview/evaluation.  \n"
   ]
  },
  {
   "cell_type": "code",
   "execution_count": 98,
   "metadata": {
    "id": "ReeuIC7F2Pmi"
   },
   "outputs": [],
   "source": [
    "PATH = \"\""
   ]
  },
  {
   "cell_type": "code",
   "execution_count": 99,
   "metadata": {
    "id": "jWoZc2ce2Pmj"
   },
   "outputs": [],
   "source": [
    "data = pd.read_csv(os.path.join(PATH, 'train.csv')).set_index('PassengerId')"
   ]
  },
  {
   "cell_type": "code",
   "execution_count": 100,
   "metadata": {
    "colab": {
     "base_uri": "https://localhost:8080/",
     "height": 238
    },
    "id": "4HOIcASt2Pmj",
    "outputId": "edfc8da6-7f8e-4d29-a67e-2d7583594c8a",
    "scrolled": true
   },
   "outputs": [
    {
     "data": {
      "text/html": [
       "\n",
       "  <div id=\"df-cf4c8075-b21b-4322-b60b-a1fce5d511c4\">\n",
       "    <div class=\"colab-df-container\">\n",
       "      <div>\n",
       "<style scoped>\n",
       "    .dataframe tbody tr th:only-of-type {\n",
       "        vertical-align: middle;\n",
       "    }\n",
       "\n",
       "    .dataframe tbody tr th {\n",
       "        vertical-align: top;\n",
       "    }\n",
       "\n",
       "    .dataframe thead th {\n",
       "        text-align: right;\n",
       "    }\n",
       "</style>\n",
       "<table border=\"1\" class=\"dataframe\">\n",
       "  <thead>\n",
       "    <tr style=\"text-align: right;\">\n",
       "      <th></th>\n",
       "      <th>Survived</th>\n",
       "      <th>Pclass</th>\n",
       "      <th>Name</th>\n",
       "      <th>Sex</th>\n",
       "      <th>Age</th>\n",
       "      <th>SibSp</th>\n",
       "      <th>Parch</th>\n",
       "      <th>Ticket</th>\n",
       "      <th>Fare</th>\n",
       "      <th>Cabin</th>\n",
       "      <th>Embarked</th>\n",
       "    </tr>\n",
       "    <tr>\n",
       "      <th>PassengerId</th>\n",
       "      <th></th>\n",
       "      <th></th>\n",
       "      <th></th>\n",
       "      <th></th>\n",
       "      <th></th>\n",
       "      <th></th>\n",
       "      <th></th>\n",
       "      <th></th>\n",
       "      <th></th>\n",
       "      <th></th>\n",
       "      <th></th>\n",
       "    </tr>\n",
       "  </thead>\n",
       "  <tbody>\n",
       "    <tr>\n",
       "      <th>0</th>\n",
       "      <td>1</td>\n",
       "      <td>1</td>\n",
       "      <td>Oconnor, Frankie</td>\n",
       "      <td>male</td>\n",
       "      <td>NaN</td>\n",
       "      <td>2</td>\n",
       "      <td>0</td>\n",
       "      <td>209245</td>\n",
       "      <td>27.14</td>\n",
       "      <td>C12239</td>\n",
       "      <td>S</td>\n",
       "    </tr>\n",
       "    <tr>\n",
       "      <th>1</th>\n",
       "      <td>0</td>\n",
       "      <td>3</td>\n",
       "      <td>Bryan, Drew</td>\n",
       "      <td>male</td>\n",
       "      <td>NaN</td>\n",
       "      <td>0</td>\n",
       "      <td>0</td>\n",
       "      <td>27323</td>\n",
       "      <td>13.35</td>\n",
       "      <td>NaN</td>\n",
       "      <td>S</td>\n",
       "    </tr>\n",
       "    <tr>\n",
       "      <th>2</th>\n",
       "      <td>0</td>\n",
       "      <td>3</td>\n",
       "      <td>Owens, Kenneth</td>\n",
       "      <td>male</td>\n",
       "      <td>0.33</td>\n",
       "      <td>1</td>\n",
       "      <td>2</td>\n",
       "      <td>CA 457703</td>\n",
       "      <td>71.29</td>\n",
       "      <td>NaN</td>\n",
       "      <td>S</td>\n",
       "    </tr>\n",
       "    <tr>\n",
       "      <th>3</th>\n",
       "      <td>0</td>\n",
       "      <td>3</td>\n",
       "      <td>Kramer, James</td>\n",
       "      <td>male</td>\n",
       "      <td>19.00</td>\n",
       "      <td>0</td>\n",
       "      <td>0</td>\n",
       "      <td>A. 10866</td>\n",
       "      <td>13.04</td>\n",
       "      <td>NaN</td>\n",
       "      <td>S</td>\n",
       "    </tr>\n",
       "    <tr>\n",
       "      <th>4</th>\n",
       "      <td>1</td>\n",
       "      <td>3</td>\n",
       "      <td>Bond, Michael</td>\n",
       "      <td>male</td>\n",
       "      <td>25.00</td>\n",
       "      <td>0</td>\n",
       "      <td>0</td>\n",
       "      <td>427635</td>\n",
       "      <td>7.76</td>\n",
       "      <td>NaN</td>\n",
       "      <td>S</td>\n",
       "    </tr>\n",
       "  </tbody>\n",
       "</table>\n",
       "</div>\n",
       "      <button class=\"colab-df-convert\" onclick=\"convertToInteractive('df-cf4c8075-b21b-4322-b60b-a1fce5d511c4')\"\n",
       "              title=\"Convert this dataframe to an interactive table.\"\n",
       "              style=\"display:none;\">\n",
       "        \n",
       "  <svg xmlns=\"http://www.w3.org/2000/svg\" height=\"24px\"viewBox=\"0 0 24 24\"\n",
       "       width=\"24px\">\n",
       "    <path d=\"M0 0h24v24H0V0z\" fill=\"none\"/>\n",
       "    <path d=\"M18.56 5.44l.94 2.06.94-2.06 2.06-.94-2.06-.94-.94-2.06-.94 2.06-2.06.94zm-11 1L8.5 8.5l.94-2.06 2.06-.94-2.06-.94L8.5 2.5l-.94 2.06-2.06.94zm10 10l.94 2.06.94-2.06 2.06-.94-2.06-.94-.94-2.06-.94 2.06-2.06.94z\"/><path d=\"M17.41 7.96l-1.37-1.37c-.4-.4-.92-.59-1.43-.59-.52 0-1.04.2-1.43.59L10.3 9.45l-7.72 7.72c-.78.78-.78 2.05 0 2.83L4 21.41c.39.39.9.59 1.41.59.51 0 1.02-.2 1.41-.59l7.78-7.78 2.81-2.81c.8-.78.8-2.07 0-2.86zM5.41 20L4 18.59l7.72-7.72 1.47 1.35L5.41 20z\"/>\n",
       "  </svg>\n",
       "      </button>\n",
       "      \n",
       "  <style>\n",
       "    .colab-df-container {\n",
       "      display:flex;\n",
       "      flex-wrap:wrap;\n",
       "      gap: 12px;\n",
       "    }\n",
       "\n",
       "    .colab-df-convert {\n",
       "      background-color: #E8F0FE;\n",
       "      border: none;\n",
       "      border-radius: 50%;\n",
       "      cursor: pointer;\n",
       "      display: none;\n",
       "      fill: #1967D2;\n",
       "      height: 32px;\n",
       "      padding: 0 0 0 0;\n",
       "      width: 32px;\n",
       "    }\n",
       "\n",
       "    .colab-df-convert:hover {\n",
       "      background-color: #E2EBFA;\n",
       "      box-shadow: 0px 1px 2px rgba(60, 64, 67, 0.3), 0px 1px 3px 1px rgba(60, 64, 67, 0.15);\n",
       "      fill: #174EA6;\n",
       "    }\n",
       "\n",
       "    [theme=dark] .colab-df-convert {\n",
       "      background-color: #3B4455;\n",
       "      fill: #D2E3FC;\n",
       "    }\n",
       "\n",
       "    [theme=dark] .colab-df-convert:hover {\n",
       "      background-color: #434B5C;\n",
       "      box-shadow: 0px 1px 3px 1px rgba(0, 0, 0, 0.15);\n",
       "      filter: drop-shadow(0px 1px 2px rgba(0, 0, 0, 0.3));\n",
       "      fill: #FFFFFF;\n",
       "    }\n",
       "  </style>\n",
       "\n",
       "      <script>\n",
       "        const buttonEl =\n",
       "          document.querySelector('#df-cf4c8075-b21b-4322-b60b-a1fce5d511c4 button.colab-df-convert');\n",
       "        buttonEl.style.display =\n",
       "          google.colab.kernel.accessAllowed ? 'block' : 'none';\n",
       "\n",
       "        async function convertToInteractive(key) {\n",
       "          const element = document.querySelector('#df-cf4c8075-b21b-4322-b60b-a1fce5d511c4');\n",
       "          const dataTable =\n",
       "            await google.colab.kernel.invokeFunction('convertToInteractive',\n",
       "                                                     [key], {});\n",
       "          if (!dataTable) return;\n",
       "\n",
       "          const docLinkHtml = 'Like what you see? Visit the ' +\n",
       "            '<a target=\"_blank\" href=https://colab.research.google.com/notebooks/data_table.ipynb>data table notebook</a>'\n",
       "            + ' to learn more about interactive tables.';\n",
       "          element.innerHTML = '';\n",
       "          dataTable['output_type'] = 'display_data';\n",
       "          await google.colab.output.renderOutput(dataTable, element);\n",
       "          const docLink = document.createElement('div');\n",
       "          docLink.innerHTML = docLinkHtml;\n",
       "          element.appendChild(docLink);\n",
       "        }\n",
       "      </script>\n",
       "    </div>\n",
       "  </div>\n",
       "  "
      ],
      "text/plain": [
       "             Survived  Pclass              Name   Sex    Age  SibSp  Parch  \\\n",
       "PassengerId                                                                  \n",
       "0                   1       1  Oconnor, Frankie  male    NaN      2      0   \n",
       "1                   0       3       Bryan, Drew  male    NaN      0      0   \n",
       "2                   0       3    Owens, Kenneth  male   0.33      1      2   \n",
       "3                   0       3     Kramer, James  male  19.00      0      0   \n",
       "4                   1       3     Bond, Michael  male  25.00      0      0   \n",
       "\n",
       "                Ticket   Fare   Cabin Embarked  \n",
       "PassengerId                                     \n",
       "0               209245  27.14  C12239        S  \n",
       "1                27323  13.35     NaN        S  \n",
       "2            CA 457703  71.29     NaN        S  \n",
       "3             A. 10866  13.04     NaN        S  \n",
       "4               427635   7.76     NaN        S  "
      ]
     },
     "execution_count": 100,
     "metadata": {},
     "output_type": "execute_result"
    }
   ],
   "source": [
    "data.head()"
   ]
  },
  {
   "cell_type": "markdown",
   "metadata": {
    "id": "MViMPIWe2Pmj"
   },
   "source": [
    "### EDA"
   ]
  },
  {
   "cell_type": "markdown",
   "metadata": {
    "id": "k03NKMZm2Pmk"
   },
   "source": [
    "**(0.5 points)** How many females and males are there in the dataset? What about the survived passengers? Is there any relationship between the gender and the survival?"
   ]
  },
  {
   "cell_type": "code",
   "execution_count": 101,
   "metadata": {
    "colab": {
     "base_uri": "https://localhost:8080/",
     "height": 405
    },
    "id": "GkfgiWbTRP7j",
    "outputId": "a75222b3-2526-40a7-dd07-fb9233b86c5e"
   },
   "outputs": [
    {
     "data": {
      "image/png": "[encoded data removed]",
      "text/plain": [
       "<Figure size 1080x432 with 3 Axes>"
      ]
     },
     "metadata": {
      "needs_background": "light"
     },
     "output_type": "display_data"
    }
   ],
   "source": [
    "palette = sns.color_palette(\"RdBu_r\", 7)\n",
    "fig = plt.figure(figsize=(15, 6))\n",
    "\n",
    "ax1 = fig.add_subplot(131)\n",
    "plt.title('Passengers distribution by Survived', fontsize=14)\n",
    "plt.pie(data.Survived.value_counts(), labels=['Survived', 'Drowned'], colors=palette, autopct='%.0f%%')\n",
    "\n",
    "ax2 = fig.add_subplot(132)\n",
    "plt.title('Passengers distribution by Sex', fontsize=14)\n",
    "plt.pie(data.Sex.value_counts(), labels=data.Sex.unique(), colors=palette, autopct='%.0f%%')\n",
    "\n",
    "ax3 = fig.add_subplot(133)\n",
    "plt.title('Proportion of survived/drowned passengers by Sex', fontsize=14)\n",
    "sex = data.groupby('Sex')['Survived'].value_counts(normalize=True).unstack()\n",
    "sex = sex.sort_values(by=1, ascending=False)\n",
    "sex.plot.bar(stacked='True', color=palette, ax=ax3)\n",
    "plt.legend(('Drowned', 'Survived'))\n",
    "plt.xticks(rotation = False);"
   ]
  },
  {
   "cell_type": "markdown",
   "metadata": {
    "id": "LoXUft_XWOMN"
   },
   "source": [
    "In the training data set: 56% - male, 44% - female, 57% - survived, 43% - drowned. Most people are male. Female has a lot higher rate of survival compared with male. "
   ]
  },
  {
   "cell_type": "markdown",
   "metadata": {
    "id": "znaIMeuh2Pml"
   },
   "source": [
    "**(0.5 points)** Plot age distribution of the passengers. What is the average and the median age of survived and deceased passengers? Do age distributions differ for survived and deceased passengers? Why?"
   ]
  },
  {
   "cell_type": "code",
   "execution_count": 102,
   "metadata": {
    "colab": {
     "base_uri": "https://localhost:8080/",
     "height": 242
    },
    "id": "HQGZw2Y62Pml",
    "outputId": "5c914067-c9e6-4196-fd58-335d51ea8a06"
   },
   "outputs": [
    {
     "data": {
      "image/png": "[encoded data removed]",
      "text/plain": [
       "<Figure size 1080x216 with 1 Axes>"
      ]
     },
     "metadata": {
      "needs_background": "light"
     },
     "output_type": "display_data"
    }
   ],
   "source": [
    "plt.figure(figsize=(15, 3))\n",
    "sns.distplot(data.Age, kde_kws={\"lw\": 2}, bins=40)\n",
    "plt.title('Distrubution of the passengers age', fontsize=14)\n",
    "plt.xlabel('Age')\n",
    "plt.ylabel('Frequency');"
   ]
  },
  {
   "cell_type": "code",
   "execution_count": 103,
   "metadata": {
    "colab": {
     "base_uri": "https://localhost:8080/",
     "height": 405
    },
    "id": "w6FBfjSIZ7SY",
    "outputId": "8e113ae4-74c9-405e-c78b-c64ffd0a1023"
   },
   "outputs": [
    {
     "data": {
      "image/png": "[encoded data removed]",
      "text/plain": [
       "<Figure size 1368x432 with 2 Axes>"
      ]
     },
     "metadata": {
      "needs_background": "light"
     },
     "output_type": "display_data"
    }
   ],
   "source": [
    "fig = plt.figure(figsize=(19, 6))\n",
    "\n",
    "ax1 = fig.add_subplot(121)\n",
    "sns.kdeplot(data[data.Survived == 1].Age, shade=True)\n",
    "ax1.axvline(data[data.Survived == 1].Age.mean(),linestyle = '--', color = 'red', label = 'Mean')\n",
    "ax1.axvline(data[data.Survived == 1].Age.median(),linestyle = '--', color = 'yellow', label = 'Median')\n",
    "plt.title('Distrubution of the survived passengers age', fontsize=14)\n",
    "plt.legend(['Mean','Median'])\n",
    "plt.xlabel('Age')\n",
    "plt.ylabel('Frequency');\n",
    "\n",
    "ax1 = fig.add_subplot(122)\n",
    "sns.kdeplot(data[data.Survived == 0].Age, shade=True)\n",
    "ax1.axvline(data[data.Survived == 0].Age.mean(),linestyle = '--', color = 'red', label = 'Mean')\n",
    "ax1.axvline(data[data.Survived == 0].Age.median(),linestyle = '--', color = 'yellow', label = 'Median')\n",
    "plt.title('Distrubution of the drowned passengers age', fontsize=14)\n",
    "plt.legend(['Mean','Median'])\n",
    "plt.xlabel('Age')\n",
    "plt.ylabel('Frequency');"
   ]
  },
  {
   "cell_type": "code",
   "execution_count": 104,
   "metadata": {
    "colab": {
     "base_uri": "https://localhost:8080/"
    },
    "id": "2lNUUM_bdPWo",
    "outputId": "4c20ff81-1679-48e2-f73e-a7c4e8ad005f"
   },
   "outputs": [
    {
     "name": "stdout",
     "output_type": "stream",
     "text": [
      "The survived passengers: mean age - 40.6, median age - 43.0\n",
      "The drowned passengers: mean age - 36.7, median age - 36.0\n"
     ]
    }
   ],
   "source": [
    "print('The survived passengers: mean age - {0:.1f}, median age - {1:.1f}'.format(data[data.Survived == 1].Age.mean(), data[data.Survived == 1].Age.median()))\n",
    "print('The drowned passengers: mean age - {0:.1f}, median age - {1:.1f}'.format(data[data.Survived == 0].Age.mean(), data[data.Survived == 0].Age.median()))"
   ]
  },
  {
   "cell_type": "markdown",
   "metadata": {
    "id": "CKBK9vCTc-FP"
   },
   "source": [
    "Distributions for survived and deceased passengers differ. As an assumption, the elderly were the first to be put into boats (because of this, the average values are shifting), and the young helped to evacuate passengers. If we turn to the second task in the course (eda), we then found out that Pclass and Fare also affect the survival of passengers, and for older people these values are higher, respectively, and the chance of survival too."
   ]
  },
  {
   "cell_type": "markdown",
   "metadata": {
    "id": "qp3oR1NL2Pmm"
   },
   "source": [
    "**(1 point)** Explore \"passenger class\" and \"embarked\" features. What class was \"the safest\"? Is there any relationship between the embarkation port and the survival? Provide the corresponding visualizations."
   ]
  },
  {
   "cell_type": "code",
   "execution_count": 105,
   "metadata": {
    "colab": {
     "base_uri": "https://localhost:8080/",
     "height": 405
    },
    "id": "fSyDU_tE2Pmm",
    "outputId": "9b945518-c292-43f0-a518-1efcc97fbb31"
   },
   "outputs": [
    {
     "data": {
      "image/png": "[encoded data removed]",
      "text/plain": [
       "<Figure size 1080x432 with 2 Axes>"
      ]
     },
     "metadata": {
      "needs_background": "light"
     },
     "output_type": "display_data"
    }
   ],
   "source": [
    "fig = plt.figure(figsize=(15, 6))\n",
    "\n",
    "ax1 = fig.add_subplot(121)\n",
    "plt.title('Passengers distribution by Pclass', fontsize=14)\n",
    "labels = [str(i) + ' class' for i in data.Pclass.value_counts().index.to_list()]\n",
    "plt.pie(data.Pclass.value_counts(), labels=labels, colors=palette, autopct='%.0f%%')\n",
    "\n",
    "ax2 = fig.add_subplot(122)\n",
    "plt.title('Proportion of survived/drowned passengers by Pclass', fontsize=14)\n",
    "pclass = data.groupby('Pclass')['Survived'].value_counts(normalize=True).unstack()\n",
    "pclass = pclass.sort_values(by=1, ascending=False)\n",
    "pclass.plot.bar(stacked='True', color=palette, ax=ax2)\n",
    "plt.legend(('Drowned', 'Survived'))\n",
    "plt.xticks(rotation = False);"
   ]
  },
  {
   "cell_type": "code",
   "execution_count": 106,
   "metadata": {
    "colab": {
     "base_uri": "https://localhost:8080/",
     "height": 369
    },
    "id": "vY-AgwnrngSw",
    "outputId": "95e7ee1e-d5c0-4b4c-d4e6-2da8d4d7e17a"
   },
   "outputs": [
    {
     "data": {
      "image/png": "[encoded data removed]",
      "text/plain": [
       "<Figure size 771.875x360 with 2 Axes>"
      ]
     },
     "metadata": {
      "needs_background": "light"
     },
     "output_type": "display_data"
    }
   ],
   "source": [
    "sns.catplot(x = 'Pclass', hue = 'Survived', col = 'Sex', kind = 'count', data = data , palette=palette);"
   ]
  },
  {
   "cell_type": "code",
   "execution_count": 107,
   "metadata": {
    "colab": {
     "base_uri": "https://localhost:8080/",
     "height": 404
    },
    "id": "tu7jkBnqngZw",
    "outputId": "83c965f2-335f-43e4-9491-5e6911e2bc4b"
   },
   "outputs": [
    {
     "data": {
      "image/png": "[encoded data removed]",
      "text/plain": [
       "<Figure size 1440x432 with 3 Axes>"
      ]
     },
     "metadata": {
      "needs_background": "light"
     },
     "output_type": "display_data"
    }
   ],
   "source": [
    "fig = plt.figure(figsize=(20,6))\n",
    "\n",
    "ax1 = fig.add_subplot(131)\n",
    "sns.countplot(data['Embarked'], palette='RdYlGn', ax=ax1)\n",
    "plt.title('Number of passengers by Embarked')\n",
    "plt.ylabel('Number of passengers')\n",
    "\n",
    "ax2 = fig.add_subplot(132)\n",
    "embarked = data.groupby('Embarked')['Survived'].value_counts(normalize=True)\n",
    "embarked = embarked.unstack().sort_values(by=1, ascending=False)\n",
    "embarked.plot(kind='bar', stacked='True', color=palette, ax=ax2)\n",
    "plt.title('Proportion of survived/drowned passengers by Embarked')\n",
    "plt.legend(('Drowned', 'Survived'))\n",
    "plt.xticks(rotation=False)\n",
    "\n",
    "ax3 = fig.add_subplot(133)\n",
    "embarked = data.groupby('Embarked')['Pclass'].value_counts(normalize=True)\n",
    "embarked = embarked.unstack().sort_index()\n",
    "embarked.plot(kind='bar', stacked='True', color=palette, ax=ax3)\n",
    "plt.legend(('1st class', '2nd class', '3rd class'))\n",
    "plt.title('Proportion of clases by Embarked')\n",
    "plt.xticks(rotation=False);"
   ]
  },
  {
   "cell_type": "markdown",
   "metadata": {
    "id": "O1FdIlJnhIR6"
   },
   "source": [
    "People boarding on class 3 has a low chance of survival whilst class 1 has the highest chance of survival. Most of the male passengers of 3rd class drowned, and the female on board almost all survived. There were overall more males than females on board, it is fair for each ticket class, but in the 3rd class number of males more than twice bigger than females. \n",
    "\n",
    "Most people boarded at Southampton. People boarded at Cherbourg has a highest rate of survival whilst people from Southampton has the lowest rate of survival People from Cherbourg mostly the class 1 whilst people from Southampton mostly the class 3. The vast majority of passengers from Queenstown are 1st class.\n",
    "\n",
    "More detailed eda can be seen here https://github.com/kmagritte/RSSchool_EDA/blob/main/eda.ipynb"
   ]
  },
  {
   "cell_type": "markdown",
   "metadata": {
    "id": "31cALW2K2Pmn"
   },
   "source": [
    "### Modelling"
   ]
  },
  {
   "cell_type": "markdown",
   "metadata": {
    "id": "TYOAYzsi2Pmn"
   },
   "source": [
    "**(0.5 points)** Find the percentage of missing values for each feature. "
   ]
  },
  {
   "cell_type": "code",
   "execution_count": 108,
   "metadata": {
    "colab": {
     "base_uri": "https://localhost:8080/"
    },
    "id": "l8r4xyQE2Pmn",
    "outputId": "d0038202-4992-4172-b017-4e3a741828b9"
   },
   "outputs": [
    {
     "name": "stdout",
     "output_type": "stream",
     "text": [
      "Missing values per columns in train dataset\n",
      "Survived: 0.00 %\n",
      "Pclass: 0.00 %\n",
      "Name: 0.00 %\n",
      "Sex: 0.00 %\n",
      "Age: 3.29 %\n",
      "SibSp: 0.00 %\n",
      "Parch: 0.00 %\n",
      "Ticket: 4.62 %\n",
      "Fare: 0.13 %\n",
      "Cabin: 67.87 %\n",
      "Embarked: 0.25 %\n"
     ]
    }
   ],
   "source": [
    "print('Missing values per columns in train dataset')\n",
    "for col in data.columns:\n",
    "    print('{0}: {1:.2f} %'.format(col, data[col].isnull().sum()/data.shape[0] * 100))"
   ]
  },
  {
   "cell_type": "markdown",
   "metadata": {
    "id": "S6wzRnoM2Pmn"
   },
   "source": [
    "Think about the ways to handle these missing values for modelling and write your answer below. Which methods would you suggest? What are their advantages and disadvantages?"
   ]
  },
  {
   "cell_type": "markdown",
   "metadata": {
    "id": "OJfwtKO5vcIt"
   },
   "source": [
    "The columns having null values are: Age, Ticket, Fare, Cabin, Embarked. Most of the missing value come from Cabin feature. It was decided to remove the column Ticket due to low information content. The missing values for Age and Fare are replaced by the median for each Pclass. Missing values for columns Cabin and Embarked was filled with new separate category. The way to replace missing values in a categorical variable by creating a new category is a good method to avoid losing an important feature. Replacing the values with the median or average for numeric features may affect their distribution, but we take into account other features when filling in to distinguish this."
   ]
  },
  {
   "cell_type": "markdown",
   "metadata": {
    "id": "6jdmrK9P2Pmo"
   },
   "source": [
    "**(1.5 points)** Prepare the features and train two models (KNN and Logistic Regression) to predict the survival. Compare the results. Use accuracy as a metric. Don't forget about cross-validation!"
   ]
  },
  {
   "cell_type": "markdown",
   "metadata": {
    "id": "tKGYM4oc2yiQ"
   },
   "source": [
    "Let's process the missing values. We will delete the Name column because of its low informativeness. Let's work with the signs Cabin, Parch, SibSp."
   ]
  },
  {
   "cell_type": "code",
   "execution_count": 109,
   "metadata": {
    "id": "HBpzKbl6xsNc"
   },
   "outputs": [],
   "source": [
    "def prepare_features(data):\n",
    "    data['Age'] = data['Age'].fillna(data.groupby(['Pclass', 'Sex'])['Age'].transform('mean'))\n",
    "    data['Fare'] = data['Fare'].fillna(data.groupby('Pclass')['Fare'].transform('mean'))\n",
    "\n",
    "    embark_mapping = {\"S\" : \"Southampton\", \"C\" : \"Cherbourg\",  \"Q\" : \"Queenstown\", np.nan : \"Not Embarked\"}\n",
    "    data = data.replace({\"Embarked\": embark_mapping})\n",
    "\n",
    "    data['Cabin'] = data['Cabin'].fillna(\"No Cabin\")\n",
    "    data['Cabin'] = data['Cabin'].str[0]\n",
    "\n",
    "    data['FamilySize'] = data['SibSp'] + data['Parch'] + 1\n",
    "\n",
    "    data['HasFamily'] = data.apply(lambda x: 1 if x.FamilySize != 1 else 0, axis=1)\n",
    "    #data['HasCabin'] = data.apply(lambda x: 0 if x.FamilySize == 'Not Embarked' else 1, axis=1)\n",
    "\n",
    "\n",
    "    bins = [0, 5, 17, 30, 50, 100]\n",
    "    labels = [\"Baby\", \"Children\", \"Young Adult\", \"Middle Aged\", \"Senior\"]\n",
    "    data['AgeGroup'] = pd.cut(data['Age'], bins=bins, labels=labels) \n",
    "\n",
    "    bins = [0, 25, 90, 150, np.inf]\n",
    "    labels = [\"Low\", \"Middle\", \"High\", \"Very high\"]\n",
    "    data['FareGroup'] = pd.cut(data['Fare'], bins=bins, labels=labels) \n",
    "\n",
    "    bins = [0, 1, 4, 7, np.inf]\n",
    "    labels = [\"Single\", \"Usual\", \"Big\", \"Very big\"]\n",
    "    data['FamilyGroup'] = pd.cut(data['FamilySize'], bins=bins, labels=labels) \n",
    "\n",
    "    data.drop(['Ticket', 'Name'], axis=1, inplace=True)\n",
    "    return data"
   ]
  },
  {
   "cell_type": "code",
   "execution_count": 110,
   "metadata": {
    "id": "DorkTjpAxsU5"
   },
   "outputs": [],
   "source": [
    "data = prepare_features(data)"
   ]
  },
  {
   "cell_type": "code",
   "execution_count": 111,
   "metadata": {
    "colab": {
     "base_uri": "https://localhost:8080/",
     "height": 455
    },
    "id": "XXoGqGf-6mG_",
    "outputId": "c0bd7f19-2a9d-4b4b-8840-48926c0fb907"
   },
   "outputs": [
    {
     "data": {
      "text/html": [
       "\n",
       "  <div id=\"df-4b4f35af-c797-4a98-87cd-2701f814103a\">\n",
       "    <div class=\"colab-df-container\">\n",
       "      <div>\n",
       "<style scoped>\n",
       "    .dataframe tbody tr th:only-of-type {\n",
       "        vertical-align: middle;\n",
       "    }\n",
       "\n",
       "    .dataframe tbody tr th {\n",
       "        vertical-align: top;\n",
       "    }\n",
       "\n",
       "    .dataframe thead th {\n",
       "        text-align: right;\n",
       "    }\n",
       "</style>\n",
       "<table border=\"1\" class=\"dataframe\">\n",
       "  <thead>\n",
       "    <tr style=\"text-align: right;\">\n",
       "      <th></th>\n",
       "      <th>Survived</th>\n",
       "      <th>Pclass</th>\n",
       "      <th>Sex</th>\n",
       "      <th>Age</th>\n",
       "      <th>SibSp</th>\n",
       "      <th>Parch</th>\n",
       "      <th>Fare</th>\n",
       "      <th>Cabin</th>\n",
       "      <th>Embarked</th>\n",
       "      <th>FamilySize</th>\n",
       "      <th>HasFamily</th>\n",
       "      <th>AgeGroup</th>\n",
       "      <th>FareGroup</th>\n",
       "      <th>FamilyGroup</th>\n",
       "    </tr>\n",
       "    <tr>\n",
       "      <th>PassengerId</th>\n",
       "      <th></th>\n",
       "      <th></th>\n",
       "      <th></th>\n",
       "      <th></th>\n",
       "      <th></th>\n",
       "      <th></th>\n",
       "      <th></th>\n",
       "      <th></th>\n",
       "      <th></th>\n",
       "      <th></th>\n",
       "      <th></th>\n",
       "      <th></th>\n",
       "      <th></th>\n",
       "      <th></th>\n",
       "    </tr>\n",
       "  </thead>\n",
       "  <tbody>\n",
       "    <tr>\n",
       "      <th>0</th>\n",
       "      <td>1</td>\n",
       "      <td>1</td>\n",
       "      <td>male</td>\n",
       "      <td>42.254922</td>\n",
       "      <td>2</td>\n",
       "      <td>0</td>\n",
       "      <td>27.14</td>\n",
       "      <td>C</td>\n",
       "      <td>Southampton</td>\n",
       "      <td>3</td>\n",
       "      <td>1</td>\n",
       "      <td>Middle Aged</td>\n",
       "      <td>Middle</td>\n",
       "      <td>Usual</td>\n",
       "    </tr>\n",
       "    <tr>\n",
       "      <th>1</th>\n",
       "      <td>0</td>\n",
       "      <td>3</td>\n",
       "      <td>male</td>\n",
       "      <td>34.038757</td>\n",
       "      <td>0</td>\n",
       "      <td>0</td>\n",
       "      <td>13.35</td>\n",
       "      <td>N</td>\n",
       "      <td>Southampton</td>\n",
       "      <td>1</td>\n",
       "      <td>0</td>\n",
       "      <td>Middle Aged</td>\n",
       "      <td>Low</td>\n",
       "      <td>Single</td>\n",
       "    </tr>\n",
       "    <tr>\n",
       "      <th>2</th>\n",
       "      <td>0</td>\n",
       "      <td>3</td>\n",
       "      <td>male</td>\n",
       "      <td>0.330000</td>\n",
       "      <td>1</td>\n",
       "      <td>2</td>\n",
       "      <td>71.29</td>\n",
       "      <td>N</td>\n",
       "      <td>Southampton</td>\n",
       "      <td>4</td>\n",
       "      <td>1</td>\n",
       "      <td>Baby</td>\n",
       "      <td>Middle</td>\n",
       "      <td>Usual</td>\n",
       "    </tr>\n",
       "    <tr>\n",
       "      <th>3</th>\n",
       "      <td>0</td>\n",
       "      <td>3</td>\n",
       "      <td>male</td>\n",
       "      <td>19.000000</td>\n",
       "      <td>0</td>\n",
       "      <td>0</td>\n",
       "      <td>13.04</td>\n",
       "      <td>N</td>\n",
       "      <td>Southampton</td>\n",
       "      <td>1</td>\n",
       "      <td>0</td>\n",
       "      <td>Young Adult</td>\n",
       "      <td>Low</td>\n",
       "      <td>Single</td>\n",
       "    </tr>\n",
       "    <tr>\n",
       "      <th>4</th>\n",
       "      <td>1</td>\n",
       "      <td>3</td>\n",
       "      <td>male</td>\n",
       "      <td>25.000000</td>\n",
       "      <td>0</td>\n",
       "      <td>0</td>\n",
       "      <td>7.76</td>\n",
       "      <td>N</td>\n",
       "      <td>Southampton</td>\n",
       "      <td>1</td>\n",
       "      <td>0</td>\n",
       "      <td>Young Adult</td>\n",
       "      <td>Low</td>\n",
       "      <td>Single</td>\n",
       "    </tr>\n",
       "    <tr>\n",
       "      <th>...</th>\n",
       "      <td>...</td>\n",
       "      <td>...</td>\n",
       "      <td>...</td>\n",
       "      <td>...</td>\n",
       "      <td>...</td>\n",
       "      <td>...</td>\n",
       "      <td>...</td>\n",
       "      <td>...</td>\n",
       "      <td>...</td>\n",
       "      <td>...</td>\n",
       "      <td>...</td>\n",
       "      <td>...</td>\n",
       "      <td>...</td>\n",
       "      <td>...</td>\n",
       "    </tr>\n",
       "    <tr>\n",
       "      <th>99995</th>\n",
       "      <td>1</td>\n",
       "      <td>2</td>\n",
       "      <td>female</td>\n",
       "      <td>62.000000</td>\n",
       "      <td>0</td>\n",
       "      <td>0</td>\n",
       "      <td>14.86</td>\n",
       "      <td>D</td>\n",
       "      <td>Cherbourg</td>\n",
       "      <td>1</td>\n",
       "      <td>0</td>\n",
       "      <td>Senior</td>\n",
       "      <td>Low</td>\n",
       "      <td>Single</td>\n",
       "    </tr>\n",
       "    <tr>\n",
       "      <th>99996</th>\n",
       "      <td>0</td>\n",
       "      <td>2</td>\n",
       "      <td>male</td>\n",
       "      <td>66.000000</td>\n",
       "      <td>0</td>\n",
       "      <td>0</td>\n",
       "      <td>11.15</td>\n",
       "      <td>N</td>\n",
       "      <td>Southampton</td>\n",
       "      <td>1</td>\n",
       "      <td>0</td>\n",
       "      <td>Senior</td>\n",
       "      <td>Low</td>\n",
       "      <td>Single</td>\n",
       "    </tr>\n",
       "    <tr>\n",
       "      <th>99997</th>\n",
       "      <td>0</td>\n",
       "      <td>3</td>\n",
       "      <td>male</td>\n",
       "      <td>37.000000</td>\n",
       "      <td>0</td>\n",
       "      <td>0</td>\n",
       "      <td>9.95</td>\n",
       "      <td>N</td>\n",
       "      <td>Southampton</td>\n",
       "      <td>1</td>\n",
       "      <td>0</td>\n",
       "      <td>Middle Aged</td>\n",
       "      <td>Low</td>\n",
       "      <td>Single</td>\n",
       "    </tr>\n",
       "    <tr>\n",
       "      <th>99998</th>\n",
       "      <td>0</td>\n",
       "      <td>3</td>\n",
       "      <td>male</td>\n",
       "      <td>51.000000</td>\n",
       "      <td>0</td>\n",
       "      <td>1</td>\n",
       "      <td>30.92</td>\n",
       "      <td>N</td>\n",
       "      <td>Southampton</td>\n",
       "      <td>2</td>\n",
       "      <td>1</td>\n",
       "      <td>Senior</td>\n",
       "      <td>Middle</td>\n",
       "      <td>Usual</td>\n",
       "    </tr>\n",
       "    <tr>\n",
       "      <th>99999</th>\n",
       "      <td>0</td>\n",
       "      <td>3</td>\n",
       "      <td>male</td>\n",
       "      <td>55.000000</td>\n",
       "      <td>0</td>\n",
       "      <td>0</td>\n",
       "      <td>13.96</td>\n",
       "      <td>N</td>\n",
       "      <td>Southampton</td>\n",
       "      <td>1</td>\n",
       "      <td>0</td>\n",
       "      <td>Senior</td>\n",
       "      <td>Low</td>\n",
       "      <td>Single</td>\n",
       "    </tr>\n",
       "  </tbody>\n",
       "</table>\n",
       "<p>100000 rows × 14 columns</p>\n",
       "</div>\n",
       "      <button class=\"colab-df-convert\" onclick=\"convertToInteractive('df-4b4f35af-c797-4a98-87cd-2701f814103a')\"\n",
       "              title=\"Convert this dataframe to an interactive table.\"\n",
       "              style=\"display:none;\">\n",
       "        \n",
       "  <svg xmlns=\"http://www.w3.org/2000/svg\" height=\"24px\"viewBox=\"0 0 24 24\"\n",
       "       width=\"24px\">\n",
       "    <path d=\"M0 0h24v24H0V0z\" fill=\"none\"/>\n",
       "    <path d=\"M18.56 5.44l.94 2.06.94-2.06 2.06-.94-2.06-.94-.94-2.06-.94 2.06-2.06.94zm-11 1L8.5 8.5l.94-2.06 2.06-.94-2.06-.94L8.5 2.5l-.94 2.06-2.06.94zm10 10l.94 2.06.94-2.06 2.06-.94-2.06-.94-.94-2.06-.94 2.06-2.06.94z\"/><path d=\"M17.41 7.96l-1.37-1.37c-.4-.4-.92-.59-1.43-.59-.52 0-1.04.2-1.43.59L10.3 9.45l-7.72 7.72c-.78.78-.78 2.05 0 2.83L4 21.41c.39.39.9.59 1.41.59.51 0 1.02-.2 1.41-.59l7.78-7.78 2.81-2.81c.8-.78.8-2.07 0-2.86zM5.41 20L4 18.59l7.72-7.72 1.47 1.35L5.41 20z\"/>\n",
       "  </svg>\n",
       "      </button>\n",
       "      \n",
       "  <style>\n",
       "    .colab-df-container {\n",
       "      display:flex;\n",
       "      flex-wrap:wrap;\n",
       "      gap: 12px;\n",
       "    }\n",
       "\n",
       "    .colab-df-convert {\n",
       "      background-color: #E8F0FE;\n",
       "      border: none;\n",
       "      border-radius: 50%;\n",
       "      cursor: pointer;\n",
       "      display: none;\n",
       "      fill: #1967D2;\n",
       "      height: 32px;\n",
       "      padding: 0 0 0 0;\n",
       "      width: 32px;\n",
       "    }\n",
       "\n",
       "    .colab-df-convert:hover {\n",
       "      background-color: #E2EBFA;\n",
       "      box-shadow: 0px 1px 2px rgba(60, 64, 67, 0.3), 0px 1px 3px 1px rgba(60, 64, 67, 0.15);\n",
       "      fill: #174EA6;\n",
       "    }\n",
       "\n",
       "    [theme=dark] .colab-df-convert {\n",
       "      background-color: #3B4455;\n",
       "      fill: #D2E3FC;\n",
       "    }\n",
       "\n",
       "    [theme=dark] .colab-df-convert:hover {\n",
       "      background-color: #434B5C;\n",
       "      box-shadow: 0px 1px 3px 1px rgba(0, 0, 0, 0.15);\n",
       "      filter: drop-shadow(0px 1px 2px rgba(0, 0, 0, 0.3));\n",
       "      fill: #FFFFFF;\n",
       "    }\n",
       "  </style>\n",
       "\n",
       "      <script>\n",
       "        const buttonEl =\n",
       "          document.querySelector('#df-4b4f35af-c797-4a98-87cd-2701f814103a button.colab-df-convert');\n",
       "        buttonEl.style.display =\n",
       "          google.colab.kernel.accessAllowed ? 'block' : 'none';\n",
       "\n",
       "        async function convertToInteractive(key) {\n",
       "          const element = document.querySelector('#df-4b4f35af-c797-4a98-87cd-2701f814103a');\n",
       "          const dataTable =\n",
       "            await google.colab.kernel.invokeFunction('convertToInteractive',\n",
       "                                                     [key], {});\n",
       "          if (!dataTable) return;\n",
       "\n",
       "          const docLinkHtml = 'Like what you see? Visit the ' +\n",
       "            '<a target=\"_blank\" href=https://colab.research.google.com/notebooks/data_table.ipynb>data table notebook</a>'\n",
       "            + ' to learn more about interactive tables.';\n",
       "          element.innerHTML = '';\n",
       "          dataTable['output_type'] = 'display_data';\n",
       "          await google.colab.output.renderOutput(dataTable, element);\n",
       "          const docLink = document.createElement('div');\n",
       "          docLink.innerHTML = docLinkHtml;\n",
       "          element.appendChild(docLink);\n",
       "        }\n",
       "      </script>\n",
       "    </div>\n",
       "  </div>\n",
       "  "
      ],
      "text/plain": [
       "             Survived  Pclass     Sex        Age  SibSp  Parch   Fare Cabin  \\\n",
       "PassengerId                                                                   \n",
       "0                   1       1    male  42.254922      2      0  27.14     C   \n",
       "1                   0       3    male  34.038757      0      0  13.35     N   \n",
       "2                   0       3    male   0.330000      1      2  71.29     N   \n",
       "3                   0       3    male  19.000000      0      0  13.04     N   \n",
       "4                   1       3    male  25.000000      0      0   7.76     N   \n",
       "...               ...     ...     ...        ...    ...    ...    ...   ...   \n",
       "99995               1       2  female  62.000000      0      0  14.86     D   \n",
       "99996               0       2    male  66.000000      0      0  11.15     N   \n",
       "99997               0       3    male  37.000000      0      0   9.95     N   \n",
       "99998               0       3    male  51.000000      0      1  30.92     N   \n",
       "99999               0       3    male  55.000000      0      0  13.96     N   \n",
       "\n",
       "                Embarked  FamilySize  HasFamily     AgeGroup FareGroup  \\\n",
       "PassengerId                                                              \n",
       "0            Southampton           3          1  Middle Aged    Middle   \n",
       "1            Southampton           1          0  Middle Aged       Low   \n",
       "2            Southampton           4          1         Baby    Middle   \n",
       "3            Southampton           1          0  Young Adult       Low   \n",
       "4            Southampton           1          0  Young Adult       Low   \n",
       "...                  ...         ...        ...          ...       ...   \n",
       "99995          Cherbourg           1          0       Senior       Low   \n",
       "99996        Southampton           1          0       Senior       Low   \n",
       "99997        Southampton           1          0  Middle Aged       Low   \n",
       "99998        Southampton           2          1       Senior    Middle   \n",
       "99999        Southampton           1          0       Senior       Low   \n",
       "\n",
       "            FamilyGroup  \n",
       "PassengerId              \n",
       "0                 Usual  \n",
       "1                Single  \n",
       "2                 Usual  \n",
       "3                Single  \n",
       "4                Single  \n",
       "...                 ...  \n",
       "99995            Single  \n",
       "99996            Single  \n",
       "99997            Single  \n",
       "99998             Usual  \n",
       "99999            Single  \n",
       "\n",
       "[100000 rows x 14 columns]"
      ]
     },
     "execution_count": 111,
     "metadata": {},
     "output_type": "execute_result"
    }
   ],
   "source": [
    "data"
   ]
  },
  {
   "cell_type": "code",
   "execution_count": 112,
   "metadata": {
    "id": "FvsdrF5L-IkH"
   },
   "outputs": [],
   "source": [
    "y = data.Survived\n",
    "data.drop('Survived', axis=1, inplace=True)\n",
    "X = data.copy()"
   ]
  },
  {
   "cell_type": "markdown",
   "metadata": {
    "id": "Cfsl7AJP36DQ"
   },
   "source": [
    "Preprocessing of features."
   ]
  },
  {
   "cell_type": "code",
   "execution_count": 113,
   "metadata": {
    "id": "sfUiJGEtJ1Nu"
   },
   "outputs": [],
   "source": [
    "# for col in categorical_features:\n",
    "#   le = LabelEncoder()\n",
    "#   data[col] = le.fit_transform(data[col])"
   ]
  },
  {
   "cell_type": "code",
   "execution_count": 114,
   "metadata": {
    "id": "3XcTxiCKJPzx"
   },
   "outputs": [],
   "source": [
    "# data.corr()"
   ]
  },
  {
   "cell_type": "code",
   "execution_count": 115,
   "metadata": {
    "id": "opGnHh18dMow"
   },
   "outputs": [],
   "source": [
    "numeric_features = ['Age','Pclass',\t'SibSp',\t'Parch',\t'Fare',\t'FamilySize',\t'HasFamily']\n",
    "categorical_features = ['Sex', 'Cabin', 'Embarked', 'AgeGroup',\t'FareGroup',\t'FamilyGroup']\n",
    "\n",
    "# numeric_features = ['Pclass', 'Age']\n",
    "# categorical_features = ['Sex', 'Embarked']\n",
    "\n",
    "preprocessor = ColumnTransformer(\n",
    "            transformers=[\n",
    "            ('num', StandardScaler(), numeric_features),\n",
    "            ('cat', OneHotEncoder(), categorical_features)]) \n",
    "\n",
    "X = preprocessor.fit_transform(X)"
   ]
  },
  {
   "cell_type": "markdown",
   "metadata": {
    "id": "BYke-6hT9tPH"
   },
   "source": [
    "Divide the data set into train and test (90% / 10%)."
   ]
  },
  {
   "cell_type": "code",
   "execution_count": 116,
   "metadata": {
    "id": "LuKYVujw6icc"
   },
   "outputs": [],
   "source": [
    "X_train, X_test, y_train, y_test = train_test_split(X, y, test_size=0.1, random_state=SEED)"
   ]
  },
  {
   "cell_type": "markdown",
   "metadata": {
    "id": "v901xMOKfhEB"
   },
   "source": [
    "Making two models (KNN and Logistic Regression) to predict the survival."
   ]
  },
  {
   "cell_type": "code",
   "execution_count": 117,
   "metadata": {
    "id": "4FLbvO1nede6"
   },
   "outputs": [],
   "source": [
    "knn = KNeighborsClassifier()\n",
    "lr = LogisticRegression()"
   ]
  },
  {
   "cell_type": "code",
   "execution_count": 118,
   "metadata": {
    "id": "Tmh_bDQT6ij2"
   },
   "outputs": [],
   "source": [
    "results_knn = cross_validate(knn, \n",
    "                             X_train, y_train, cv=3,\n",
    "                             return_train_score=True,\n",
    "                             scoring='accuracy')\n",
    "\n",
    "results_lr = cross_validate(lr, \n",
    "                            X_train, y_train, cv=3,\n",
    "                            return_train_score=True,\n",
    "                            scoring='accuracy')"
   ]
  },
  {
   "cell_type": "code",
   "execution_count": 119,
   "metadata": {
    "colab": {
     "base_uri": "https://localhost:8080/"
    },
    "id": "IKzhCTxiBDJW",
    "outputId": "99b431c7-8c13-4809-e4bb-a4726a3f1a07"
   },
   "outputs": [
    {
     "data": {
      "text/plain": [
       "{'fit_time': array([0.01600051, 0.01737618, 0.01737547]),\n",
       " 'score_time': array([37.73022866, 37.46131086, 39.90735149]),\n",
       " 'test_score': array([0.74646667, 0.74626667, 0.7489    ]),\n",
       " 'train_score': array([0.82056667, 0.81926667, 0.81718333])}"
      ]
     },
     "execution_count": 119,
     "metadata": {},
     "output_type": "execute_result"
    }
   ],
   "source": [
    "results_knn"
   ]
  },
  {
   "cell_type": "code",
   "execution_count": 120,
   "metadata": {
    "colab": {
     "base_uri": "https://localhost:8080/"
    },
    "id": "Yrl64wRcBDR_",
    "outputId": "3ec3730e-63ff-4a73-a5d5-1cf5ae752380"
   },
   "outputs": [
    {
     "data": {
      "text/plain": [
       "{'fit_time': array([1.51274776, 1.51077986, 1.41699219]),\n",
       " 'score_time': array([0.00792289, 0.00735593, 0.00716758]),\n",
       " 'test_score': array([0.7707    , 0.7741    , 0.77186667]),\n",
       " 'train_score': array([0.77396667, 0.7723    , 0.77101667])}"
      ]
     },
     "execution_count": 120,
     "metadata": {},
     "output_type": "execute_result"
    }
   ],
   "source": [
    "results_lr"
   ]
  },
  {
   "cell_type": "code",
   "execution_count": 121,
   "metadata": {
    "id": "DGW9t1snIiFx"
   },
   "outputs": [],
   "source": [
    "knn.fit(X_train, y_train)\n",
    "lr.fit(X_train, y_train);"
   ]
  },
  {
   "cell_type": "code",
   "execution_count": 122,
   "metadata": {
    "colab": {
     "base_uri": "https://localhost:8080/"
    },
    "id": "m5-DFGvBIbYP",
    "outputId": "0e0a0f73-e173-4404-fd78-fb4043f2d958"
   },
   "outputs": [
    {
     "data": {
      "text/plain": [
       "0.7525"
      ]
     },
     "execution_count": 122,
     "metadata": {},
     "output_type": "execute_result"
    }
   ],
   "source": [
    "accuracy_score(y_test, knn.predict(X_test))"
   ]
  },
  {
   "cell_type": "code",
   "execution_count": 123,
   "metadata": {
    "colab": {
     "base_uri": "https://localhost:8080/"
    },
    "id": "Bm4CqrceIbnn",
    "outputId": "bd0cef29-883d-4edf-abb9-aac067f6f7d7"
   },
   "outputs": [
    {
     "data": {
      "text/plain": [
       "0.7794"
      ]
     },
     "execution_count": 123,
     "metadata": {},
     "output_type": "execute_result"
    }
   ],
   "source": [
    "accuracy_score(y_test, lr.predict(X_test))"
   ]
  },
  {
   "cell_type": "markdown",
   "metadata": {
    "id": "tNUJTWWTJRlK"
   },
   "source": [
    "The quality for logistic regression is better than for knn on a validation sample and test set, let's try to set up more hyperparameters."
   ]
  },
  {
   "cell_type": "markdown",
   "metadata": {
    "id": "BEqYkMdi2Pmo"
   },
   "source": [
    "**(0.5 + X points)** Try more feature engineering and hyperparameter tuning to improve the results. You may use either KNN or Logistic Regression (or both)."
   ]
  },
  {
   "cell_type": "code",
   "execution_count": 133,
   "metadata": {
    "id": "XUDa6z4jZHwd"
   },
   "outputs": [],
   "source": [
    "param_grid_lr = {\n",
    "    'C': list(np.linspace(0.03, 0.08, 20)),\n",
    "    'max_iter': list(range(50, 60, 10)),\n",
    "    'solver': ['lbfgs']\n",
    "}\n",
    "\n",
    "param_grid_knn = {\n",
    "    'n_neighbors':[30, 35, 40],\n",
    "    'weights':['uniform', 'distance']\n",
    "}"
   ]
  },
  {
   "cell_type": "code",
   "execution_count": 125,
   "metadata": {
    "colab": {
     "base_uri": "https://localhost:8080/",
     "height": 75
    },
    "id": "nUztJ-IQJz3w",
    "outputId": "a4ca60b1-e51a-4cd9-c897-4b6e9fe33e9e"
   },
   "outputs": [
    {
     "data": {
      "text/html": [
       "<style>#sk-1c15a077-5f0f-4121-8dc5-a66733bf8918 {color: black;background-color: white;}#sk-1c15a077-5f0f-4121-8dc5-a66733bf8918 pre{padding: 0;}#sk-1c15a077-5f0f-4121-8dc5-a66733bf8918 div.sk-toggleable {background-color: white;}#sk-1c15a077-5f0f-4121-8dc5-a66733bf8918 label.sk-toggleable__label {cursor: pointer;display: block;width: 100%;margin-bottom: 0;padding: 0.3em;box-sizing: border-box;text-align: center;}#sk-1c15a077-5f0f-4121-8dc5-a66733bf8918 label.sk-toggleable__label-arrow:before {content: \"▸\";float: left;margin-right: 0.25em;color: #696969;}#sk-1c15a077-5f0f-4121-8dc5-a66733bf8918 label.sk-toggleable__label-arrow:hover:before {color: black;}#sk-1c15a077-5f0f-4121-8dc5-a66733bf8918 div.sk-estimator:hover label.sk-toggleable__label-arrow:before {color: black;}#sk-1c15a077-5f0f-4121-8dc5-a66733bf8918 div.sk-toggleable__content {max-height: 0;max-width: 0;overflow: hidden;text-align: left;background-color: #f0f8ff;}#sk-1c15a077-5f0f-4121-8dc5-a66733bf8918 div.sk-toggleable__content pre {margin: 0.2em;color: black;border-radius: 0.25em;background-color: #f0f8ff;}#sk-1c15a077-5f0f-4121-8dc5-a66733bf8918 input.sk-toggleable__control:checked~div.sk-toggleable__content {max-height: 200px;max-width: 100%;overflow: auto;}#sk-1c15a077-5f0f-4121-8dc5-a66733bf8918 input.sk-toggleable__control:checked~label.sk-toggleable__label-arrow:before {content: \"▾\";}#sk-1c15a077-5f0f-4121-8dc5-a66733bf8918 div.sk-estimator input.sk-toggleable__control:checked~label.sk-toggleable__label {background-color: #d4ebff;}#sk-1c15a077-5f0f-4121-8dc5-a66733bf8918 div.sk-label input.sk-toggleable__control:checked~label.sk-toggleable__label {background-color: #d4ebff;}#sk-1c15a077-5f0f-4121-8dc5-a66733bf8918 input.sk-hidden--visually {border: 0;clip: rect(1px 1px 1px 1px);clip: rect(1px, 1px, 1px, 1px);height: 1px;margin: -1px;overflow: hidden;padding: 0;position: absolute;width: 1px;}#sk-1c15a077-5f0f-4121-8dc5-a66733bf8918 div.sk-estimator {font-family: monospace;background-color: #f0f8ff;border: 1px dotted black;border-radius: 0.25em;box-sizing: border-box;margin-bottom: 0.5em;}#sk-1c15a077-5f0f-4121-8dc5-a66733bf8918 div.sk-estimator:hover {background-color: #d4ebff;}#sk-1c15a077-5f0f-4121-8dc5-a66733bf8918 div.sk-parallel-item::after {content: \"\";width: 100%;border-bottom: 1px solid gray;flex-grow: 1;}#sk-1c15a077-5f0f-4121-8dc5-a66733bf8918 div.sk-label:hover label.sk-toggleable__label {background-color: #d4ebff;}#sk-1c15a077-5f0f-4121-8dc5-a66733bf8918 div.sk-serial::before {content: \"\";position: absolute;border-left: 1px solid gray;box-sizing: border-box;top: 2em;bottom: 0;left: 50%;}#sk-1c15a077-5f0f-4121-8dc5-a66733bf8918 div.sk-serial {display: flex;flex-direction: column;align-items: center;background-color: white;padding-right: 0.2em;padding-left: 0.2em;}#sk-1c15a077-5f0f-4121-8dc5-a66733bf8918 div.sk-item {z-index: 1;}#sk-1c15a077-5f0f-4121-8dc5-a66733bf8918 div.sk-parallel {display: flex;align-items: stretch;justify-content: center;background-color: white;}#sk-1c15a077-5f0f-4121-8dc5-a66733bf8918 div.sk-parallel::before {content: \"\";position: absolute;border-left: 1px solid gray;box-sizing: border-box;top: 2em;bottom: 0;left: 50%;}#sk-1c15a077-5f0f-4121-8dc5-a66733bf8918 div.sk-parallel-item {display: flex;flex-direction: column;position: relative;background-color: white;}#sk-1c15a077-5f0f-4121-8dc5-a66733bf8918 div.sk-parallel-item:first-child::after {align-self: flex-end;width: 50%;}#sk-1c15a077-5f0f-4121-8dc5-a66733bf8918 div.sk-parallel-item:last-child::after {align-self: flex-start;width: 50%;}#sk-1c15a077-5f0f-4121-8dc5-a66733bf8918 div.sk-parallel-item:only-child::after {width: 0;}#sk-1c15a077-5f0f-4121-8dc5-a66733bf8918 div.sk-dashed-wrapped {border: 1px dashed gray;margin: 0 0.4em 0.5em 0.4em;box-sizing: border-box;padding-bottom: 0.4em;background-color: white;position: relative;}#sk-1c15a077-5f0f-4121-8dc5-a66733bf8918 div.sk-label label {font-family: monospace;font-weight: bold;background-color: white;display: inline-block;line-height: 1.2em;}#sk-1c15a077-5f0f-4121-8dc5-a66733bf8918 div.sk-label-container {position: relative;z-index: 2;text-align: center;}#sk-1c15a077-5f0f-4121-8dc5-a66733bf8918 div.sk-container {/* jupyter's `normalize.less` sets `[hidden] { display: none; }` but bootstrap.min.css set `[hidden] { display: none !important; }` so we also need the `!important` here to be able to override the default hidden behavior on the sphinx rendered scikit-learn.org. See: https://github.com/scikit-learn/scikit-learn/issues/21755 */display: inline-block !important;position: relative;}#sk-1c15a077-5f0f-4121-8dc5-a66733bf8918 div.sk-text-repr-fallback {display: none;}</style><div id=\"sk-1c15a077-5f0f-4121-8dc5-a66733bf8918\" class=\"sk-top-container\"><div class=\"sk-text-repr-fallback\"><pre>KNeighborsClassifier(n_neighbors=40)</pre><b>Please rerun this cell to show the HTML repr or trust the notebook.</b></div><div class=\"sk-container\" hidden><div class=\"sk-item\"><div class=\"sk-estimator sk-toggleable\"><input class=\"sk-toggleable__control sk-hidden--visually\" id=\"118efb62-55a4-4ec8-9be5-0225a87a4b7c\" type=\"checkbox\" checked><label for=\"118efb62-55a4-4ec8-9be5-0225a87a4b7c\" class=\"sk-toggleable__label sk-toggleable__label-arrow\">KNeighborsClassifier</label><div class=\"sk-toggleable__content\"><pre>KNeighborsClassifier(n_neighbors=40)</pre></div></div></div></div></div>"
      ],
      "text/plain": [
       "KNeighborsClassifier(n_neighbors=40)"
      ]
     },
     "execution_count": 125,
     "metadata": {},
     "output_type": "execute_result"
    }
   ],
   "source": [
    "b = GridSearchCV(knn, param_grid_knn, scoring='accuracy', cv=3).fit(X_train, y_train)\n",
    "b.best_estimator_"
   ]
  },
  {
   "cell_type": "code",
   "execution_count": 134,
   "metadata": {
    "colab": {
     "base_uri": "https://localhost:8080/",
     "height": 75
    },
    "id": "sELBF1V2cV5s",
    "outputId": "3eea576b-3f3f-4051-a17d-f71904a952b6"
   },
   "outputs": [
    {
     "data": {
      "text/html": [
       "<style>#sk-a1cd67a3-f451-4967-9070-9dc6be4bb941 {color: black;background-color: white;}#sk-a1cd67a3-f451-4967-9070-9dc6be4bb941 pre{padding: 0;}#sk-a1cd67a3-f451-4967-9070-9dc6be4bb941 div.sk-toggleable {background-color: white;}#sk-a1cd67a3-f451-4967-9070-9dc6be4bb941 label.sk-toggleable__label {cursor: pointer;display: block;width: 100%;margin-bottom: 0;padding: 0.3em;box-sizing: border-box;text-align: center;}#sk-a1cd67a3-f451-4967-9070-9dc6be4bb941 label.sk-toggleable__label-arrow:before {content: \"▸\";float: left;margin-right: 0.25em;color: #696969;}#sk-a1cd67a3-f451-4967-9070-9dc6be4bb941 label.sk-toggleable__label-arrow:hover:before {color: black;}#sk-a1cd67a3-f451-4967-9070-9dc6be4bb941 div.sk-estimator:hover label.sk-toggleable__label-arrow:before {color: black;}#sk-a1cd67a3-f451-4967-9070-9dc6be4bb941 div.sk-toggleable__content {max-height: 0;max-width: 0;overflow: hidden;text-align: left;background-color: #f0f8ff;}#sk-a1cd67a3-f451-4967-9070-9dc6be4bb941 div.sk-toggleable__content pre {margin: 0.2em;color: black;border-radius: 0.25em;background-color: #f0f8ff;}#sk-a1cd67a3-f451-4967-9070-9dc6be4bb941 input.sk-toggleable__control:checked~div.sk-toggleable__content {max-height: 200px;max-width: 100%;overflow: auto;}#sk-a1cd67a3-f451-4967-9070-9dc6be4bb941 input.sk-toggleable__control:checked~label.sk-toggleable__label-arrow:before {content: \"▾\";}#sk-a1cd67a3-f451-4967-9070-9dc6be4bb941 div.sk-estimator input.sk-toggleable__control:checked~label.sk-toggleable__label {background-color: #d4ebff;}#sk-a1cd67a3-f451-4967-9070-9dc6be4bb941 div.sk-label input.sk-toggleable__control:checked~label.sk-toggleable__label {background-color: #d4ebff;}#sk-a1cd67a3-f451-4967-9070-9dc6be4bb941 input.sk-hidden--visually {border: 0;clip: rect(1px 1px 1px 1px);clip: rect(1px, 1px, 1px, 1px);height: 1px;margin: -1px;overflow: hidden;padding: 0;position: absolute;width: 1px;}#sk-a1cd67a3-f451-4967-9070-9dc6be4bb941 div.sk-estimator {font-family: monospace;background-color: #f0f8ff;border: 1px dotted black;border-radius: 0.25em;box-sizing: border-box;margin-bottom: 0.5em;}#sk-a1cd67a3-f451-4967-9070-9dc6be4bb941 div.sk-estimator:hover {background-color: #d4ebff;}#sk-a1cd67a3-f451-4967-9070-9dc6be4bb941 div.sk-parallel-item::after {content: \"\";width: 100%;border-bottom: 1px solid gray;flex-grow: 1;}#sk-a1cd67a3-f451-4967-9070-9dc6be4bb941 div.sk-label:hover label.sk-toggleable__label {background-color: #d4ebff;}#sk-a1cd67a3-f451-4967-9070-9dc6be4bb941 div.sk-serial::before {content: \"\";position: absolute;border-left: 1px solid gray;box-sizing: border-box;top: 2em;bottom: 0;left: 50%;}#sk-a1cd67a3-f451-4967-9070-9dc6be4bb941 div.sk-serial {display: flex;flex-direction: column;align-items: center;background-color: white;padding-right: 0.2em;padding-left: 0.2em;}#sk-a1cd67a3-f451-4967-9070-9dc6be4bb941 div.sk-item {z-index: 1;}#sk-a1cd67a3-f451-4967-9070-9dc6be4bb941 div.sk-parallel {display: flex;align-items: stretch;justify-content: center;background-color: white;}#sk-a1cd67a3-f451-4967-9070-9dc6be4bb941 div.sk-parallel::before {content: \"\";position: absolute;border-left: 1px solid gray;box-sizing: border-box;top: 2em;bottom: 0;left: 50%;}#sk-a1cd67a3-f451-4967-9070-9dc6be4bb941 div.sk-parallel-item {display: flex;flex-direction: column;position: relative;background-color: white;}#sk-a1cd67a3-f451-4967-9070-9dc6be4bb941 div.sk-parallel-item:first-child::after {align-self: flex-end;width: 50%;}#sk-a1cd67a3-f451-4967-9070-9dc6be4bb941 div.sk-parallel-item:last-child::after {align-self: flex-start;width: 50%;}#sk-a1cd67a3-f451-4967-9070-9dc6be4bb941 div.sk-parallel-item:only-child::after {width: 0;}#sk-a1cd67a3-f451-4967-9070-9dc6be4bb941 div.sk-dashed-wrapped {border: 1px dashed gray;margin: 0 0.4em 0.5em 0.4em;box-sizing: border-box;padding-bottom: 0.4em;background-color: white;position: relative;}#sk-a1cd67a3-f451-4967-9070-9dc6be4bb941 div.sk-label label {font-family: monospace;font-weight: bold;background-color: white;display: inline-block;line-height: 1.2em;}#sk-a1cd67a3-f451-4967-9070-9dc6be4bb941 div.sk-label-container {position: relative;z-index: 2;text-align: center;}#sk-a1cd67a3-f451-4967-9070-9dc6be4bb941 div.sk-container {/* jupyter's `normalize.less` sets `[hidden] { display: none; }` but bootstrap.min.css set `[hidden] { display: none !important; }` so we also need the `!important` here to be able to override the default hidden behavior on the sphinx rendered scikit-learn.org. See: https://github.com/scikit-learn/scikit-learn/issues/21755 */display: inline-block !important;position: relative;}#sk-a1cd67a3-f451-4967-9070-9dc6be4bb941 div.sk-text-repr-fallback {display: none;}</style><div id=\"sk-a1cd67a3-f451-4967-9070-9dc6be4bb941\" class=\"sk-top-container\"><div class=\"sk-text-repr-fallback\"><pre>LogisticRegression(C=0.07210526315789473, max_iter=50)</pre><b>Please rerun this cell to show the HTML repr or trust the notebook.</b></div><div class=\"sk-container\" hidden><div class=\"sk-item\"><div class=\"sk-estimator sk-toggleable\"><input class=\"sk-toggleable__control sk-hidden--visually\" id=\"8941767e-ffce-4591-93c2-5c8fa4633b18\" type=\"checkbox\" checked><label for=\"8941767e-ffce-4591-93c2-5c8fa4633b18\" class=\"sk-toggleable__label sk-toggleable__label-arrow\">LogisticRegression</label><div class=\"sk-toggleable__content\"><pre>LogisticRegression(C=0.07210526315789473, max_iter=50)</pre></div></div></div></div></div>"
      ],
      "text/plain": [
       "LogisticRegression(C=0.07210526315789473, max_iter=50)"
      ]
     },
     "execution_count": 134,
     "metadata": {},
     "output_type": "execute_result"
    }
   ],
   "source": [
    "a = GridSearchCV(lr, param_grid_lr, scoring='accuracy', cv=3).fit(X_train, y_train)\n",
    "a.best_estimator_"
   ]
  },
  {
   "cell_type": "code",
   "execution_count": 135,
   "metadata": {
    "colab": {
     "base_uri": "https://localhost:8080/",
     "height": 35
    },
    "id": "DFDqYhEX4KHt",
    "outputId": "34644041-80f4-4379-e2b8-96365144a144"
   },
   "outputs": [
    {
     "data": {
      "application/vnd.google.colaboratory.intrinsic+json": {
       "type": "string"
      },
      "text/plain": [
       "'lbfgs'"
      ]
     },
     "execution_count": 135,
     "metadata": {},
     "output_type": "execute_result"
    }
   ],
   "source": [
    "a.best_estimator_.solver"
   ]
  },
  {
   "cell_type": "code",
   "execution_count": 136,
   "metadata": {
    "id": "6xa1OXOkiHiR"
   },
   "outputs": [],
   "source": [
    "best_lr = a.best_estimator_\n",
    "best_lr.fit(X_train, y_train);"
   ]
  },
  {
   "cell_type": "code",
   "execution_count": 137,
   "metadata": {
    "id": "kYlRmC8iNCPg"
   },
   "outputs": [],
   "source": [
    "best_knn = b.best_estimator_\n",
    "best_knn.fit(X_train, y_train);"
   ]
  },
  {
   "cell_type": "code",
   "execution_count": 138,
   "metadata": {
    "colab": {
     "base_uri": "https://localhost:8080/"
    },
    "id": "ErVXYB10PjXx",
    "outputId": "78fd6592-37eb-4e63-b9eb-102e956f7e89"
   },
   "outputs": [
    {
     "data": {
      "text/plain": [
       "0.7789"
      ]
     },
     "execution_count": 138,
     "metadata": {},
     "output_type": "execute_result"
    }
   ],
   "source": [
    "accuracy_score(y_test, best_lr.predict(X_test))"
   ]
  },
  {
   "cell_type": "code",
   "execution_count": 139,
   "metadata": {
    "colab": {
     "base_uri": "https://localhost:8080/"
    },
    "id": "XGshMK_pNHHc",
    "outputId": "62db811a-9e3c-4fd6-fe6f-781ac2cb19c6"
   },
   "outputs": [
    {
     "data": {
      "text/plain": [
       "0.7763"
      ]
     },
     "execution_count": 139,
     "metadata": {},
     "output_type": "execute_result"
    }
   ],
   "source": [
    "accuracy_score(y_test, best_knn.predict(X_test))"
   ]
  },
  {
   "cell_type": "code",
   "execution_count": 140,
   "metadata": {
    "id": "TZ5R1DU4jr_0"
   },
   "outputs": [],
   "source": [
    "sub = pd.read_csv('sample_submission.csv')\n",
    "sub_test = pd.read_csv('test.csv').set_index('PassengerId')\n",
    "sub_test = prepare_features(sub_test)\n",
    "sub_test = preprocessor.transform(sub_test)\n",
    "predictions = best_lr.predict(sub_test)\n",
    "sub['Survived'] = predictions\n",
    "sub.to_csv('submission.csv', index=False)"
   ]
  },
  {
   "cell_type": "markdown",
   "metadata": {
    "id": "lfPxf-tH2Pmp"
   },
   "source": [
    "Select the best model, load the test set and make the predictions. Submit them to kaggle and see the results :)\n",
    "\n",
    "**Note**. X points will depend on your kaggle public leaderboard score.\n",
    "$$ f(score) = 1.0, \\ \\ 0.79 \\leq score < 0.80,$$\n",
    "$$ f(score) = 2.5, \\ \\ 0.80 \\leq score < 0.81,$$ \n",
    "$$ f(score) = 4.0, \\ \\ 0.81 \\leq score $$ \n",
    "Your code should generate the output submitted to kaggle. Fix random seeds to make the results reproducible."
   ]
  },
  {
   "cell_type": "markdown",
   "metadata": {
    "id": "NO4FQiyMV2sT"
   },
   "source": [
    "![image.png](data:image/png;base64,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)"
   ]
  }
 ],
 "metadata": {
  "colab": {
   "collapsed_sections": [],
   "name": "hw_classification.ipynb",
   "provenance": []
  },
  "hide_input": false,
  "kernelspec": {
   "display_name": "Python 3 (ipykernel)",
   "language": "python",
   "name": "python3"
  },
  "language_info": {
   "codemirror_mode": {
    "name": "ipython",
    "version": 3
   },
   "file_extension": ".py",
   "mimetype": "text/x-python",
   "name": "python",
   "nbconvert_exporter": "python",
   "pygments_lexer": "ipython3",
   "version": "3.9.0"
  },
  "toc": {
   "base_numbering": 1,
   "nav_menu": {},
   "number_sections": true,
   "sideBar": true,
   "skip_h1_title": false,
   "title_cell": "Table of Contents",
   "title_sidebar": "Contents",
   "toc_cell": false,
   "toc_position": {},
   "toc_section_display": true,
   "toc_window_display": true
  }
 },
 "nbformat": 4,
 "nbformat_minor": 1
}
